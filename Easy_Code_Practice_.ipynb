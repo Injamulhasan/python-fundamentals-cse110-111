{
  "nbformat": 4,
  "nbformat_minor": 0,
  "metadata": {
    "colab": {
      "name": "Easy Code Practice .ipynb",
      "provenance": [],
      "collapsed_sections": []
    },
    "kernelspec": {
      "name": "python3",
      "display_name": "Python 3"
    },
    "language_info": {
      "name": "python"
    }
  },
  "cells": [
    {
      "cell_type": "markdown",
      "metadata": {
        "id": "NGjZ3FyIRZVA"
      },
      "source": [
        "1.Sum of Odd Numbers\n",
        "Write a program to find the sum of odd numbers in first N natural numbers.\n",
        "Input\n",
        "The input is an integer N.\n",
        "Output\n",
        "he output should be an integer containing the sum of odd numbers up to the given\n",
        "number.\n",
        "\n",
        "\n",
        "Explanation\n",
        "In the given example sum of odd numbers less than\n",
        "\n",
        "N = 10 are total = 1 + 3 + 5 + 7 + 9\n",
        "So, the output should be\n",
        "25.\n",
        "Sample Input 1\n",
        "10\n",
        "Sample Output 1\n",
        "25\n",
        "Sample Input 2\n",
        "5\n",
        "Sample Output 2\n",
        "9"
      ]
    },
    {
      "cell_type": "code",
      "metadata": {
        "id": "ZZvnYcOdRoTL"
      },
      "source": [
        "# Sum of Odd Numbers\n",
        "n = int(input())\n",
        "counter = 0\n",
        "for num in range(n):\n",
        "    if num%2!=0:\n",
        "        counter+=(num)**2\n",
        "print(counter) \n",
        "        \n"
      ],
      "execution_count": null,
      "outputs": []
    },
    {
      "cell_type": "markdown",
      "metadata": {
        "id": "QE4eBhLgRsoO"
      },
      "source": [
        "2.You are given a positive integer N. Your task is to find the number of positive integers K <= N such that K is not divisible by any of the following numbers 2, 3, 4, 5, 6, 7, 8, 9, 10.\n",
        "\n",
        "In the given example,\n",
        "\n",
        "11 is not divisible by any number from 2 to 10. It is divisible by only 1, 11.So, the output should be 2\n"
      ]
    },
    {
      "cell_type": "code",
      "metadata": {
        "colab": {
          "base_uri": "https://localhost:8080/"
        },
        "id": "sGlCfpJ74DBt",
        "outputId": "ff2b5d86-ebdc-46fa-f4e5-3af7bfabf99c"
      },
      "source": [
        "# enter the numper\n",
        "n = int(input(\"Enter the number: \"))\n",
        "new1 =0\n",
        "number = 0\n",
        "for i in range(1,n+1):\n",
        "    if i % 2 != 0 and i % 3 != 0 and i % 4 != 0 and i % 5 != 0 and i % 6 != 0 and i % 7 != 0 and i % 8 != 0 and i % 9 != 0 and i % 10 != 0:\n",
        "      new1+=i\n",
        "      number += 1\n",
        "print(number)\n",
        "print(new1)"
      ],
      "execution_count": null,
      "outputs": [
        {
          "output_type": "stream",
          "name": "stdout",
          "text": [
            "Enter the number: 200\n",
            "47\n",
            "4831\n"
          ]
        }
      ]
    },
    {
      "cell_type": "code",
      "metadata": {
        "colab": {
          "base_uri": "https://localhost:8080/"
        },
        "id": "bNWEGMAbR7ix",
        "outputId": "1b744efd-d4c8-4d25-f41a-3c3e535d9df5"
      },
      "source": [
        "################################################################################\n",
        "n = int(input())\n",
        "m = []\n",
        "nos = [2,3,4,5,6,7,8,9,10]\n",
        "for i in range (1,n+1,1):\n",
        "  for value in nos:\n",
        "    if n%i==0 and i%value!=0:\n",
        "      m.append(i)\n",
        "m = list(set(m))  #Alter: m = list(dict.fromkeys(m))\n",
        "print(m)\n",
        "count = 0\n",
        "for k in m:\n",
        "  count+=1\n",
        "print(count)"
      ],
      "execution_count": null,
      "outputs": [
        {
          "output_type": "stream",
          "name": "stdout",
          "text": [
            "200\n",
            "[1, 2, 4, 5, 100, 8, 40, 10, 200, 50, 20, 25]\n",
            "12\n"
          ]
        }
      ]
    },
    {
      "cell_type": "markdown",
      "metadata": {
        "id": "X3XkhfLlR4Jv"
      },
      "source": [
        " 3.Finding Difference\n",
        "Write a program to print the absolute difference between the two given numbers.\n",
        "(Absolute difference is the difference without the negative sign)Input\n",
        "The first line of the input will be an integer N1.\n",
        "The second line of the input will be an integer N2.Output\n",
        "Print the absolute difference of the given two numbers.Explanation\n",
        "For example, if the given N1 is 200 and N2 is 500\n",
        "The difference in number is 200 - 500 = -300\n",
        "The absolute difference is 300."
      ]
    },
    {
      "cell_type": "code",
      "metadata": {
        "colab": {
          "base_uri": "https://localhost:8080/"
        },
        "id": "Ggqy3CwdR8oh",
        "outputId": "ba3608a4-992a-42d4-afec-a331c0e1a3d3"
      },
      "source": [
        "n1 = float(input())\n",
        "n2 = float(input())\n",
        "diff = round(n1 - n2)\n",
        "diff1 = float(n1 - n2)\n",
        "if diff < 0 :\n",
        "  print(diff*-1)\n",
        "  print(diff1*-1)\n",
        "elif diff == 0:\n",
        "  print(\"ZERO\")\n",
        "  print(\"ZERO\")\n",
        "elif diff > 0:\n",
        "  print(diff*1)\n",
        "  print(diff1*1)"
      ],
      "execution_count": null,
      "outputs": [
        {
          "output_type": "stream",
          "name": "stdout",
          "text": [
            "345.89843\n",
            "846.25532\n",
            "500\n",
            "500.35688999999996\n"
          ]
        }
      ]
    },
    {
      "cell_type": "markdown",
      "metadata": {
        "id": "gqDheXp_R9Kg"
      },
      "source": [
        "4.Sum of Even numbers\n",
        "Write a program to find the sum of even numbers in first N natural numbers.\n",
        "Input\n",
        "The input is an integer N.\n",
        "Output\n",
        "The output should be an integer containing the sum of even numbers upto the given\n",
        "number.\n",
        "Explanation\n",
        "In the given example\n",
        "N = 5, the even natural numbers below 5 are 2, 4 Then total = 2 + 4.\n",
        "So, the output should be\n",
        "6.\n",
        "\n",
        "\n",
        "Sample Input 1:\n",
        "5\n",
        "Sample Output 1:\n",
        "6\n",
        "Sample Input 2:\n",
        "4\n",
        "Sample Output 2:"
      ]
    },
    {
      "cell_type": "code",
      "metadata": {
        "id": "xWG6IKD2S1L0"
      },
      "source": [
        ""
      ],
      "execution_count": null,
      "outputs": []
    },
    {
      "cell_type": "markdown",
      "metadata": {
        "id": "TraBsa64SbEq"
      },
      "source": [
        "5.In a bank there are two types of transactions: credit and debit. All transactions are\n",
        "assigned an alphabetical ID. Credit transactions are assigned a vowel and debit\n",
        "transactions are assigned a consonant. To track transactions over a year, all the\n",
        "transaction IDs are combined to form a string of IDs for each customer. A customer\n",
        "wishes to know the number of times he made a debit transaction immediately after a\n",
        "credit transaction.\n",
        "Write an algorithm to print the count of debit transactions that were made immediately\n",
        "afte a credit transaction for that particular customer.\n",
        "Input\n",
        "The first line of the input consists of a string userString, representing the string of\n",
        "transaction IDs.\n",
        "Output\n",
        "Print an integer representing the count of det transactions made immediately after a\n",
        "credit\n"
      ]
    },
    {
      "cell_type": "code",
      "metadata": {
        "id": "hOVebe4GS0Yv"
      },
      "source": [
        ""
      ],
      "execution_count": null,
      "outputs": []
    },
    {
      "cell_type": "markdown",
      "metadata": {
        "id": "vvgVCo0GSg8V"
      },
      "source": [
        "6.Temperature Conversion\n",
        "You are given the temperature T of an object in one of Celsius, Fahrenheit, and Kelvin\n",
        "scales. Write a program to print T in all scales viz Celsius, Fahrenheit, and Kelvin.\n",
        "Formula to convert from Fahrenheit F to Celsius C is C = (F - 32) * 5 / 9.Formula to\n",
        "convert from Kelvin K to Celsius C is C = K - 273.Here \"C\", \"F\", \"K\" represent that the\n",
        "temperature scale is in Celsius, Fahrenheit and Kelvin scales respectively. The input\n",
        "contains the temperature (a number) and the unit of the temperature scale (C,F, K)\n",
        "without any space. The output contains temperature in Celsius, Fahrenheit and Kelvin\n",
        "scales in each line in the format similar to input and the value of the temperature is\n",
        "rounded to 2 decimal places.\n"
      ]
    },
    {
      "cell_type": "code",
      "metadata": {
        "id": "EWcSr5ZtS82f"
      },
      "source": [
        ""
      ],
      "execution_count": null,
      "outputs": []
    },
    {
      "cell_type": "code",
      "metadata": {
        "id": "ZZzDzDnGS8nq"
      },
      "source": [
        "i = input(\"Enter the temperature : \")\n",
        "if i[-1] == \"k\" or i[-1] == \"K\":\n",
        "x = int(i[:-1])\n",
        "c = x - 273\n",
        "k = x\n",
        "f = (9*c/5) + 32\n",
        "print(\"Temperature in Celcius is :\",c,\" C\")\n",
        "print(\"Temperature in Kelvin is :\",k,\" K\")\n",
        "print(\"Temperature in Fahrenheit is :\",f,\" F\")\n",
        "if i[-1] == \"c\" or i[-1] == \"C\":\n",
        "x = int(i[:-1])\n",
        "c = x - 273\n",
        "k = x\n",
        "f = (9*c/5) + 32\n",
        "print(\"Temperature in Celcius is :\",c,\" C\")\n",
        "print(\"Temperature in Kelvin is :\",k,\" K\")\n",
        "print(\"Temperature in Fahrenheit is :\",f,\" F\")\n",
        "if i[-1] == \"f\" or i[-1] == \"F\":\n",
        "x = int(i[:-1])\n",
        "c = x - 273\n",
        "k = x\n",
        "f = (9*c/5) + 32\n",
        "print(\"Temperature in Celcius is :\",c,\" C\")\n",
        "print(\"Temperature in Kelvin is :\",k,\" K\")\n",
        "print(\"Temperature in Fahrenheit is :\",f,\" F\")"
      ],
      "execution_count": null,
      "outputs": []
    },
    {
      "cell_type": "code",
      "metadata": {
        "id": "5WR6cSAES75Y"
      },
      "source": [
        "t = input()\n",
        "scale = t[-1]\n",
        "t = float(t[:-1])\n",
        "if scale == 'C':\n",
        "print(f'{round(t, 2)}C')\n",
        "print(f'{round(t * 9 / 5 + 32, 2)}F')\n",
        "print(f'{round(t + 273, 2)}K')\n",
        "elif scale == 'K':\n",
        "print(f'{round(t - 273, 2)}C')\n",
        "print(f'{round((t - 273) * 9 / 5 + 32, 2)}F')\n",
        "print(f'{round(t, 2)}K')\n",
        "elif scale == 'F':\n",
        "print(f'{round((t - 32) * 5 / 9, 2)}C')\n",
        "print(f'{round(t, 2)}F')\n",
        "print(f'{round((t - 32) * 5 / 9 + 273, 2)}K')"
      ],
      "execution_count": null,
      "outputs": []
    },
    {
      "cell_type": "markdown",
      "metadata": {
        "id": "uSDoWtNDSkxj"
      },
      "source": [
        "7.Suppose the following expressions are used to calculate the values of L for\n",
        "different values of S:\n",
        "Suppose the following expressions are used to calculate the values of L for different\n",
        "values of S"
      ]
    },
    {
      "cell_type": "code",
      "metadata": {
        "id": "3DcmZKuKSyxa"
      },
      "source": [
        ""
      ],
      "execution_count": null,
      "outputs": []
    },
    {
      "cell_type": "markdown",
      "metadata": {
        "id": "zgoLaZb2StPi"
      },
      "source": [
        "8.Write a Python code of a program that reads a value of S and then calculates the\n",
        "value of L.\n",
        "\n",
        "hint(1): You can import math and use math function for making squares\n",
        "math.pow(number, power) Or you can simply write S**2.\n",
        "hint(2): The value of S(user input) will be an integer\n",
        "\n",
        "Example01:\n",
        "Input: 120\n",
        "Output: 2416.2162162162163\n",
        "\n",
        "Example02:\n",
        "Input: 3\n",
        "Output: 1875\n",
        "bold text"
      ]
    },
    {
      "cell_type": "code",
      "metadata": {
        "id": "cuzkQzJnSzo6"
      },
      "source": [
        ""
      ],
      "execution_count": null,
      "outputs": []
    }
  ]
}