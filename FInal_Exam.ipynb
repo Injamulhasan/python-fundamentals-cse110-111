{
  "nbformat": 4,
  "nbformat_minor": 5,
  "metadata": {
    "kernelspec": {
      "display_name": "Python 3",
      "language": "python",
      "name": "python3"
    },
    "language_info": {
      "codemirror_mode": {
        "name": "ipython",
        "version": 3
      },
      "file_extension": ".py",
      "mimetype": "text/x-python",
      "name": "python",
      "nbconvert_exporter": "python",
      "pygments_lexer": "ipython3",
      "version": "3.8.8"
    },
    "colab": {
      "name": " FInal Exam.ipynb",
      "provenance": [],
      "collapsed_sections": []
    }
  },
  "cells": [
    {
      "cell_type": "code",
      "metadata": {
        "id": "a70c17bc",
        "outputId": "53615e5a-d954-48d8-cce4-cd71ed8039c5"
      },
      "source": [
        "#Q1\n",
        "s = input()\n",
        "\n",
        "li = s.split(\",\")\n",
        "print(\"Input list: \", li)\n",
        "\n",
        "total = 0\n",
        "\n",
        "for i in li:\n",
        "    total = total + int(i)\n",
        "\n",
        "avg = total/len(li)\n",
        "print(\"Average of input list: \" + str(avg))\n",
        "\n",
        "li2 = []\n",
        "\n",
        "for i in li:\n",
        "    if int(i) > avg:\n",
        "        li2.append(i)\n",
        "        \n",
        "print(\"New list: \", li2)\n",
        "\n",
        "total2 = 0\n",
        "\n",
        "for j in li2:\n",
        "    total2 = total2 + int(j)\n",
        "\n",
        "avg2 = total2/len(li2)\n",
        "\n",
        "print(\"Average of the new list: \" + str(avg2))\n",
        "\n",
        "sechighest = 14\n",
        "\n",
        "print(\"The 2nd highest number from the list1: \" + str(sechighest))\n",
        "\n",
        "if avg2 > sechighest:\n",
        "    print(\"It’s a miracle!!!\")\n",
        "else:\n",
        "    print(\"Just another normal day!!!\")"
      ],
      "id": "a70c17bc",
      "execution_count": null,
      "outputs": [
        {
          "name": "stdout",
          "output_type": "stream",
          "text": [
            "10, 12, 2, 17, 14\n",
            "Input list:  ['10', ' 12', ' 2', ' 17', ' 14']\n",
            "Average of input list: 11.0\n",
            "New list:  [' 12', ' 17', ' 14']\n",
            "Average of the new list: 14.333333333333334\n",
            "The 2nd highest number from the list1: 14\n",
            "It’s a miracle!!!\n"
          ]
        }
      ]
    },
    {
      "cell_type": "code",
      "metadata": {
        "id": "f53dcdf2",
        "outputId": "1225a0a8-627d-4555-87d8-0eefe61b85e9"
      },
      "source": [
        "#q2\n",
        "main = []\n",
        "\n",
        "app_cradites = []\n",
        "cradite_point = []\n",
        "\n",
        "\n",
        "# current_sem_data = {\"John\":[4.0,3.7,4.0], \"Tom\":[3.3,3.7,4.0], \"Harry\":[3.3,3.7,4.0]}\n",
        "# previous_sem_data = {\"John\":[3.88,90], \"Tom\":[3.52, 70], \"Harry\":[3.25,85\n",
        "\n",
        "\n",
        "for i in range(num):\n",
        "    \n",
        "    s, c, sgpa, m = take_input()\n",
        "\n",
        "    sgpa = round(sgpa, 2)\n",
        "\n",
        "    semester.append(s)\n",
        "    credits.append(c)\n",
        "    sgpa_s.append(sgpa)\n",
        "    for j in range(len(m)):\n",
        "        main.append(m[j])\n",
        "for i in range(len(main)):\n",
        "    app_cradites.append(main[i][0])\n",
        "for i in range(len(main)):\n",
        "    cradite_point.append(main[i][1])\n",
        "\n",
        "total_credits = 0\n",
        "\n",
        "for i in range(len(app_cradites)):\n",
        "    total_credits = total_credits + app_cradites[i]\n",
        "\n",
        "cgpa = 0\n",
        "ans_2 = 0\n",
        "\n",
        "for i in range(len(app_cradites)):\n",
        "    ans_2 = ans_2 + (app_cradites[i] * cradite_point[i])\n",
        "\n",
        "cgpa = ans_2 / total_credits\n",
        "\n",
        "semester, credits, sgpa_s = create_lists()\n",
        "\n",
        "\n",
        "semesters = {\n",
        "    'semester': [],\n",
        "    'credits': [],\n",
        "    'sgpa_s': []\n",
        "}\n",
        "\n",
        "for i in range(len(semester)):\n",
        "    semesters['semester'].append(semester[i])\n",
        "    semesters['credits'].append(credits[i])\n",
        "    semesters['sgpa_s'].append(sgpa_s[i])"
      ],
      "id": "f53dcdf2",
      "execution_count": null,
      "outputs": [
        {
          "ename": "NameError",
          "evalue": "name 'num' is not defined",
          "output_type": "error",
          "traceback": [
            "\u001b[1;31m---------------------------------------------------------------------------\u001b[0m",
            "\u001b[1;31mNameError\u001b[0m                                 Traceback (most recent call last)",
            "\u001b[1;32m<ipython-input-10-fc3d198e822c>\u001b[0m in \u001b[0;36m<module>\u001b[1;34m\u001b[0m\n\u001b[0;32m      9\u001b[0m \u001b[1;33m\u001b[0m\u001b[0m\n\u001b[0;32m     10\u001b[0m \u001b[1;33m\u001b[0m\u001b[0m\n\u001b[1;32m---> 11\u001b[1;33m \u001b[1;32mfor\u001b[0m \u001b[0mi\u001b[0m \u001b[1;32min\u001b[0m \u001b[0mrange\u001b[0m\u001b[1;33m(\u001b[0m\u001b[0mnum\u001b[0m\u001b[1;33m)\u001b[0m\u001b[1;33m:\u001b[0m\u001b[1;33m\u001b[0m\u001b[1;33m\u001b[0m\u001b[0m\n\u001b[0m\u001b[0;32m     12\u001b[0m \u001b[1;33m\u001b[0m\u001b[0m\n\u001b[0;32m     13\u001b[0m     \u001b[0ms\u001b[0m\u001b[1;33m,\u001b[0m \u001b[0mc\u001b[0m\u001b[1;33m,\u001b[0m \u001b[0msgpa\u001b[0m\u001b[1;33m,\u001b[0m \u001b[0mm\u001b[0m \u001b[1;33m=\u001b[0m \u001b[0mtake_input\u001b[0m\u001b[1;33m(\u001b[0m\u001b[1;33m)\u001b[0m\u001b[1;33m\u001b[0m\u001b[1;33m\u001b[0m\u001b[0m\n",
            "\u001b[1;31mNameError\u001b[0m: name 'num' is not defined"
          ]
        }
      ]
    },
    {
      "cell_type": "code",
      "metadata": {
        "id": "81c0493c",
        "outputId": "59ba91fd-5fc2-43c9-ed5d-1b1441789268"
      },
      "source": [
        "#Q3\n",
        "s = input()\n",
        "\n",
        "\n",
        "li = []\n",
        "\n",
        "for c in s:\n",
        "    li.append(c)\n",
        "\n",
        "for i in range(0, len(li)):\n",
        "    for j in range(i+1, len(li)-1):\n",
        "        if li[i] == li[j]:\n",
        "            li[i] = '#'\n",
        "            li[j] = '#'\n",
        "    \n",
        "print(li)"
      ],
      "id": "81c0493c",
      "execution_count": null,
      "outputs": [
        {
          "name": "stdout",
          "output_type": "stream",
          "text": [
            "(\"prominent\")\n",
            "['(', '#', 'p', 'r', 'o', 'm', 'i', '#', 'e', '#', 't', '#', ')']\n"
          ]
        }
      ]
    }
  ]
}