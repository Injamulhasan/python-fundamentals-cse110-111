{
  "nbformat": 4,
  "nbformat_minor": 0,
  "metadata": {
    "colab": {
      "name": "py practice",
      "provenance": []
    },
    "kernelspec": {
      "name": "python3",
      "display_name": "Python 3"
    },
    "language_info": {
      "name": "python"
    }
  },
  "cells": [
    {
      "cell_type": "markdown",
      "metadata": {
        "id": "uEqgTFM6tGkw"
      },
      "source": [
        ""
      ]
    },
    {
      "cell_type": "markdown",
      "metadata": {
        "id": "M4ueU7G_tJVn"
      },
      "source": [
        "1.Exercise 1: Program a formula\n",
        "\n",
        "a) Make a simplest possible Python program that calculates and prints the value of the formula   y=6x2+3x+2,for$x=2$.\n",
        "\n",
        "b) Make a Python function that takes x as argument and returns y. Call the function for x=2 and print the answer."
      ]
    },
    {
      "cell_type": "code",
      "metadata": {
        "id": "jI81l4g_ti6w"
      },
      "source": [
        ""
      ],
      "execution_count": null,
      "outputs": []
    },
    {
      "cell_type": "markdown",
      "metadata": {
        "id": "h_m5gQ8Ftjy3"
      },
      "source": [
        "2.Exercise 2: Combine text and numbers in output\n",
        "\n",
        "Let y=x2. Make a program that writes the text\n",
        "\n",
        "y(2.550)=6.502\n",
        "if x=2.55. The values of x and y should be written with three decimals. Run the program for x=π too (the value if π is available as the variable pi in the math module)."
      ]
    },
    {
      "cell_type": "code",
      "metadata": {
        "id": "lAp_WkFguvyY"
      },
      "source": [
        ""
      ],
      "execution_count": null,
      "outputs": []
    },
    {
      "cell_type": "markdown",
      "metadata": {
        "id": "S526VDpIuwe-"
      },
      "source": [
        "3.Exercise 3: Program a while loop\n",
        "\n",
        "Define a sequence of numbers,\n",
        "\n",
        "xn=n2+1,\n",
        "for integers n=0,1,2,…,N. Write a program that prints out xn for n=0,1,…,20 using a while loop."
      ]
    },
    {
      "cell_type": "code",
      "metadata": {
        "id": "bVoqop0px6U5"
      },
      "source": [
        ""
      ],
      "execution_count": null,
      "outputs": []
    },
    {
      "cell_type": "markdown",
      "metadata": {
        "id": "npLB_Ud3x614"
      },
      "source": [
        "4.Exercise 4: Create a list with a while loop\n",
        "Store all the xn values computed in Exercise 3: Program a while loop in a list (using a while loop). Print the entire list (as one object)."
      ]
    },
    {
      "cell_type": "code",
      "metadata": {
        "id": "4bD4GoTMyOGH"
      },
      "source": [
        ""
      ],
      "execution_count": null,
      "outputs": []
    },
    {
      "cell_type": "markdown",
      "metadata": {
        "id": "naO8yKsVyIzX"
      },
      "source": [
        "5.Exercise 5: Program a for loop.\n",
        "Do Exercise 4: Create a list with a while loop, but use a for loop."
      ]
    },
    {
      "cell_type": "code",
      "metadata": {
        "id": "uZODuhqXyIcv"
      },
      "source": [
        ""
      ],
      "execution_count": null,
      "outputs": []
    },
    {
      "cell_type": "markdown",
      "metadata": {
        "id": "K1BquxNoyUFv"
      },
      "source": [
        "6.Exercise 6: Write a Python function.\n",
        "Write a function x(n) for computing an element in the sequence xn=n2+1. Call the function for n=4 and write out the result."
      ]
    },
    {
      "cell_type": "code",
      "metadata": {
        "id": "_Yo_81CkyZw4"
      },
      "source": [
        ""
      ],
      "execution_count": null,
      "outputs": []
    },
    {
      "cell_type": "markdown",
      "metadata": {
        "id": "DGsfcilRyaG_"
      },
      "source": [
        "7.Exercise 7: Return three values from a Python function\n",
        "Write a Python function that evaluates the mathematical functions f(x)=cos(2x), f′(x)=−2sin(2x), and f′′(x)=−4cos(2x). Return these three values. Write out the results of these values for x=π."
      ]
    },
    {
      "cell_type": "code",
      "metadata": {
        "id": "7ICnDxgRyodH"
      },
      "source": [
        ""
      ],
      "execution_count": null,
      "outputs": []
    },
    {
      "cell_type": "markdown",
      "metadata": {
        "id": "tH5U38o1yhWg"
      },
      "source": [
        "8.Exercise 8: Plot a function\n",
        "Make a program that plots the function g(y)=e−ysin(4y) for y∈[0,4] using a red solid line. Use 500 intervals for evaluating points in [0,4]. Store all coordinates and values in arrays. Set labels on the axis and use a title “Damped sine wave”."
      ]
    },
    {
      "cell_type": "code",
      "metadata": {
        "id": "DDBKIWAtyhGf"
      },
      "source": [
        ""
      ],
      "execution_count": null,
      "outputs": []
    },
    {
      "cell_type": "markdown",
      "metadata": {
        "id": "X0Ex7UAFypkH"
      },
      "source": [
        "9.Exercise 9: Plot two functions.\n",
        "As Exercise 9: Plot two functions, but add a black dashed curve for the function h(y)=e−32ysin(4y). Include a legend for each curve (with names g and h).\n",
        "\n",
        "Solution. Here is the program:"
      ]
    },
    {
      "cell_type": "code",
      "metadata": {
        "id": "oceFC0lpyw0P"
      },
      "source": [
        ""
      ],
      "execution_count": null,
      "outputs": []
    },
    {
      "cell_type": "markdown",
      "metadata": {
        "id": "_gMjf10byxRH"
      },
      "source": [
        "19.Exercise 10: Measure the efficiency of vectorization¶\n",
        "IPython an enhanced interactive shell for doing computing with Python. IPython has some user-friendly functionality for quick testing of the efficiency of different Python constructions. Start IPython by writing ipython in a terminal window. The interactive session below demonstrates how we can use the timer feature %timeit to measure the CPU time required by computing sin(x), where x is an array of 1M elements, using scalar computing with a loop (function sin_func) and vectorized computing using the sin function from numpy."
      ]
    },
    {
      "cell_type": "markdown",
      "metadata": {
        "id": "Bs6cqJ-Cy3VI"
      },
      "source": [
        ""
      ]
    },
    {
      "cell_type": "code",
      "metadata": {
        "id": "nIlOX6Smy2-Q"
      },
      "source": [
        ""
      ],
      "execution_count": null,
      "outputs": []
    }
  ]
}