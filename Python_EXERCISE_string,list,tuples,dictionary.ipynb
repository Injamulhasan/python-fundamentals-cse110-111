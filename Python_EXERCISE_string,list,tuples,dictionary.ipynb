{
  "nbformat": 4,
  "nbformat_minor": 0,
  "metadata": {
    "colab": {
      "name": "Python EXERCISE-string,list,tuples,dictionary.ipynb",
      "provenance": [],
      "collapsed_sections": []
    },
    "kernelspec": {
      "name": "python3",
      "display_name": "Python 3"
    },
    "language_info": {
      "name": "python"
    }
  },
  "cells": [
    {
      "cell_type": "code",
      "metadata": {
        "colab": {
          "base_uri": "https://localhost:8080/"
        },
        "id": "JJjQzNWu1Vro",
        "outputId": "beb69b41-169b-4fe2-9a61-240b1101a2d2"
      },
      "source": [
        "stri = input()\n",
        "count=0 \n",
        "for i in stri:\n",
        "  count+=1\n",
        "print(count)"
      ],
      "execution_count": null,
      "outputs": [
        {
          "output_type": "stream",
          "name": "stdout",
          "text": [
            "akash\n",
            "5\n"
          ]
        }
      ]
    },
    {
      "cell_type": "code",
      "metadata": {
        "colab": {
          "base_uri": "https://localhost:8080/"
        },
        "id": "NMKaWomx-jxo",
        "outputId": "9f0b1e86-c982-4945-8b43-3c9774d8a315"
      },
      "source": [
        "print(\"# hi\\nhello world\")\n",
        "print(\"# hi\\thello world\")\n",
        "print(\"# hi\\'hello world\")\n",
        "print(\"# hi\\\\hello world\")"
      ],
      "execution_count": null,
      "outputs": [
        {
          "output_type": "stream",
          "name": "stdout",
          "text": [
            "# hi\n",
            "hello world\n",
            "# hi\thello world\n",
            "# hi'hello world\n",
            "# hi\\hello world\n"
          ]
        }
      ]
    },
    {
      "cell_type": "code",
      "metadata": {
        "colab": {
          "base_uri": "https://localhost:8080/"
        },
        "id": "GB98kovaAA1q",
        "outputId": "e149fde2-412b-46a7-822e-da0e85388f36"
      },
      "source": [
        "#p1\n",
        "user = input()\n",
        "print(\"Good Afternoon,\"+user)"
      ],
      "execution_count": null,
      "outputs": [
        {
          "output_type": "stream",
          "name": "stdout",
          "text": [
            "Akash\n",
            "Good Afternoon,Akash\n"
          ]
        }
      ]
    },
    {
      "cell_type": "code",
      "metadata": {
        "colab": {
          "base_uri": "https://localhost:8080/"
        },
        "id": "SAgAIfbVAAyI",
        "outputId": "451514dd-1c7a-45b1-8c9c-208ff67fd3f8"
      },
      "source": [
        "letter='''Dear <|NAME|>,  you are selected!!!\n",
        "              <|DATE|>\n",
        "'''\n",
        "letter=letter.replace(\" \",\"\")\n",
        "print(letter)"
      ],
      "execution_count": null,
      "outputs": [
        {
          "output_type": "stream",
          "name": "stdout",
          "text": [
            "akash\n",
            "2021\n",
            "Dear <|akash|>,\n",
            "                  you are selected!!!\n",
            "                              <|2021|>\n",
            "\n"
          ]
        }
      ]
    },
    {
      "cell_type": "code",
      "metadata": {
        "id": "ZpUQZY0DAAqq",
        "colab": {
          "base_uri": "https://localhost:8080/"
        },
        "outputId": "848dcc83-9c8e-4851-d744-7d14d4a630d5"
      },
      "source": [
        "letter='''Dear <|NAME|>,  you are selected!!!  <|DATE|>\n",
        "'''\n",
        "letter=letter.replace(\" \",\"\")\n",
        "print(letter)"
      ],
      "execution_count": null,
      "outputs": [
        {
          "output_type": "stream",
          "name": "stdout",
          "text": [
            "Dear<|NAME|>,youareselected!!!<|DATE|>\n",
            "\n"
          ]
        }
      ]
    },
    {
      "cell_type": "code",
      "metadata": {
        "colab": {
          "base_uri": "https://localhost:8080/"
        },
        "id": "CTf2u9L2mIid",
        "outputId": "f547f1d9-16d0-4404-e9c0-3a1581a16ec1"
      },
      "source": [
        "word = input()\n",
        "length=0\n",
        "for i in word:\n",
        "  length+=1\n",
        "for row in range(length):\n",
        "  for col in range(row+1):\n",
        "    print(word[col],end=\"\")\n",
        "  print()"
      ],
      "execution_count": null,
      "outputs": [
        {
          "output_type": "stream",
          "name": "stdout",
          "text": [
            "akashh\n",
            "a\n",
            "ak\n",
            "aka\n",
            "akas\n",
            "akash\n",
            "akashh\n"
          ]
        }
      ]
    },
    {
      "cell_type": "code",
      "metadata": {
        "id": "OnZoe-_LAAnB",
        "colab": {
          "base_uri": "https://localhost:8080/"
        },
        "outputId": "113cb257-67f9-4454-9f50-0f702c01a551"
      },
      "source": [
        "# Python program for the above approach\n",
        "string = input()\n",
        "n=0\n",
        "for i in string:\n",
        "  n+=1\n",
        "# this is for the selection\n",
        "\t# of starting point\n",
        "for i in range(n):\n",
        "\t\n",
        "\t\t# 2nd for loop is for selection\n",
        "\t\t# of ending point\n",
        "  for j in range(i, n):\n",
        "\t\t\n",
        "\t\t\t# 3rd loop is for printing from\n",
        "\t\t\t# starting point to ending point\n",
        "\t  for k in range(i, (j + 1)):\n",
        "\t\t  print(string[k], end=\"\")\n",
        "\t\t\t\t\n",
        "\t\t\t# changing the line after printing\n",
        "\t\t\t# from starting point to ending point\n",
        "  print()\n",
        "\n",
        "\n"
      ],
      "execution_count": null,
      "outputs": [
        {
          "output_type": "stream",
          "name": "stdout",
          "text": [
            "abcd\n",
            "aababcabcd\n",
            "bbcbcd\n",
            "ccd\n",
            "d\n"
          ]
        }
      ]
    },
    {
      "cell_type": "code",
      "metadata": {
        "id": "px8RrCt0AAiF",
        "colab": {
          "base_uri": "https://localhost:8080/"
        },
        "outputId": "42f88fba-0b1b-4cab-b79a-229eff1666cc"
      },
      "source": [
        "# Python program to print all possible\n",
        "# substrings of a given string\n",
        "\n",
        "# Function to print all sub strings\n",
        "s = input()\n",
        "n=0\n",
        "for i in s:\n",
        "  n+=1\n",
        "\t# Pick starting point in outer loop\n",
        "\t# and lengths of different strings for\n",
        "\t# a given starting point\n",
        "for i in range(n):\n",
        "  for len in range(i+1,n+1):\n",
        "\t  print(s[i: n],end=\"\")\n",
        "  print()\n"
      ],
      "execution_count": null,
      "outputs": [
        {
          "output_type": "stream",
          "name": "stdout",
          "text": [
            "abcd\n",
            "abcdabcdabcdabcd\n",
            "bcdbcdbcd\n",
            "cdcd\n",
            "d\n"
          ]
        }
      ]
    },
    {
      "cell_type": "code",
      "metadata": {
        "id": "wTbQTmeMAAe7",
        "colab": {
          "base_uri": "https://localhost:8080/"
        },
        "outputId": "5461bdf3-1b5d-485c-dc5f-8a39b8207d70"
      },
      "source": [
        "string = input()\n",
        "length=0\n",
        "for i in string:\n",
        "  length+=1\n",
        "output=\"\"\n",
        "if length<4:\n",
        "  output=string\n",
        "elif length>3:\n",
        "  if string.endswith(\"er\"):\n",
        "    output=string[:length-2]\n",
        "    output=output+\"est\"\n",
        "  elif string.endswith(\"est\"):\n",
        "    output=string\n",
        "  else:\n",
        "    output=string+\"er\"\n",
        "print(output)"
      ],
      "execution_count": null,
      "outputs": [
        {
          "output_type": "stream",
          "name": "stdout",
          "text": [
            "stronger\n",
            "strongest\n"
          ]
        }
      ]
    },
    {
      "cell_type": "code",
      "metadata": {
        "id": "Ktl_heSuAAZE",
        "colab": {
          "base_uri": "https://localhost:8080/"
        },
        "outputId": "ef6eac9c-8f6c-44f3-b40f-c3146a4e68ce"
      },
      "source": [
        "s=\"A B C D E F G\"\n",
        "\n",
        "print(s[::-3])\n",
        "print(s[-1::-3])\n",
        "print(s[:0:-3])\n",
        "print(s[-1:0:-3])\n",
        "print(s[::-1][::-1] is s)\n",
        "print(s[::-1][::-1])\n",
        "print(s[::-1][::-1] == s)\n",
        "print(\"********\")\n",
        "print(s[:] == s)\n",
        "print(s[:])\n",
        "print(s[:] is s)\n"
      ],
      "execution_count": null,
      "outputs": [
        {
          "output_type": "stream",
          "name": "stdout",
          "text": [
            "G D A\n",
            "G D A\n",
            "G D \n",
            "G D \n",
            "False\n",
            "A B C D E F G\n",
            "True\n",
            "********\n",
            "True\n",
            "A B C D E F G\n",
            "True\n"
          ]
        }
      ]
    },
    {
      "cell_type": "code",
      "metadata": {
        "id": "dfP6lZ1JAAWo",
        "colab": {
          "base_uri": "https://localhost:8080/"
        },
        "outputId": "be5cbb5c-bfc3-4de3-bea0-f19f13c163ba"
      },
      "source": [
        "val=int(input())\n",
        "for i in range(1,val+1):\n",
        "  for j in range(1,val-i+1):\n",
        "    print(end=\" \") \n",
        "  for k in range(1,i+1):\n",
        "      print(\"*\",end=\" \")\n",
        "  print()\n",
        "for i in range(1,val):\n",
        "  for j in range(0,i):\n",
        "    print(end=\" \")\n",
        "  for k in range(0,val-i):\n",
        "    print(\"*\",end=\" \")\n",
        "  print()"
      ],
      "execution_count": null,
      "outputs": [
        {
          "output_type": "stream",
          "name": "stdout",
          "text": [
            "5\n",
            "    * \n",
            "   * * \n",
            "  * * * \n",
            " * * * * \n",
            "* * * * * \n",
            " * * * * \n",
            "  * * * \n",
            "   * * \n",
            "    * \n"
          ]
        }
      ]
    },
    {
      "cell_type": "code",
      "metadata": {
        "colab": {
          "base_uri": "https://localhost:8080/"
        },
        "id": "nMDHiQOqHTcJ",
        "outputId": "201da02b-7c45-4963-a655-3e8def7a9f53"
      },
      "source": [
        "mystring=\"PYTHON\"\n",
        "x= 0\n",
        "for i in mystring:\n",
        "  x+=1\n",
        "  print(mystring[0:x])\n",
        "for i in mystring:\n",
        "  x-=1\n",
        "  print(mystring[0:x])\n",
        "print"
      ],
      "execution_count": null,
      "outputs": [
        {
          "output_type": "stream",
          "name": "stdout",
          "text": [
            "P\n",
            "PY\n",
            "PYT\n",
            "PYTH\n",
            "PYTHO\n",
            "PYTHON\n",
            "PYTHO\n",
            "PYTH\n",
            "PYT\n",
            "PY\n",
            "P\n",
            "\n",
            "\n"
          ]
        }
      ]
    },
    {
      "cell_type": "code",
      "metadata": {
        "id": "VH0hfbeDAATE",
        "colab": {
          "base_uri": "https://localhost:8080/"
        },
        "outputId": "339c7e2f-e52e-4cb7-e53c-24783799da5d"
      },
      "source": [
        "print(\n",
        "    '$100 $200 $300'.count('$'),\n",
        "    '$100 $200 $300'.count('$', 5, 10),\n",
        "    '$100 $200 $300'.count('$', 5)\n",
        ")"
      ],
      "execution_count": null,
      "outputs": [
        {
          "output_type": "stream",
          "name": "stdout",
          "text": [
            "3 1 2\n"
          ]
        }
      ]
    },
    {
      "cell_type": "code",
      "metadata": {
        "colab": {
          "base_uri": "https://localhost:8080/"
        },
        "id": "H3-qVwdFA1xt",
        "outputId": "c1a63698-b99f-4f49-b9e9-9c5bc0594ecb"
      },
      "source": [
        "s = 'foo-bar-baz'\n",
        "print(s.upper().lower())\n",
        "print(s.strip('-'))\n",
        "print('-'.join(s.partition('-')))\n",
        "print(s.center(15))\n",
        "print('-'.join(s.split('-')))"
      ],
      "execution_count": null,
      "outputs": [
        {
          "output_type": "stream",
          "name": "stdout",
          "text": [
            "foo-bar-baz\n",
            "foo-bar-baz\n",
            "foo---bar-baz\n",
            "  foo-bar-baz  \n",
            "foo-bar-baz\n"
          ]
        }
      ]
    },
    {
      "cell_type": "code",
      "metadata": {
        "colab": {
          "base_uri": "https://localhost:8080/"
        },
        "id": "S6U5SmeDA1uJ",
        "outputId": "d1fd2833-07b9-4507-e818-5038ce85aa11"
      },
      "source": [
        "a=\"A\"\n",
        "b=2\n",
        "c=3\n",
        "print(a*b**c)"
      ],
      "execution_count": null,
      "outputs": [
        {
          "output_type": "stream",
          "name": "stdout",
          "text": [
            "AAAAAAAA\n"
          ]
        }
      ]
    },
    {
      "cell_type": "code",
      "metadata": {
        "colab": {
          "base_uri": "https://localhost:8080/"
        },
        "id": "ruk2YHPjA1sE",
        "outputId": "13e2a7c8-f8a3-4d9b-9a1b-09cee78b339d"
      },
      "source": [
        "word=input()\n",
        "for i in word:\n",
        "  print(i,\":\",ord(i))"
      ],
      "execution_count": null,
      "outputs": [
        {
          "output_type": "stream",
          "name": "stdout",
          "text": [
            "hunger\n",
            "h : 104\n",
            "u : 117\n",
            "n : 110\n",
            "g : 103\n",
            "e : 101\n",
            "r : 114\n"
          ]
        }
      ]
    },
    {
      "cell_type": "code",
      "metadata": {
        "colab": {
          "base_uri": "https://localhost:8080/"
        },
        "id": "Ur30dTdyLH5D",
        "outputId": "4ff4c22b-a903-47e2-eee6-4cf457384a1e"
      },
      "source": [
        "class animal:\n",
        "  pass\n",
        "tiger=animal()\n",
        "print(tiger)"
      ],
      "execution_count": null,
      "outputs": [
        {
          "output_type": "stream",
          "name": "stdout",
          "text": [
            "<__main__.animal object at 0x7ff0cb177bd0>\n"
          ]
        }
      ]
    },
    {
      "cell_type": "code",
      "metadata": {
        "id": "wRo6a5AyLHvu",
        "colab": {
          "base_uri": "https://localhost:8080/"
        },
        "outputId": "4ac87f41-a864-41a3-a5f3-6add039aca55"
      },
      "source": [
        "#04\n",
        "string = input()\n",
        "times = len(string)\n",
        "for i in range(times):\n",
        "  if ord(string[i])==122:\n",
        "    print(chr(97),end=\"\")\n",
        "  else:\n",
        "    print(chr(ord(string[i])+1),end=\"\")"
      ],
      "execution_count": null,
      "outputs": [
        {
          "output_type": "stream",
          "name": "stdout",
          "text": [
            "ttb\n",
            "uuc"
          ]
        }
      ]
    },
    {
      "cell_type": "code",
      "metadata": {
        "id": "iyELzcigLHtT",
        "colab": {
          "base_uri": "https://localhost:8080/"
        },
        "outputId": "7cdc4935-a5f1-458c-ff61-f4593950dc1d"
      },
      "source": [
        "string = input()\n",
        "time = 0\n",
        "times=0\n",
        "for length in string:\n",
        "  time+=1\n",
        "times=int(time)\n",
        "for i in range(times):\n",
        "  if 97< ord(string[i])>=122:\n",
        "    print(chr(97),end=\"\")\n",
        "  else:\n",
        "    print(chr(ord(string[i])+1),end=\"\")"
      ],
      "execution_count": null,
      "outputs": [
        {
          "output_type": "stream",
          "name": "stdout",
          "text": [
            "the cow\n",
            "uif!dpx"
          ]
        }
      ]
    },
    {
      "cell_type": "code",
      "metadata": {
        "id": "ZPHRiMCsLHor",
        "colab": {
          "base_uri": "https://localhost:8080/"
        },
        "outputId": "637ebced-89b1-4111-987f-f9114ae276a4"
      },
      "source": [
        "str1 = input()\n",
        "str2 = input()\n",
        "if len(str1)>len(str2):\n",
        "  times=len(str1)\n",
        "else:\n",
        "  times=len(str2)\n",
        "for i in range(times):\n",
        "  if i<len(str1):\n",
        "    print(str1[i],end='')\n",
        "  if i<len(str2):\n",
        "    print(str2[i],end='')"
      ],
      "execution_count": null,
      "outputs": [
        {
          "output_type": "stream",
          "name": "stdout",
          "text": [
            "ijkl\n",
            "ABCDENDFGH\n",
            "iAjBkClDENDFGH"
          ]
        }
      ]
    },
    {
      "cell_type": "code",
      "metadata": {
        "id": "LkGIOLkBLHlV",
        "colab": {
          "base_uri": "https://localhost:8080/"
        },
        "outputId": "dcc74cd9-382b-4033-d177-d20ece1075eb"
      },
      "source": [
        "s1 = input()\n",
        "s2 = input()\n",
        "\n",
        "n = min(len(s1), len(s2))\n",
        "res = ''\n",
        "for i in range(n):\n",
        "    res += s1[i] + s2[i]\n",
        "if n < len(s1):\n",
        "    res += s1[n:]\n",
        "else:\n",
        "    res += s2[n:]\n",
        "\n",
        "print(res)"
      ],
      "execution_count": null,
      "outputs": [
        {
          "output_type": "stream",
          "name": "stdout",
          "text": [
            "ABCD\n",
            "efgh\n",
            "AeBfCgDh\n"
          ]
        }
      ]
    },
    {
      "cell_type": "code",
      "metadata": {
        "id": "hqV29K-4LHeb"
      },
      "source": [
        "n = input()\n",
        "times = len(n)\n",
        "num1=0\n",
        "num2=0\n",
        "for i in range(times):\n",
        "  if "
      ],
      "execution_count": null,
      "outputs": []
    },
    {
      "cell_type": "code",
      "metadata": {
        "id": "mG-2mCaLLHb8",
        "colab": {
          "base_uri": "https://localhost:8080/"
        },
        "outputId": "99a5e784-9a60-4f72-8528-82b1fa220f00"
      },
      "source": [
        "string = 'STRING' \n",
        " \n",
        "count = 1  \n",
        "print (string + ', count: ' + str(count)) \n",
        " \n",
        "stringLen = len(string) \n",
        "for i in range(stringLen): \n",
        "\tstring = string[-1] + string[:-1] \n",
        "\tif(string[stringLen - 1] == 'a'): \n",
        "\t\tcount = count + 1 \n",
        "\t\tprint (string + ', count: ' + str(count)) \n",
        "\t\tbreak \n",
        "\tcount = count + 1 \n",
        "\tprint (string + ', count: ' + str(count)) "
      ],
      "execution_count": null,
      "outputs": [
        {
          "output_type": "stream",
          "name": "stdout",
          "text": [
            "STRING, count: 1\n",
            "GSTRIN, count: 2\n",
            "NGSTRI, count: 3\n",
            "INGSTR, count: 4\n",
            "RINGST, count: 5\n",
            "TRINGS, count: 6\n",
            "STRING, count: 7\n"
          ]
        }
      ]
    },
    {
      "cell_type": "code",
      "metadata": {
        "colab": {
          "base_uri": "https://localhost:8080/"
        },
        "id": "oQBba2pRJY9Y",
        "outputId": "23ac5e02-d48a-49ac-9f18-1eeb47ab9dd1"
      },
      "source": [
        "s = \"i am baymax\"\n",
        "print(s[len(s)-1])\n",
        "print(s[-1])\n"
      ],
      "execution_count": null,
      "outputs": [
        {
          "output_type": "stream",
          "name": "stdout",
          "text": [
            "x\n",
            "x\n"
          ]
        }
      ]
    },
    {
      "cell_type": "code",
      "metadata": {
        "colab": {
          "base_uri": "https://localhost:8080/"
        },
        "id": "aSSrxLiTM0Wt",
        "outputId": "7e7efef4-5093-43f3-ab2b-3e769e721c21"
      },
      "source": [
        "#slicing\n",
        "s = \"i am baymax\"\n",
        "index=0\n",
        "for i in s:\n",
        "  print(i,\"[\",index,\"]\",end=', ')\n",
        "  index+=1\n",
        "print()\n",
        "print(\"1 \"+s[:4])\n",
        "print(\"2 \"+s[::-1])\n",
        "print(\"3 \"+s[:4:])\n",
        "print(\"4 \"+s[:-1:2])\n",
        "print(\"5 \"+s[:])\n",
        "print(\"6 \"+s[2:9:2])\n",
        "print(\"7 \"+s[:])\n",
        "print(\"8 \"+s[:4:1])\n",
        "print(\"9 \"+s[2:4])\n",
        "print(\"10 \"+s[::2])\n",
        "print(\"11 \"+s[5:-1])\n",
        "print(\"12 \"+s[5:-1])\n",
        "print(\"13 \"+s[5:-1])\n",
        "print(\"13 \"+s[5:-1])\n",
        "print(\"14 \"+s[5:-1])\n",
        "print(\"##\", s)"
      ],
      "execution_count": null,
      "outputs": [
        {
          "output_type": "stream",
          "name": "stdout",
          "text": [
            "i [ 0 ],   [ 1 ], a [ 2 ], m [ 3 ],   [ 4 ], b [ 5 ], a [ 6 ], y [ 7 ], m [ 8 ], a [ 9 ], x [ 10 ], \n",
            "1 i am\n",
            "2 xamyab ma i\n",
            "3 i am\n",
            "4 ia am\n",
            "5 i am baymax\n",
            "6 a am\n",
            "7 i am baymax\n",
            "8 i am\n",
            "9 am\n",
            "10 ia amx\n",
            "11 bayma\n",
            "12 bayma\n",
            "13 bayma\n",
            "13 bayma\n",
            "14 bayma\n",
            "## i am baymax\n"
          ]
        }
      ]
    },
    {
      "cell_type": "code",
      "metadata": {
        "colab": {
          "base_uri": "https://localhost:8080/"
        },
        "id": "M48hp3FGhiPI",
        "outputId": "94e98aa5-6f43-4adb-c25c-216ad3f6aa66"
      },
      "source": [
        "a = \"aaa\"\n",
        "print(a.replace(\"a\",\"k\"))"
      ],
      "execution_count": null,
      "outputs": [
        {
          "output_type": "stream",
          "name": "stdout",
          "text": [
            "kkk\n"
          ]
        }
      ]
    },
    {
      "cell_type": "code",
      "metadata": {
        "colab": {
          "base_uri": "https://localhost:8080/"
        },
        "id": "YySDA96CmPZ_",
        "outputId": "bc53ac26-5cfe-4139-8607-d0cac2273c11"
      },
      "source": [
        "#6\n",
        "number = input()\n",
        "temp_string = \"\"\n",
        "\n",
        "\n",
        "for item in number:   \n",
        "  if len(temp_list) == 0:\n",
        "    str1=temp_list+item\n",
        "\n",
        "  elif len(temp_list) > 0:\n",
        "    if  temp_list[-1] != item:\n",
        "      str1 =temp_list+item\n",
        "\n",
        "print(str1)"
      ],
      "execution_count": null,
      "outputs": [
        {
          "output_type": "stream",
          "name": "stdout",
          "text": [
            "aakkkaaa\n",
            "a\n"
          ]
        }
      ]
    },
    {
      "cell_type": "code",
      "metadata": {
        "colab": {
          "base_uri": "https://localhost:8080/"
        },
        "id": "WlWtF-0FpEJ5",
        "outputId": "295674b9-6eec-4f50-875f-7d35708d69c6"
      },
      "source": [
        "# variant 1\n",
        "\n",
        "foo = 'AAABBBBCDDBBECE'\n",
        "l = []\n",
        "l.append(foo[0])\n",
        "for i in foo[1:]:\n",
        "  if i != l[-1]:\n",
        "    l.append(i)\n",
        "print(*l, sep='')\n"
      ],
      "execution_count": null,
      "outputs": [
        {
          "output_type": "stream",
          "name": "stdout",
          "text": [
            "ABCDBECE\n"
          ]
        }
      ]
    },
    {
      "cell_type": "code",
      "metadata": {
        "colab": {
          "base_uri": "https://localhost:8080/"
        },
        "id": "j5McVsBvpKuw",
        "outputId": "fd3f0e74-7717-4b5b-c354-2fc5f652a670"
      },
      "source": [
        "# variant 2\n",
        "\n",
        "foo = 'AAABBBBCDDBBECE'\n",
        "print(foo[0], end='')\n",
        "for i,j in enumerate(foo[1:]):\n",
        "  if j != foo[i]:\n",
        "    print(j, end='')"
      ],
      "execution_count": null,
      "outputs": [
        {
          "output_type": "stream",
          "name": "stdout",
          "text": [
            "ABCDBECE"
          ]
        }
      ]
    },
    {
      "cell_type": "code",
      "metadata": {
        "colab": {
          "base_uri": "https://localhost:8080/"
        },
        "id": "87aat-ZlwTwn",
        "outputId": "e16bc706-1d8d-450a-dade-6759c5872a43"
      },
      "source": [
        "s = input()\n",
        "output = ''\n",
        "for i in s:\n",
        "  if i not in output:\n",
        "    output+=i\n",
        "print(output)"
      ],
      "execution_count": null,
      "outputs": [
        {
          "output_type": "stream",
          "name": "stdout",
          "text": [
            "AAABBBBCDDBBECE\n",
            "ABCDE\n"
          ]
        }
      ]
    },
    {
      "cell_type": "code",
      "metadata": {
        "colab": {
          "base_uri": "https://localhost:8080/"
        },
        "id": "2E2J9Z3R8cla",
        "outputId": "d902278a-e85e-4368-80c8-4a70c945ad50"
      },
      "source": [
        "a=input()\n",
        "\n",
        "b=''\n",
        "\n",
        "for i in range(len(a)):\n",
        "\n",
        "  if a[i] not in b:\n",
        "\n",
        "    b+=a[i]\n",
        "\n",
        "print(b)"
      ],
      "execution_count": null,
      "outputs": [
        {
          "output_type": "stream",
          "name": "stdout",
          "text": [
            "AAABBBBCDDBBECE\n",
            "ABCDE\n"
          ]
        }
      ]
    },
    {
      "cell_type": "code",
      "metadata": {
        "colab": {
          "base_uri": "https://localhost:8080/"
        },
        "id": "pjzPfblr2dHJ",
        "outputId": "43a6324e-fed0-4871-8899-3ee13c2c4505"
      },
      "source": [
        "# Student class\n",
        "class Student:\n",
        "    # constructor with dept, courses and gpa as default values\n",
        "    def __init__(self, name, ID, dept='MNS', courses=[], gpa=0):\n",
        "        # initializing with given fields\n",
        "        self.name = name\n",
        "        self.ID = ID\n",
        "        self.dept = dept\n",
        "        self.courses = courses\n",
        "        self.gpa = gpa\n",
        "\n",
        "    # print_info method \n",
        "    def print_info(self):\n",
        "        # printing info\n",
        "        print('Name:', self.name)\n",
        "        print('ID:', self.ID)\n",
        "        print('Department:', self.dept)\n",
        "        print('Courses:', self.courses)\n",
        "        print('CGPA:', self.gpa)\n",
        "\n",
        "\n",
        "# SDS class\n",
        "class SDS:\n",
        "    # constructor\n",
        "    def __init__(self, year):\n",
        "        # initializing variables\n",
        "        self.year = year\n",
        "        self.cseCount = 0\n",
        "        self.mnsCount = 0\n",
        "        self.cseDict = {}\n",
        "        self.mnsDict = {}\n",
        "        print('School of Data and Sciences', year+'! Only CSE and MNS department students can be added.')\n",
        "\n",
        "    # add students method\n",
        "    def addStudent(self, *students):\n",
        "        # looping through the given no of arguments\n",
        "        for student in students:\n",
        "            # if student dept is cse adding to cse dict and increasing cse count\n",
        "            if student.dept == 'CSE':\n",
        "                self.cseDict[student.ID] = [student.name, student.gpa, student.courses]\n",
        "                self.cseCount += 1\n",
        "            \n",
        "            # if student dept is MNS adding to mns dict and increasing mns count\n",
        "            elif student.dept == 'MNS':\n",
        "                self.mnsDict[student.ID] = [student.name, student.gpa, student.courses]\n",
        "                self.mnsCount += 1\n",
        "            \n",
        "            # else printing invalid department\n",
        "            else:\n",
        "                print(student.dept, 'department student cannot be added to SDS')\n",
        "\n",
        "    # printing info\n",
        "    def print_info(self):\n",
        "        print('Number of CSE students:', self.cseCount)\n",
        "        print('Number of MNS students:', self.mnsCount)\n",
        "        print('CSE Students', self.cseDict)\n",
        "        print('MNS Students', self.mnsDict)\n",
        "\n",
        "\n",
        "\n",
        "# given code\n",
        "sds21 = SDS(\"2021\")\n",
        "print(\"*********************************************\")\n",
        "sds21.print_info()\n",
        "print(\"1.================================\")\n",
        "s1 = Student(\"Maliha\",21101001)\n",
        "s1.print_info()\n",
        "print(\"2.================================\")\n",
        "sds21.addStudent(s1)\n",
        "sds21.print_info()\n",
        "print(\"3.================================\")\n",
        "s2 = Student(\"Subha\",21301001,\"CSE\", [\"ENG091\",\"MAT092\"],3.48)\n",
        "s2.print_info()\n",
        "print(\"4.================================\")\n",
        "sds21.addStudent(s2)\n",
        "sds21.print_info()\n",
        "print(\"5.================================\")\n",
        "s3 = Student(\"Samiul\",21305001,\"MNS\", [\"ENG091\",\"MAT092\",\"PHY111\"],3.01)\n",
        "s4 = Student(\"Mohsina\",21305023)\n",
        "print(\"6.================================\")\n",
        "s3.print_info()\n",
        "print(\"7.================================\")\n",
        "s4.print_info()\n",
        "print(\"8.================================\")\n",
        "sds21.addStudent(s3,s4)\n",
        "print(\"9.================================\")\n",
        "sds21.print_info()\n",
        "print(\"10.================================\")\n",
        "s5 = Student(\"Nayla\", 16101288, \"BBS\")\n",
        "sds21.addStudent(s5)\n",
        "print(\"11.================================\")\n",
        "sds21.print_info()\n"
      ],
      "execution_count": null,
      "outputs": [
        {
          "output_type": "stream",
          "name": "stdout",
          "text": [
            "School of Data and Sciences 2021! Only CSE and MNS department students can be added.\n",
            "*********************************************\n",
            "Number of CSE students: 0\n",
            "Number of MNS students: 0\n",
            "CSE Students {}\n",
            "MNS Students {}\n",
            "1.================================\n",
            "Name: Maliha\n",
            "ID: 21101001\n",
            "Department: MNS\n",
            "Courses: []\n",
            "CGPA: 0\n",
            "2.================================\n",
            "Number of CSE students: 0\n",
            "Number of MNS students: 1\n",
            "CSE Students {}\n",
            "MNS Students {21101001: ['Maliha', 0, []]}\n",
            "3.================================\n",
            "Name: Subha\n",
            "ID: 21301001\n",
            "Department: CSE\n",
            "Courses: ['ENG091', 'MAT092']\n",
            "CGPA: 3.48\n",
            "4.================================\n",
            "Number of CSE students: 1\n",
            "Number of MNS students: 1\n",
            "CSE Students {21301001: ['Subha', 3.48, ['ENG091', 'MAT092']]}\n",
            "MNS Students {21101001: ['Maliha', 0, []]}\n",
            "5.================================\n",
            "6.================================\n",
            "Name: Samiul\n",
            "ID: 21305001\n",
            "Department: MNS\n",
            "Courses: ['ENG091', 'MAT092', 'PHY111']\n",
            "CGPA: 3.01\n",
            "7.================================\n",
            "Name: Mohsina\n",
            "ID: 21305023\n",
            "Department: MNS\n",
            "Courses: []\n",
            "CGPA: 0\n",
            "8.================================\n",
            "9.================================\n",
            "Number of CSE students: 1\n",
            "Number of MNS students: 3\n",
            "CSE Students {21301001: ['Subha', 3.48, ['ENG091', 'MAT092']]}\n",
            "MNS Students {21101001: ['Maliha', 0, []], 21305001: ['Samiul', 3.01, ['ENG091', 'MAT092', 'PHY111']], 21305023: ['Mohsina', 0, []]}\n",
            "10.================================\n",
            "BBS department student cannot be added to SDS\n",
            "11.================================\n",
            "Number of CSE students: 1\n",
            "Number of MNS students: 3\n",
            "CSE Students {21301001: ['Subha', 3.48, ['ENG091', 'MAT092']]}\n",
            "MNS Students {21101001: ['Maliha', 0, []], 21305001: ['Samiul', 3.01, ['ENG091', 'MAT092', 'PHY111']], 21305023: ['Mohsina', 0, []]}\n"
          ]
        }
      ]
    },
    {
      "cell_type": "code",
      "metadata": {
        "colab": {
          "base_uri": "https://localhost:8080/"
        },
        "id": "gLi__93pncbj",
        "outputId": "ebb94272-b4bb-473d-d975-30749decccca"
      },
      "source": [
        "s = \"PythonIsLove\"\n",
        "res = s[-4:-11:-2]\n",
        "print(res)"
      ],
      "execution_count": null,
      "outputs": [
        {
          "output_type": "stream",
          "name": "stdout",
          "text": [
            "LIot\n"
          ]
        }
      ]
    },
    {
      "cell_type": "code",
      "metadata": {
        "colab": {
          "base_uri": "https://localhost:8080/"
        },
        "id": "qZ1MM7RxRkRo",
        "outputId": "6f35227b-15a1-4ae1-a895-0c7be6786bb2"
      },
      "source": [
        "n= int(input())\n",
        "i = 0\n",
        "while i<n:\n",
        "  print(i,end=\"\")\n",
        "  i+=1\n",
        "  if i == 3:\n",
        "    break\n",
        " else:\n",
        "    print(0)"
      ],
      "execution_count": null,
      "outputs": [
        {
          "output_type": "stream",
          "name": "stdout",
          "text": [
            "5\n",
            "012"
          ]
        }
      ]
    },
    {
      "cell_type": "code",
      "metadata": {
        "colab": {
          "base_uri": "https://localhost:8080/"
        },
        "id": "B9Va9gPoRkOk",
        "outputId": "47a480fc-8bf8-4f22-dcf6-686b07f12e1a"
      },
      "source": [
        "item = ['bread','pasta','fruit','veggies']\n",
        "item.append('butter')\n",
        "print(item)\n",
        "\n",
        "\n",
        "\n"
      ],
      "execution_count": null,
      "outputs": [
        {
          "output_type": "stream",
          "name": "stdout",
          "text": [
            "['bread', 'pasta', 'fruit', 'veggies', 'butter']\n"
          ]
        }
      ]
    },
    {
      "cell_type": "code",
      "metadata": {
        "colab": {
          "base_uri": "https://localhost:8080/"
        },
        "id": "g63PDnQRRkLP",
        "outputId": "b6181d73-143d-44f7-910c-6b750a53f392"
      },
      "source": [
        "li= input()\n",
        "new_li =li[0]\n",
        "for i in range (len(li)):\n",
        "  if li[i] != new_li [-1]:\n",
        "    new_li+=(li[i])\n",
        "print(new_li)\n"
      ],
      "execution_count": null,
      "outputs": [
        {
          "output_type": "stream",
          "name": "stdout",
          "text": [
            "AAABBBBCDDBBECE\n",
            "ABCDBECE\n"
          ]
        }
      ]
    },
    {
      "cell_type": "code",
      "metadata": {
        "id": "AQDA5Yo-RkJB"
      },
      "source": [
        "n = int(input())\n",
        "arr = [int(i) for i in input().split(' ')]\n",
        "mean = sum(arr)/n\n",
        "arr.sort()\n",
        "if n % 2 == 0:\n",
        "    median = (arr[n//2] + arr[n//2 - 1])/2\n",
        "else:\n",
        "    median = arr[n//2]\n",
        "mode = arr[0]\n",
        "modeInstances = 1\n",
        "instances = 0\n",
        "for i in range(1,n):\n",
        "    if arr[i] == mode:\n",
        "        modeInstances += 1\n",
        "    elif arr[i] == arr[i - 1]:\n",
        "        instances += 1\n",
        "        if instances > modeInstances:\n",
        "            mode = arr[i]\n",
        "            modeInstances = instances\n",
        "    else:\n",
        "        instances = 1\n",
        "print(mean)\n",
        "print(median)\n",
        "print(mode)"
      ],
      "execution_count": null,
      "outputs": []
    },
    {
      "cell_type": "code",
      "metadata": {
        "id": "16VRrSKARkGd"
      },
      "source": [
        "input()\n",
        "A=list(map(int,input().split()))\n",
        "A.sort()\n",
        "\n",
        "#mean\n",
        "print('{0:.1f}'.format(sum(A)/len(A)))\n",
        "\n",
        "#median\n",
        "a=A[len(A)//2]\n",
        "b=A[-(len(A)//2+1)]\n",
        "print('{0:.1f}'.format((a+b)/2))\n",
        "\n",
        "#mode\n",
        "B=list(set(A))\n",
        "B.sort()\n",
        "C=[]\n",
        "D=[]\n",
        "for x in B:\n",
        "    C.append(x)\n",
        "    D.append(A.count(x))\n",
        "m=max(D)\n",
        "idx=D.index(m)\n",
        "print(C[idx])"
      ],
      "execution_count": null,
      "outputs": []
    },
    {
      "cell_type": "code",
      "metadata": {
        "colab": {
          "base_uri": "https://localhost:8080/"
        },
        "id": "mbJxSnLyRkEE",
        "outputId": "b479190b-9910-4543-d1d6-e4821fd85658"
      },
      "source": [
        "import numpy as np;\n",
        "import statistics;\n",
        "from collections import Counter;\n",
        "\n",
        "n = input();\n",
        "ar = np.asarray(list(map(int, input().split(' '))));\n",
        "print(statistics.mean(ar));\n",
        "print(statistics.median(ar));\n",
        "m = sorted(Counter(ar).most_common(), key=lambda x: x[1] * 10000 - x[0], reverse = True);\n",
        "print(m[0])"
      ],
      "execution_count": null,
      "outputs": [
        {
          "output_type": "stream",
          "name": "stdout",
          "text": [
            "10\n",
            "64630 11735 14216 99233 14470 4978 73429 38120 51135 67060\n",
            "43900\n",
            "44627.5\n",
            "(4978, 1)\n"
          ]
        }
      ]
    },
    {
      "cell_type": "code",
      "metadata": {
        "colab": {
          "base_uri": "https://localhost:8080/"
        },
        "id": "cyEixulHRkBl",
        "outputId": "011c4355-6fa9-4645-b5e8-ead76cbaa1d6"
      },
      "source": [
        "n = int(input())\n",
        "nums = [int(i) for i in input().split()]\n",
        "\n",
        "mean = sum(nums) / n\n",
        "\n",
        "nums.sort()\n",
        "median = 0\n",
        "if n % 2 == 0:\n",
        "    i = int(n / 2) - 1\n",
        "    j = int((n + 1) / 2)\n",
        "    median = (nums[i] + nums[j]) / 2\n",
        "else:\n",
        "    median = nums[int(n / 2)]\n",
        "\n",
        "d = {}\n",
        "for num in nums:\n",
        "    if num in d:\n",
        "        d[num] += 1\n",
        "    else:\n",
        "        d[num] = 1\n",
        "\n",
        "mode = 0\n",
        "max_appeard = 0\n",
        "for k in d:\n",
        "    if max_appeard == d[k] and k < mode:\n",
        "        mode = k\n",
        "    elif max_appeard < d[k]:\n",
        "        mode = k\n",
        "        max_appeard = d[k]\n",
        "\n",
        "print(mean)\n",
        "print(median)\n",
        "print(mode)"
      ],
      "execution_count": null,
      "outputs": [
        {
          "output_type": "stream",
          "name": "stdout",
          "text": [
            "10\n",
            "64630 11735 14216 99233 14470 4978 73429 38120 51135 67060\n",
            "43900.6\n",
            "44627.5\n",
            "4978\n"
          ]
        }
      ]
    },
    {
      "cell_type": "code",
      "metadata": {
        "colab": {
          "base_uri": "https://localhost:8080/"
        },
        "id": "_EBUBAGJvccs",
        "outputId": "65d486a3-93e0-4a1b-fdb8-956d0965746a"
      },
      "source": [
        "list = [1,2,3,4]\n",
        "list.append((5,6,7))\n",
        "print(list)"
      ],
      "execution_count": null,
      "outputs": [
        {
          "output_type": "stream",
          "name": "stdout",
          "text": [
            "[1, 2, 3, 4, (5, 6, 7)]\n"
          ]
        }
      ]
    },
    {
      "cell_type": "code",
      "metadata": {
        "colab": {
          "base_uri": "https://localhost:8080/"
        },
        "id": "0bd9qWtYdTKE",
        "outputId": "ae7d614b-4937-40a2-dd71-a93e16a35ff4"
      },
      "source": [
        "class Student:\n",
        "\n",
        "  def __init__ (self, name):\n",
        "\n",
        "    self.name = name\n",
        "\n",
        "    self.id = None\n",
        "\n",
        "  def change_name (self, name = None):\n",
        "\n",
        "    self.name = name\n",
        "\n",
        "  def get_name(self): \n",
        "    return self.name\n",
        "\n",
        "student= Student ('Hossain')\n",
        "\n",
        "student.change_name('Hussain') \n",
        "student.change_name ()\n",
        "\n",
        "print(student.get_name())"
      ],
      "execution_count": null,
      "outputs": [
        {
          "output_type": "stream",
          "name": "stdout",
          "text": [
            "None\n"
          ]
        }
      ]
    },
    {
      "cell_type": "code",
      "metadata": {
        "colab": {
          "base_uri": "https://localhost:8080/"
        },
        "id": "TEXZyjQTd1nz",
        "outputId": "f26f6670-db47-4f13-f6a6-ab26ca7353fa"
      },
      "source": [
        "i = 1\n",
        "while i < 4:\n",
        "  i += 1\n",
        "  if i == 2:\n",
        "    break\n",
        "print(i)"
      ],
      "execution_count": null,
      "outputs": [
        {
          "output_type": "stream",
          "name": "stdout",
          "text": [
            "2\n"
          ]
        }
      ]
    },
    {
      "cell_type": "code",
      "metadata": {
        "colab": {
          "base_uri": "https://localhost:8080/"
        },
        "id": "oVcugfXu1GaJ",
        "outputId": "389d366c-1433-4816-e38b-b2e58a6cc699"
      },
      "source": [
        "first_str = input()\n",
        "i = int(input())\n",
        "print(first_str[i::-1],end=\"\")\n",
        "print(first_str[i+1:])"
      ],
      "execution_count": null,
      "outputs": [
        {
          "output_type": "stream",
          "name": "stdout",
          "text": [
            "12345\n",
            "2\n",
            "32145\n"
          ]
        }
      ]
    },
    {
      "cell_type": "code",
      "metadata": {
        "colab": {
          "base_uri": "https://localhost:8080/"
        },
        "id": "ENXfyUJ15hJy",
        "outputId": "dfa3068f-8a50-41c1-d3e9-9b757bc25424"
      },
      "source": [
        "s = input() # initial string\n",
        "reversedString=\"\"\n",
        "index = int(input()) # calculate length of string and save in index\n",
        "while index > 0: \n",
        "    reversedString += s[ index - 1 ] # save the value of str[index-1] in reverseString\n",
        "    index = index - 1 # decrement index\n",
        "print(reversedString) # reversed string"
      ],
      "execution_count": null,
      "outputs": [
        {
          "output_type": "stream",
          "name": "stdout",
          "text": [
            "72418\n",
            "4\n",
            "1427\n"
          ]
        }
      ]
    },
    {
      "cell_type": "code",
      "metadata": {
        "colab": {
          "base_uri": "https://localhost:8080/"
        },
        "id": "TV2FLjc46dhp",
        "outputId": "e2f31303-a3ba-4a9b-a7fc-666cee7fb7e9"
      },
      "source": [
        "input1 = input()\n",
        "find1 = input()\n",
        "word=\"\"\n",
        "for i in input1:\n",
        "  if i == find1:\n",
        "    word+=i\n",
        "    print(word)\n",
        "    word=\"\"\n",
        "print(word)\n",
        "   "
      ],
      "execution_count": null,
      "outputs": [
        {
          "output_type": "stream",
          "name": "stdout",
          "text": [
            "This-is-CSE110\n",
            "-\n",
            "-\n",
            "-\n",
            "\n"
          ]
        }
      ]
    },
    {
      "cell_type": "code",
      "metadata": {
        "colab": {
          "base_uri": "https://localhost:8080/"
        },
        "id": "JWLsmy43awzR",
        "outputId": "a0179539-0116-45eb-e739-a73f65cb29d2"
      },
      "source": [
        "word = input()\n",
        "splt = input()\n",
        "times = len(word)\n",
        "for i in range(times):\n",
        "  if word[i]!=splt:\n",
        "    print(word[i],end=\"\")\n",
        "  else:\n",
        "    print(\" \\n \")"
      ],
      "execution_count": null,
      "outputs": [
        {
          "output_type": "stream",
          "name": "stdout",
          "text": [
            "This-is-CSE110\n",
            "-\n",
            "This \n",
            " \n",
            "is \n",
            " \n",
            "CSE110"
          ]
        }
      ]
    },
    {
      "cell_type": "code",
      "metadata": {
        "colab": {
          "base_uri": "https://localhost:8080/"
        },
        "id": "NiLLn9IZZPXR",
        "outputId": "3f407d32-44fd-4db6-c848-4587d1409fc0"
      },
      "source": [
        "sentence = input()\n",
        "word=\"\"\n",
        "for w in sentence :\n",
        "    if w.isalpha():\n",
        "        word=word+w\n",
        "\n",
        "    elif not w.isalpha():\n",
        "      print(word)\n",
        "      word=\"\"\n",
        "print(word)"
      ],
      "execution_count": null,
      "outputs": [
        {
          "output_type": "stream",
          "name": "stdout",
          "text": [
            "this is akash\n",
            "this\n",
            "is\n",
            "akash\n"
          ]
        }
      ]
    },
    {
      "cell_type": "code",
      "metadata": {
        "colab": {
          "base_uri": "https://localhost:8080/"
        },
        "id": "GOWLSup4cl9X",
        "outputId": "4a0558a8-09df-4650-ff17-cc8fd6fb5dd2"
      },
      "source": [
        "s1 = input()\n",
        "s2 = input()\n",
        "print(s2[-1]+s1[-1]+s2[0]+s1[0])"
      ],
      "execution_count": null,
      "outputs": [
        {
          "output_type": "stream",
          "name": "stdout",
          "text": [
            "abcd\n",
            "efgh\n",
            "hdea\n"
          ]
        }
      ]
    },
    {
      "cell_type": "code",
      "metadata": {
        "colab": {
          "base_uri": "https://localhost:8080/"
        },
        "id": "qe-p7a7hiGKj",
        "outputId": "f0120ce1-b134-45a1-c962-5d9efd31cac2"
      },
      "source": [
        "s1 = input()\n",
        "o1 = \"\"\n",
        "oddoreven = int(input())\n",
        "if oddoreven == 1:\n",
        "  for i in range(len(s1)):\n",
        "    if i%2!=0:\n",
        "      o1=o1+s1[i]\n",
        "elif oddoreven == 2:\n",
        "  for i in range(len(s1)):\n",
        "    if i%2==0:\n",
        "      o1=o1+s1[i]\n",
        "print(o1.upper())"
      ],
      "execution_count": null,
      "outputs": [
        {
          "output_type": "stream",
          "name": "stdout",
          "text": [
            "string\n",
            "1\n",
            "TIG\n"
          ]
        }
      ]
    },
    {
      "cell_type": "code",
      "metadata": {
        "colab": {
          "base_uri": "https://localhost:8080/"
        },
        "id": "ZT3DrSHhkPEH",
        "outputId": "2ca7e4e4-fda4-4659-fd60-d568c719f0d8"
      },
      "source": [
        "s1 = input()\n",
        "in1 = int(input())\n",
        "if in1%2==0:\n",
        "  in1 = in1*2\n",
        "else:\n",
        "  in1 = in1*3\n",
        "print(in1*s1)"
      ],
      "execution_count": null,
      "outputs": [
        {
          "output_type": "stream",
          "name": "stdout",
          "text": [
            "CSE110\n",
            "4\n",
            "CSE110CSE110CSE110CSE110CSE110CSE110CSE110CSE110\n"
          ]
        }
      ]
    },
    {
      "cell_type": "code",
      "metadata": {
        "colab": {
          "base_uri": "https://localhost:8080/"
        },
        "id": "doqDnWLomMH6",
        "outputId": "6b077afa-73e7-46c1-e0b8-7446fe8404bc"
      },
      "source": [
        "s1 = input()\n",
        "s2 = input()\n",
        "s3 = s1.count(s2)\n",
        "s4=\"\"\n",
        "l = len(s1)\n",
        "if s3 > 0:\n",
        "    s4=s1.replace(s2,\"\")\n",
        "    print(s4)\n",
        "elif s3==0 and l>3:\n",
        "    s4=s1[1:-1]\n",
        "    print(s4)\n",
        "elif s3==0 and l<=3:\n",
        "    print(s1)"
      ],
      "execution_count": null,
      "outputs": [
        {
          "output_type": "stream",
          "name": "stdout",
          "text": [
            "eren yeager\n",
            "k\n",
            "ren yeage\n"
          ]
        }
      ]
    },
    {
      "cell_type": "code",
      "metadata": {
        "colab": {
          "base_uri": "https://localhost:8080/"
        },
        "id": "gR56FNaFF_9b",
        "outputId": "91625c9f-76ef-4712-d381-22a3a7400436"
      },
      "source": [
        "s1 = input()\n",
        "l = len(s1)\n",
        "cnt = 0\n",
        "numls= [\"0\",\"1\",\"2\",\"3\",\"4\",\"5\",\"6\",\"7\",\"8\",\"9\"]\n",
        "for i in range (l):\n",
        "  ck = s1[i] in numls\n",
        "  if s1[i]==\" \" or ck == True:\n",
        "    print(s1[i],end=\"\")\n",
        "  else:\n",
        "    if cnt%2==0:\n",
        "      print(s1[i].upper(),end=\"\")\n",
        "      cnt+=1\n",
        "    else:\n",
        "      print(s1[i].lower(),end=\"\")\n",
        "      cnt+=1\n"
      ],
      "execution_count": null,
      "outputs": [
        {
          "output_type": "stream",
          "name": "stdout",
          "text": [
            "CSE110 Course\n",
            "CsE110 cOuRsE"
          ]
        }
      ]
    },
    {
      "cell_type": "code",
      "metadata": {
        "colab": {
          "base_uri": "https://localhost:8080/"
        },
        "id": "pT9HIdLUF_6N",
        "outputId": "60442076-c67d-4493-ff49-67222c1be33a"
      },
      "source": [
        "s1 = input()\n",
        "s2 = input()\n",
        "l1 = len(s1)\n",
        "l2 = len(s2)\n",
        "count= 0\n",
        "if l1!=l2:\n",
        "  print(\"they are not anagram!!!\")\n",
        "else:\n",
        "  for i in s1:\n",
        "    if i in s2:\n",
        "      count+=1\n",
        "  if count == l1:\n",
        "    print(\"anagram!!!\")\n",
        "  else:\n",
        "    print(\"Not anagram!!!\")"
      ],
      "execution_count": null,
      "outputs": [
        {
          "output_type": "stream",
          "name": "stdout",
          "text": [
            "dusty\n",
            "study\n",
            "anagram!!!\n"
          ]
        }
      ]
    },
    {
      "cell_type": "code",
      "metadata": {
        "colab": {
          "base_uri": "https://localhost:8080/"
        },
        "id": "8GbQwaDXF_1C",
        "outputId": "d4f062af-a1fe-4524-a1c1-c04e53683930"
      },
      "source": [
        "######################################################################\n",
        "s = \"AABBBCCAAAA\"\n",
        "first=0\n",
        "second=1\n",
        "strang1=''\n",
        "strang2=''\n",
        "while second<len(s):\n",
        "    if second>=len(s):\n",
        "        break\n",
        "    elif s[first]<=s[second]:\n",
        "        strang1+=s[first:second+1]\n",
        "        while second<=len(s):\n",
        "            second+=1\n",
        "            if second>=len(s):\n",
        "                break\n",
        "            elif s[second]>=strang1[-1]:\n",
        "                strang1+=s[second]\n",
        "                if len(strang1)>len(strang2):\n",
        "                    strang2=strang1\n",
        "            else:\n",
        "                if len(strang1)>len(strang2):\n",
        "                    strang2=strang1\n",
        "                strang1=''\n",
        "                first=second-1\n",
        "                break\n",
        "    else:\n",
        "        if len(s[first])>len(strang2):\n",
        "            strang2=s[first]\n",
        "        first+=1\n",
        "        second+=1\n",
        "print(\"Longest substring in alphabetical order is:\" + strang2)"
      ],
      "execution_count": null,
      "outputs": [
        {
          "output_type": "stream",
          "name": "stdout",
          "text": [
            "Longest substring in alphabetical order is:AABBBCC\n"
          ]
        }
      ]
    },
    {
      "cell_type": "code",
      "metadata": {
        "colab": {
          "base_uri": "https://localhost:8080/"
        },
        "id": "vF-ldH1fF_yZ",
        "outputId": "f26ef78c-5d85-462a-a5c6-40926c4341e0"
      },
      "source": [
        "s1 = input() #taking a string input from user\n",
        "large_seq = '' #set an empty string as largest consecutive sequence\n",
        "priv_char = ''\n",
        "seq = ''\n",
        "for char in s1: #go through each charecter of the given string\n",
        "  if priv_char == char: #if privious char is same as current char\n",
        "    seq+=char #then ad charecter to sequence\n",
        "  else: #if previous charecter is not same as current charecter\n",
        "    if len(seq) > len(large_seq):   #if len of seq is larger then len of largestseq\n",
        "      large_seq=seq #then update the largest sequence\n",
        "    seq = char #set charecter as the sequence\n",
        "    priv_char= char #update previous charecter\n",
        "#update largest sequence if required\n",
        "if len(seq)>len(large_seq):\n",
        "  large_seq= seq\n",
        "#print largest sequence\n",
        "if len(large_seq)>1:\n",
        "  print(large_seq)\n",
        "else:\n",
        "  print(\"NONE\")"
      ],
      "execution_count": null,
      "outputs": [
        {
          "output_type": "stream",
          "name": "stdout",
          "text": [
            "AABBCC\n",
            "AA\n"
          ]
        }
      ]
    },
    {
      "cell_type": "code",
      "metadata": {
        "colab": {
          "base_uri": "https://localhost:8080/"
        },
        "id": "4Met3dYJF_r3",
        "outputId": "6dbf75ee-5025-45c8-fe69-be2802ff39ee"
      },
      "source": [
        "s1 = input()\n",
        "max = \"\"\n",
        "start = 0\n",
        "end = 0\n",
        "for i in range(len(s1)):\n",
        "  if s1[i] == s1[start]:\n",
        "    end = i\n",
        "  else:\n",
        "    str1 = s1[start:end+1]\n",
        "    start = i\n",
        "    if len(str1)>len(max):\n",
        "      max= str1\n",
        "str1 = s1[start:end+1]\n",
        "if len(str1)> len(max):\n",
        "  max = str1\n",
        "if len(max)>1:\n",
        "  print(max)\n",
        "else:\n",
        "  print(\"NONE\")"
      ],
      "execution_count": null,
      "outputs": [
        {
          "output_type": "stream",
          "name": "stdout",
          "text": [
            "AABBCC\n",
            "AA\n"
          ]
        }
      ]
    },
    {
      "cell_type": "code",
      "metadata": {
        "id": "pj3S8e3wF_pP"
      },
      "source": [
        ""
      ],
      "execution_count": null,
      "outputs": []
    },
    {
      "cell_type": "code",
      "metadata": {
        "id": "NkUBNSihF_mJ"
      },
      "source": [
        ""
      ],
      "execution_count": null,
      "outputs": []
    },
    {
      "cell_type": "code",
      "metadata": {
        "id": "mXYLJJvAF_kP"
      },
      "source": [
        ""
      ],
      "execution_count": null,
      "outputs": []
    },
    {
      "cell_type": "code",
      "metadata": {
        "id": "WpQUrftMF_g_"
      },
      "source": [
        ""
      ],
      "execution_count": null,
      "outputs": []
    },
    {
      "cell_type": "code",
      "metadata": {
        "id": "MUo7Xlu4F_dy"
      },
      "source": [
        ""
      ],
      "execution_count": null,
      "outputs": []
    },
    {
      "cell_type": "code",
      "metadata": {
        "id": "JR-XNq_jF_bW"
      },
      "source": [
        ""
      ],
      "execution_count": null,
      "outputs": []
    }
  ]
}