{
  "nbformat": 4,
  "nbformat_minor": 5,
  "metadata": {
    "kernelspec": {
      "display_name": "Python 3",
      "language": "python",
      "name": "python3"
    },
    "language_info": {
      "codemirror_mode": {
        "name": "ipython",
        "version": 3
      },
      "file_extension": ".py",
      "mimetype": "text/x-python",
      "name": "python",
      "nbconvert_exporter": "python",
      "pygments_lexer": "ipython3",
      "version": "3.8.8"
    },
    "colab": {
      "name": "Python quiz 1.ipynb",
      "provenance": [],
      "collapsed_sections": []
    }
  },
  "cells": [
    {
      "cell_type": "code",
      "metadata": {
        "id": "eab792b4",
        "outputId": "961314d6-8a31-4e5d-8f58-4d6026d9448b"
      },
      "source": [
        "email = input();\n",
        "d = []\n",
        "x = '@'\n",
        "\n",
        "for i in range(len(email)):\n",
        "    if email[i] == x:\n",
        "        if (email[i+1] == '.'):\n",
        "            break;\n",
        "        d.append(email[i+1])\n",
        "        x = email[i+1]\n",
        "\n",
        "domain = ''        \n",
        "for i in d:\n",
        "    domain += i\n",
        "            \n",
        "if domain == 'gmail':\n",
        "    print(\"The user is using \" + domain + \" as a mailing domain.\")\n",
        "elif domain == 'yahoo':\n",
        "    print(\"The user is using \" + domain + \" as a mailing domain.\")        \n",
        "elif domain == 'outlook':\n",
        "    print(\"The user is using \" + domain + \" as a mailing domain.\")\n",
        "elif domain == 'bracu':\n",
        "    print(\"The user is using \" + domain + \" as a mailing domain.\")"
      ],
      "id": "eab792b4",
      "execution_count": null,
      "outputs": [
        {
          "name": "stdout",
          "output_type": "stream",
          "text": [
            "tom@gmail.com\n",
            "The user is using gmail as a mailing domain.\n"
          ]
        }
      ]
    },
    {
      "cell_type": "code",
      "metadata": {
        "id": "cf73ae5f",
        "outputId": "0e65a7ff-c2ad-4737-e071-19e372368a15"
      },
      "source": [
        "s = input()\n",
        " \n",
        "count = 0\n",
        " \n",
        "capital = []\n",
        "small = []\n",
        " \n",
        "for i in range(len(s)):\n",
        "    if ord(s[i]) >= 65 and ord(s[i]) <= 90:\n",
        "        count += 1\n",
        "        capital.append(s[i])\n",
        " \n",
        "    elif count < 3 and ord(s[i]) >= 97 and ord(s[i]) <= 122:\n",
        "        count = 0\n",
        "        small.append(s[i])\n",
        "x = ''\n",
        "if count >= 3:\n",
        "    for i in capital:\n",
        "        x += i\n",
        "    print(x)\n",
        "else:\n",
        "    for i in small:\n",
        "        x += i\n",
        "    print(x)"
      ],
      "id": "cf73ae5f",
      "execution_count": null,
      "outputs": [
        {
          "name": "stdout",
          "output_type": "stream",
          "text": [
            "This is CSE110\n",
            "TCSE\n"
          ]
        }
      ]
    },
    {
      "cell_type": "code",
      "metadata": {
        "id": "eee734a9"
      },
      "source": [
        ""
      ],
      "id": "eee734a9",
      "execution_count": null,
      "outputs": []
    }
  ]
}