{
 "cells": [
  {
   "cell_type": "markdown",
   "id": "3e59bebe",
   "metadata": {},
   "source": [
    "# <font color='darkcyan'>Practice Sheet on Tuple and Dictionary</font>                "
   ]
  },
  {
   "cell_type": "markdown",
   "id": "a0cbc775",
   "metadata": {},
   "source": [
    "## Question - 1\n",
    "A number is a magic number if the summation of even indexed digits is equal to the\\\n",
    "summation of odd indexed digits.\\\n",
    "Now, write a Python program that will take a number N in the very first line from the\\\n",
    "user, then take N number of test cases in the next N lines.\\\n",
    "The program should print a tuple containing two sub-tuples , where the first sub-tuple\\\n",
    "will hold the magic numbers and the second sub-tuple will hold the non-magic numbers.\n",
    "\n",
    "**Sample Input:**\n",
    "\n",
    "5\\\n",
    "1232\\\n",
    "4455\\\n",
    "1234\\\n",
    "9876\\\n",
    "1111\n",
    "\n",
    "**Sample Output:**\n",
    "\n",
    "((1232,4455,1111),(1234,9876))"
   ]
  },
  {
   "cell_type": "code",
   "execution_count": 1,
   "id": "bd7748d8",
   "metadata": {},
   "outputs": [],
   "source": [
    "#Todo\n"
   ]
  },
  {
   "cell_type": "markdown",
   "id": "58af0c36",
   "metadata": {},
   "source": [
    "## Question - 2\n",
    "\n",
    "Write a Python program that takes a tuple of tuples.\\\n",
    "Calculate the average value of the numbers for each tuple of tuples\\\n",
    "and find the tuple whose sum is the maximum.\n",
    "\n",
    "**<font color=\"red\">[Try to avoid built in functions]**\n",
    "\n",
    "**Sample Input:**\n",
    "\n",
    "((33, 22, 11), (30, 45, 56, 45,20), (81, 90, 39, 45), (1, 2, 3, 4,5,6))\n",
    "\n",
    "**Sample Output:**\n",
    "\n",
    "Average : [22.0, 39.2, 63.75, 3.5]\\\n",
    "Tuple with maximum sum : (81, 90, 39, 45)\n"
   ]
  },
  {
   "cell_type": "code",
   "execution_count": 2,
   "id": "b0b0fd28",
   "metadata": {},
   "outputs": [],
   "source": [
    "#Todo\n"
   ]
  },
  {
   "cell_type": "markdown",
   "id": "1ee82d3a",
   "metadata": {},
   "source": [
    "## Question - 3\n",
    "We all know that the additive primaries are red, green, and blue.\\\n",
    "Now, write a Python program that will take a color sequence as a string\\\n",
    "from the user where R represents Red , G represents Green and B represents Blue.\\\n",
    "The program should print the choice of colors that is actually a tuple\\\n",
    "containing the sub-tuples as (color_name, color_frequency) if\\\n",
    "the color_frequency for that color is at least one in the given color sequence.\n",
    "\n",
    "**Sample Input:**\n",
    "\n",
    "RGBRRGBBR\n",
    "\n",
    "**Sample Output:**\n",
    "\n",
    "((′Red′,4),(′Green′,2),(′Blue′,3))"
   ]
  },
  {
   "cell_type": "code",
   "execution_count": 3,
   "id": "07788c15",
   "metadata": {},
   "outputs": [],
   "source": [
    "#Todo\n"
   ]
  },
  {
   "cell_type": "markdown",
   "id": "0bad31cb",
   "metadata": {},
   "source": [
    "## Question - 4\n",
    "Suppose dictionaries are given .Write a Python program that combines two or more\\\n",
    "dictionaries, creates a list of values for each key.\n",
    "\n",
    "**Sample Input:**\n",
    "\n",
    "Original dictionaries:\n",
    "{'w': 50, 'x': 100, 'y': 'Green', 'z': 400}\\\n",
    "{'x': 300, 'y': 'Red', 'z': 600}\n",
    "\n",
    "**Sample Output:**\n",
    "\n",
    "{'w': [50], 'x': [100, 300], 'y': ['Green', 'Red'], 'z': [400, 600]}"
   ]
  },
  {
   "cell_type": "code",
   "execution_count": 4,
   "id": "7d59bb7f",
   "metadata": {},
   "outputs": [],
   "source": [
    "#Todo\n"
   ]
  },
  {
   "cell_type": "markdown",
   "id": "183019c7",
   "metadata": {},
   "source": [
    "## Question - 5\n",
    "Suppose,there will be a dictionary named dict_1.The values of the dictionary will be a\\\n",
    "list or a tuple.Here, in a key value pair ,the key will be a lower case letter if the value is a\\\n",
    "list . And if the value is a tuple,then the key will be an uppercase letter.\\\n",
    "Write a Python program that creates a new dictionary named “dict_primes” which\\\n",
    "contains only prime numbers in the value.And print the dictionary dict_primes.\n",
    "\n",
    "**Sample Input 1:**\n",
    "\n",
    "dict_1 = {\"a\":[5,2,55,17],\"P\":(11,121,222),\"B\":(37,53,71),\"c\":[45,92,50]}\n",
    "\n",
    "**Sample Output 1 :**\n",
    "\n",
    "dict_primes = {'a': [5, 2, 17], 'P': (11,), 'B': (37, 53, 71), 'c': []}\n",
    "\n",
    "**-------------------------------------------**\n",
    "\n",
    "**Sample Input 2:**\n",
    "\n",
    "dict_1 = {\"N\":(4,9,3),\"k\":[95,37,197],\"F\":(32,5,97),\"s\":[31,94,55]}\n",
    "\n",
    "**Sample Output 2 :**\n",
    "\n",
    "dict_primes = {'N': (3,), 'k': [37, 197], 'F': (5, 97), 's': [31]}\n"
   ]
  },
  {
   "cell_type": "code",
   "execution_count": 5,
   "id": "4ae714ee",
   "metadata": {},
   "outputs": [],
   "source": [
    "#Todo\n"
   ]
  },
  {
   "cell_type": "markdown",
   "id": "416f643d",
   "metadata": {},
   "source": [
    "## Question - 6\n",
    "An Agent has three normal skills along with an ultimate skill. Furthermore, there are\\\n",
    "three agents in the game named after Rage , Jett and Sage .Now, write a Python\\\n",
    "program that will detect the Agent from a given dictionary where the keys are \"Normal\\\n",
    "Skills\", \"Ultimate Skill\" and the values are the damages due to the use of the skills on the\\\n",
    "opponents.\n",
    "\n",
    "Additive Damage Score: SUM_TOTAL(NORMAL_SKILL_DAMAGE,\\\n",
    "ULTIMATE_SKILL_DAMAGE)\n",
    "\n",
    "Constraints:\n",
    "1. If the additive damage score is less than or equal to 70 then it is Rage .\n",
    "2. Else If the additive damage score is less than or equal to 100 then it is Jett .\n",
    "3. Else it is Sage .\n",
    "\n",
    "**Sample Input:**\n",
    "\n",
    "Assume a dictionary,\\\n",
    "d = { \"Normal Skills\":[10,15,20], \"Ultimate Skill\":50 }\n",
    "\n",
    "**Sample Output:**\n",
    "\n",
    "Jett\n"
   ]
  },
  {
   "cell_type": "code",
   "execution_count": 6,
   "id": "19729abc",
   "metadata": {},
   "outputs": [],
   "source": [
    "#Todo\n"
   ]
  },
  {
   "cell_type": "markdown",
   "id": "d3f3eabe",
   "metadata": {},
   "source": [
    "                                     Md. Saiful Islam & Anika Tasnim"
   ]
  }
 ],
 "metadata": {
  "kernelspec": {
   "display_name": "Python 3",
   "language": "python",
   "name": "python3"
  },
  "language_info": {
   "codemirror_mode": {
    "name": "ipython",
    "version": 3
   },
   "file_extension": ".py",
   "mimetype": "text/x-python",
   "name": "python",
   "nbconvert_exporter": "python",
   "pygments_lexer": "ipython3",
   "version": "3.8.8"
  }
 },
 "nbformat": 4,
 "nbformat_minor": 5
}
