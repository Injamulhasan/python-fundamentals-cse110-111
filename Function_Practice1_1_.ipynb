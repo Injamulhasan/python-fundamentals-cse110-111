{
  "nbformat": 4,
  "nbformat_minor": 0,
  "metadata": {
    "colab": {
      "name": "Function Practice1.1 .ipynb",
      "provenance": []
    },
    "kernelspec": {
      "name": "python3",
      "display_name": "Python 3"
    },
    "language_info": {
      "name": "python"
    }
  },
  "cells": [
    {
      "cell_type": "code",
      "metadata": {
        "colab": {
          "base_uri": "https://localhost:8080/"
        },
        "id": "JuRQG2D3DS6F",
        "outputId": "e070ee26-5b33-4895-b4f2-7598fb7ed13b"
      },
      "source": [
        "#1\n",
        "def SecondCharc(stri) : #function definition\n",
        "  NumOfChar = 256\n",
        "# Initialize count list of 256 size with value 0\n",
        "  freq = [0] * NumOfChar\n",
        "# count number of occurrences of every character.\n",
        "  for i in range(len(stri)) :\n",
        "    freq[ord(stri[i])] += 1\n",
        "  first, second = 0, 0\n",
        "#traverse the count array to find second highest\n",
        "  for i in range(NumOfChar) :\n",
        "# If present element frequency is smaller than first then update both first and second\n",
        "    if freq[i] > freq[first] :\n",
        "      second = first\n",
        "      first = i\n",
        "# If count[i] is in between first and second then update second\n",
        "    elif (freq[i] > freq[second] and freq[i] != freq[first] ) :\n",
        "      second = i\n",
        "  \n",
        "# finally return character\n",
        "  return chr(second)\n",
        "\n",
        "# Driver code\n",
        "if __name__ == \"__main__\" :\n",
        "  stri = input(\"enter string \")\n",
        "# function calling\n",
        "  output = SecondCharc(stri)\n",
        "  if output != '\\0' :\n",
        "    print(\"Second most frequent char is\", output)\n",
        "  else :\n",
        "    print(\"All charcaters occur the same number of times\")"
      ],
      "execution_count": null,
      "outputs": [
        {
          "output_type": "stream",
          "name": "stdout",
          "text": [
            "enter string Reference\n",
            "Second most frequent char is R\n"
          ]
        }
      ]
    },
    {
      "cell_type": "code",
      "metadata": {
        "id": "FiD1UkaxN_tr"
      },
      "source": [
        "#2"
      ],
      "execution_count": null,
      "outputs": []
    }
  ]
}