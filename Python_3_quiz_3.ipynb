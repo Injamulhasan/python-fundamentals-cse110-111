{
  "nbformat": 4,
  "nbformat_minor": 0,
  "metadata": {
    "colab": {
      "name": "Python 3 quiz-3",
      "provenance": [],
      "collapsed_sections": []
    },
    "kernelspec": {
      "name": "python3",
      "display_name": "Python 3"
    },
    "language_info": {
      "name": "python"
    }
  },
  "cells": [
    {
      "cell_type": "code",
      "execution_count": null,
      "metadata": {
        "colab": {
          "base_uri": "https://localhost:8080/"
        },
        "id": "Bu3giTfgyx20",
        "outputId": "68361770-27c2-44d8-c5e1-6d45f6dfab57"
      },
      "outputs": [
        {
          "output_type": "stream",
          "name": "stdout",
          "text": [
            "No. of Trees = 0\n",
            "###########################\n",
            "Pine do not shed their leaves in autumn\n",
            "Oak shed their leaves in autumn\n",
            "Maple shed their leaves in autumn\n",
            "=========================\n",
            "Name: Pine\n",
            "Benefits: Ornamental\n",
            "=========================\n",
            "Name: Oak\n",
            "Benefits: Hard-wood, Shading\n",
            "=========================\n",
            "Name: Maple\n",
            "Benefits: Hard-wood, Fruit\n",
            "=========================\n",
            "No. of Trees = 3\n"
          ]
        }
      ],
      "source": [
        "# creating Tree class\n",
        "class Tree:\n",
        "    count = 0\n",
        "    # constructor\n",
        "    def __init__(self,name,effect = False):\n",
        "        self.name = name\n",
        "        self.effect = effect\n",
        "        self.benefits = []\n",
        "        Tree.count+=1\n",
        "    # defining autumnEffect method\n",
        "    def autumnEffect(self):\n",
        "        if self.effect == True:\n",
        "            print(self.name,\"shed their leaves in autumn\")\n",
        "        else:\n",
        "            print(self.name,\"do not shed their leaves in autumn\")\n",
        "    # defining add_Benefit method \n",
        "    def add_Benefit(self,*benefits):\n",
        "        for i in benefits:\n",
        "            self.benefits.append(i)\n",
        "    # defining printDetail method\n",
        "    def printDetail(self):\n",
        "        print(\"Name:\",self.name)\n",
        "        print(\"Benefits:\",', '.join(self.benefits))\n",
        "        \n",
        "# output in given formate\n",
        "print(\"No. of Trees =\", Tree.count)\n",
        "pine = Tree('Pine')\n",
        "oak = Tree('Oak', True)\n",
        "maple = Tree('Maple', True)\n",
        "print('###########################')\n",
        "pine.autumnEffect()\n",
        "oak.autumnEffect()\n",
        "maple.autumnEffect()\n",
        "pine.add_Benefit('Ornamental')\n",
        "maple.add_Benefit('Hard-wood', 'Fruit')\n",
        "oak.add_Benefit('Hard-wood', 'Shading')\n",
        "print(\"=========================\")\n",
        "pine.printDetail()\n",
        "print(\"=========================\")\n",
        "oak.printDetail()\n",
        "print(\"=========================\")\n",
        "maple.printDetail()\n",
        "print(\"=========================\")\n",
        "print('No. of Trees =', Tree.count)"
      ]
    },
    {
      "cell_type": "code",
      "source": [
        "###  Here's your full code in python:\n",
        "\n",
        "class Tree:\n",
        "        # class variable count\n",
        "        count = 0\n",
        "        def __init__(self, *args):\n",
        "                args = list(args)\n",
        "                # update count\n",
        "                Tree.count += 1\n",
        "                # store parameters \n",
        "                self.name = args[0]\n",
        "                self.shed = False\n",
        "                if(len(args) == 2):\n",
        "                        self.shed = args[1]\n",
        "\n",
        "                self.benefits = []\n",
        "\n",
        "        # method to print autumn effect\n",
        "        def autumnEffect(self):\n",
        "                if(self.shed):\n",
        "                        print(self.name + \" shed their leaves in autumn\")\n",
        "                else:\n",
        "                        print(self.name + \" do not shed their leaves in autumn\")\n",
        "\n",
        "        # method to add benefits\n",
        "        def add_Benefit(self, *args):\n",
        "                # convert to list\n",
        "                args = list(args)\n",
        "                # add each element of list into list\n",
        "                for b in args:\n",
        "                        self.benefits.append(b)\n",
        "\n",
        "        # method to print details\n",
        "        def printDetail(self):\n",
        "                # print name\n",
        "                print(\"Name:\", self.name)\n",
        "                # print all benefits\n",
        "                print(\"Benefits: \", end = '')\n",
        "                for b in self.benefits[:-1]:\n",
        "                        print(b, end = ', ')\n",
        "                print(self.benefits[-1])\n",
        "\n",
        "\n",
        "# driver program\n",
        "print(\"No. of Trees =\", Tree.count)\n",
        "pine = Tree('Pine')\n",
        "oak = Tree('Oak', True)\n",
        "maple = Tree('Maple', True)\n",
        "print(\"##################################\")\n",
        "pine.autumnEffect()\n",
        "oak.autumnEffect()\n",
        "maple.autumnEffect()\n",
        "pine.add_Benefit('Ornamental')\n",
        "maple.add_Benefit('Hard-wood', 'Fruit')\n",
        "oak.add_Benefit('Hard-wood', 'Shading')\n",
        "print(\"==============================\")\n",
        "pine.printDetail()\n",
        "print(\"==============================\")\n",
        "oak.printDetail()\n",
        "print(\"==============================\")\n",
        "maple.printDetail()\n",
        "print(\"==============================\")\n",
        "print(\"No. of Trees =\", Tree.count)\n"
      ],
      "metadata": {
        "colab": {
          "base_uri": "https://localhost:8080/"
        },
        "id": "cl9uXpQJ7aYD",
        "outputId": "4b26ad40-e284-44b5-edd1-e1305f0ef71b"
      },
      "execution_count": null,
      "outputs": [
        {
          "output_type": "stream",
          "name": "stdout",
          "text": [
            "No. of Trees = 0\n",
            "##################################\n",
            "Pine do not shed their leaves in autumn\n",
            "Oak shed their leaves in autumn\n",
            "Maple shed their leaves in autumn\n",
            "==============================\n",
            "Name: Pine\n",
            "Benefits: Ornamental\n",
            "==============================\n",
            "Name: Oak\n",
            "Benefits: Hard-wood, Shading\n",
            "==============================\n",
            "Name: Maple\n",
            "Benefits: Hard-wood, Fruit\n",
            "==============================\n",
            "No. of Trees = 3\n"
          ]
        }
      ]
    },
    {
      "cell_type": "code",
      "source": [
        ""
      ],
      "metadata": {
        "id": "I0UyEUbt-k_m"
      },
      "execution_count": null,
      "outputs": []
    }
  ]
}