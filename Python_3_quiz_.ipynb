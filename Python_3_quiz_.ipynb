{
  "nbformat": 4,
  "nbformat_minor": 0,
  "metadata": {
    "colab": {
      "name": " Python 3 quiz .ipynb",
      "provenance": [],
      "collapsed_sections": []
    },
    "kernelspec": {
      "name": "python3",
      "display_name": "Python 3"
    },
    "language_info": {
      "name": "python"
    }
  },
  "cells": [
    {
      "cell_type": "code",
      "metadata": {
        "id": "JxQ1oe-GjK8h"
      },
      "source": [
        "#injamul hasan\n",
        "#18301257\n",
        "students_DB={}\n",
        "student_number=None\n",
        " \n",
        "while True:\n",
        "    student_number=input('Please input the ID and name separated by comma or q to exit: ')\n",
        "    if student_number=='q':\n",
        "        break\n",
        "     \n",
        "AM, name = your_input.split(',')\n",
        "students_DB.update({AM:name})\n",
        " \n",
        "name = your_input.split(',')\n",
        "students_DB.update({AM:name})\n",
        " \n",
        "for i in students_DB:\n",
        "    print(key + ' ' + students_DB)\n",
        "    print(print({}.'.format(AM, students_DB[name])))\n",
        "print(students_DB)"
      ],
      "execution_count": null,
      "outputs": []
    },
    {
      "cell_type": "code",
      "metadata": {
        "colab": {
          "base_uri": "https://localhost:8080/"
        },
        "id": "_yJ_H3pOk66E",
        "outputId": "51ba81db-da36-41e7-d6c9-bcd31b81629f"
      },
      "source": [
        "students_DB={}\n",
        "student_number=None\n",
        " \n",
        "#ask input from user or 'q' to exit\n",
        "while True:\n",
        "    line = input('Please input the ID and name separated by comma or q to exit: ')\n",
        "    if line == 'q':\n",
        "        break\n",
        " \n",
        "    id, name = line.split(',')\n",
        "    students_DB.update({id:name})\n",
        " \n",
        "#output\n",
        "for key in students_DB:\n",
        "    print('{}\\'s name is {}.'.format(key, students_DB[key]))"
      ],
      "execution_count": null,
      "outputs": [
        {
          "output_type": "stream",
          "name": "stdout",
          "text": [
            "Please input the ID and name separated by comma or q to exit: 18301257,akash\n",
            "Please input the ID and name separated by comma or q to exit: q\n",
            "18301257's name is akash.\n"
          ]
        }
      ]
    }
  ]
}