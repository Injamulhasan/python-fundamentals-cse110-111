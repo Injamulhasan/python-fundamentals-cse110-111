{
  "nbformat": 4,
  "nbformat_minor": 0,
  "metadata": {
    "colab": {
      "name": "CSE110-list.ipynb",
      "provenance": [],
      "collapsed_sections": []
    },
    "kernelspec": {
      "name": "python3",
      "display_name": "Python 3"
    },
    "language_info": {
      "name": "python"
    }
  },
  "cells": [
    {
      "cell_type": "code",
      "metadata": {
        "colab": {
          "base_uri": "https://localhost:8080/"
        },
        "id": "9T-sgxFOz22A",
        "outputId": "72d69c7a-c4b1-4d77-8e14-e0dbb042d879"
      },
      "source": [
        "#1\n",
        "n=10\n",
        "list1=[]\n",
        "for i in range(n):\n",
        "  n1 = int(input())\n",
        "  list1.append(n1)\n",
        "  print(list1)\n"
      ],
      "execution_count": null,
      "outputs": [
        {
          "output_type": "stream",
          "name": "stdout",
          "text": [
            "1\n",
            "[1]\n",
            "6\n",
            "[1, 6]\n",
            "9\n",
            "[1, 6, 9]\n",
            "5\n",
            "[1, 6, 9, 5]\n",
            "34\n",
            "[1, 6, 9, 5, 34]\n",
            "6\n",
            "[1, 6, 9, 5, 34, 6]\n",
            "8\n",
            "[1, 6, 9, 5, 34, 6, 8]\n",
            "3\n",
            "[1, 6, 9, 5, 34, 6, 8, 3]\n",
            "7\n",
            "[1, 6, 9, 5, 34, 6, 8, 3, 7]\n",
            "9\n",
            "[1, 6, 9, 5, 34, 6, 8, 3, 7, 9]\n"
          ]
        }
      ]
    },
    {
      "cell_type": "code",
      "metadata": {
        "colab": {
          "base_uri": "https://localhost:8080/"
        },
        "id": "FrGhpgqf07ax",
        "outputId": "282fe9a7-786c-4e45-ff46-d01d7b501796"
      },
      "source": [
        "n = input()\n",
        "n1 = n.split() \n",
        "length = 0\n",
        "n3 = []\n",
        "for i in n1:\n",
        "  length+=1\n",
        "if length<=4:\n",
        "  print('Not Possible')\n",
        "else:\n",
        "  n3 = n1[2:length-2]\n",
        "print(n3)"
      ],
      "execution_count": null,
      "outputs": [
        {
          "output_type": "stream",
          "name": "stdout",
          "text": [
            "[10, 20, 24, 25, 26, 35, 70]\n",
            "['24,', '25,', '26,']\n"
          ]
        }
      ]
    },
    {
      "cell_type": "code",
      "metadata": {
        "colab": {
          "base_uri": "https://localhost:8080/"
        },
        "id": "AAjRvafseTdh",
        "outputId": "668c5c2f-ecd6-49e2-ea2d-261e23af67b7"
      },
      "source": [
        "list1=[]\n",
        "for i in range(0,5):\n",
        "  list1.append(int(input()))\n",
        "for i in range(4,-1,-1):\n",
        "  print(list1[i])"
      ],
      "execution_count": null,
      "outputs": [
        {
          "output_type": "stream",
          "name": "stdout",
          "text": [
            "5\n",
            "-5\n",
            "100\n",
            "11\n",
            "0\n",
            "0\n",
            "11\n",
            "100\n",
            "-5\n",
            "5\n"
          ]
        }
      ]
    },
    {
      "cell_type": "code",
      "metadata": {
        "colab": {
          "base_uri": "https://localhost:8080/"
        },
        "id": "sBosh3rJl4K4",
        "outputId": "5cd00f5d-8281-40e6-dfab-88b9aa358c90"
      },
      "source": [
        "#create a list named numberList\n",
        "numberList=[]\n",
        "# Read 5 numbers from the user into a list\n",
        "for i in range(0,5):\n",
        "  numberList.append(input())\n",
        "#Iterate the list over backwards and print the numbers using loop\n",
        "for i in range(4,-1,-1):\n",
        "  print(numberList[i])"
      ],
      "execution_count": null,
      "outputs": [
        {
          "output_type": "stream",
          "name": "stdout",
          "text": [
            "5\n",
            "-5\n",
            "100\n",
            "1\n",
            "0\n",
            "0\n",
            "1\n",
            "100\n",
            "-5\n",
            "5\n"
          ]
        }
      ]
    },
    {
      "cell_type": "code",
      "metadata": {
        "colab": {
          "base_uri": "https://localhost:8080/"
        },
        "id": "0PGA40cPp-4N",
        "outputId": "9db12450-d3b3-42b6-9b8a-c71e946a8449"
      },
      "source": [
        "l1 =  [1, 2, 3, 4, 5, 6, 7, 8, 9]\n",
        "l2 = [10, 11, 12, -13, -14, -15, -16]\n",
        "new_l = []\n",
        "for i in l1:\n",
        "  if i%2==0:\n",
        "    new_l.append(i)\n",
        "for j in l2:\n",
        "  if j %2==0:\n",
        "    new_l.append(j)\n",
        "print(new_l)\n"
      ],
      "execution_count": null,
      "outputs": [
        {
          "output_type": "stream",
          "name": "stdout",
          "text": [
            "[2, 4, 6, 8, 10, 12, -14, -16]\n"
          ]
        }
      ]
    },
    {
      "cell_type": "code",
      "metadata": {
        "colab": {
          "base_uri": "https://localhost:8080/"
        },
        "id": "W_xiVhlVm9MI",
        "outputId": "5248a2e4-e57a-4298-cab6-cf9db15aa041"
      },
      "source": [
        "list1 = [1, 2, 3, 4, 5, 6, 7, 8, 9]\n",
        "list2 = [10, 11, 12, -13, -14, -15, -16]\n",
        "join_list = list1 + list2\n",
        "new_list = []\n",
        "for i in join_list:\n",
        "  if i%2==0:\n",
        "    new_list.append(i)\n",
        "print(new_list)"
      ],
      "execution_count": null,
      "outputs": [
        {
          "output_type": "stream",
          "name": "stdout",
          "text": [
            "[2, 4, 6, 8, 10, 12, -14, -16]\n"
          ]
        }
      ]
    },
    {
      "cell_type": "code",
      "metadata": {
        "colab": {
          "base_uri": "https://localhost:8080/"
        },
        "id": "bhCSO2WDre6b",
        "outputId": "d93e88a2-8bf5-4f30-d3e7-6506bf94e96c"
      },
      "source": [
        "list1 = []\n",
        "n = int(input())\n",
        "for i in range(n):\n",
        "  list1.append(int(input()))\n",
        "result = []\n",
        "for j in list1:\n",
        "  if j not in result:\n",
        "    result.append(j)\n",
        "print(result)"
      ],
      "execution_count": null,
      "outputs": [
        {
          "output_type": "stream",
          "name": "stdout",
          "text": [
            "5\n",
            "4\n",
            "5\n",
            "4\n",
            "5\n",
            "7\n",
            "[4, 5, 7]\n"
          ]
        }
      ]
    },
    {
      "cell_type": "code",
      "metadata": {
        "colab": {
          "base_uri": "https://localhost:8080/"
        },
        "id": "al0s9fqwvvaN",
        "outputId": "52f03d6c-100e-44ba-c306-653fa75bce76"
      },
      "source": [
        "n = int(input())\n",
        "my_list = []\n",
        "for i in range(n):\n",
        "  my_list.append(int(input()))\n",
        "print(my_list)\n",
        "max = my_list[0]\n",
        "index = 0\n",
        "for j in range(n):\n",
        "  if (max < my_list[j]):\n",
        "    max = my_list[j]\n",
        "    index = j\n",
        "print(max,index)\n"
      ],
      "execution_count": null,
      "outputs": [
        {
          "output_type": "stream",
          "name": "stdout",
          "text": [
            "5\n",
            "7\n",
            "13\n",
            "2\n",
            "10\n",
            "6\n",
            "[7, 13, 2, 10, 6]\n",
            "13 1\n"
          ]
        }
      ]
    },
    {
      "cell_type": "code",
      "metadata": {
        "colab": {
          "base_uri": "https://localhost:8080/"
        },
        "id": "0IfQT0UyvvWx",
        "outputId": "dcf84ea9-3173-451a-80cd-3e104cd04e3a"
      },
      "source": [
        "# read comma seperated values into string\n",
        "str1 = input()\n",
        "# split string on delimiter ;\n",
        "li = str1.split(\",\")\n",
        "\n",
        "# create an empty list\n",
        "l = []\n",
        "# convert these vales into int and store into list\n",
        "for i in li:\n",
        "    l.append(int(i))\n",
        "\n",
        "# print the list\n",
        "print(\"My list\", l)\n",
        "\n",
        "# assign 0th element as largest\n",
        "largest = l[0]\n",
        "# assign index at 0\n",
        "index = 0\n",
        "# iterate through the list\n",
        "for i in range(1, 4):\n",
        "    # find largest value in the list\n",
        "    if(largest < l[i]):\n",
        "        largest = l[i]\n",
        "        index = i\n",
        "\n",
        "# print it\n",
        "print(f\"Largest number in the list is {largest} which was found at index {index} \")"
      ],
      "execution_count": null,
      "outputs": [
        {
          "output_type": "stream",
          "name": "stdout",
          "text": [
            "7, 13, 2, 10, 6\n",
            "My list [7, 13, 2, 10, 6]\n",
            "Largest number in the list is 13 which was found at index 1 \n"
          ]
        }
      ]
    },
    {
      "cell_type": "code",
      "metadata": {
        "colab": {
          "base_uri": "https://localhost:8080/"
        },
        "id": "Swh7JFSSvvUY",
        "outputId": "8390a8f4-5585-4800-b173-7a2af7b64fd4"
      },
      "source": [
        "l1 = [1, 2 , 2, 4, 5, 5, 7, 99, 200, 303, 70]\n",
        "l2 =  [1, 1, 2, 3, 3, 3, 4, 5, 200, 500, -5]\n",
        "new_l = l1 + l2\n",
        "newlist = []\n",
        "for i in new_l:\n",
        "  if i not in newlist:\n",
        "    newlist.append(i)\n",
        "print(newlist)"
      ],
      "execution_count": null,
      "outputs": [
        {
          "output_type": "stream",
          "name": "stdout",
          "text": [
            "[1, 2, 4, 5, 7, 99, 200, 303, 70, 3, 500, -5]\n"
          ]
        }
      ]
    },
    {
      "cell_type": "code",
      "metadata": {
        "colab": {
          "base_uri": "https://localhost:8080/"
        },
        "id": "T--Ej4rnvvRo",
        "outputId": "ca5743db-3c0c-4735-e726-ab51a273abd0"
      },
      "source": [
        "list1 = [1, 4, 3, 2, 5]\n",
        "list2 = [8, 7, 6, 9]\n",
        "l1 = 0\n",
        "l2 = 0\n",
        "result = False\n",
        "for x in list1:\n",
        "  l1+=1\n",
        "for y in list2:\n",
        "  l2+=1\n",
        "for i in range(l1):\n",
        "  for j in range(l2):\n",
        "    if (list1[i]==list2[j]):\n",
        "      result =True\n",
        "print(result)"
      ],
      "execution_count": null,
      "outputs": [
        {
          "output_type": "stream",
          "name": "stdout",
          "text": [
            "False\n"
          ]
        }
      ]
    },
    {
      "cell_type": "code",
      "metadata": {
        "colab": {
          "base_uri": "https://localhost:8080/"
        },
        "id": "IMrLjQLWvvD0",
        "outputId": "b4124ed3-1579-4f74-addd-b4efc3ff60d7"
      },
      "source": [
        "list1 = [1,4,3,2,6]\n",
        "list2 = [5,6,9,8,7]\n",
        "result = 0\n",
        "for i in list1:\n",
        "  for j in list2:\n",
        "    if i == j:\n",
        "      result=True\n",
        "    else:\n",
        "      result = False\n",
        "print(result)\n"
      ],
      "execution_count": null,
      "outputs": [
        {
          "output_type": "stream",
          "name": "stdout",
          "text": [
            "False\n"
          ]
        }
      ]
    },
    {
      "cell_type": "code",
      "metadata": {
        "colab": {
          "base_uri": "https://localhost:8080/"
        },
        "id": "ksGAptxyPaw2",
        "outputId": "53d70bc4-a623-427c-eecd-d7eb4b38a41d"
      },
      "source": [
        "n = int(input())\n",
        "l1 = []\n",
        "for i in range(n):\n",
        "  l1.append(int(input()))\n",
        "l2 =[]\n",
        "for j in l1:\n",
        "  if (j%2!=0):\n",
        "    l2.append(j)\n",
        "print(l2)\n"
      ],
      "execution_count": null,
      "outputs": [
        {
          "output_type": "stream",
          "name": "stdout",
          "text": [
            "10\n",
            "7\n",
            "55\n",
            "12\n",
            "4\n",
            "96\n",
            "2\n",
            "11\n",
            "61\n",
            "33\n",
            "42\n",
            "[7, 55, 11, 61, 33]\n"
          ]
        }
      ]
    },
    {
      "cell_type": "code",
      "metadata": {
        "colab": {
          "base_uri": "https://localhost:8080/"
        },
        "id": "0FDM6BvazSrB",
        "outputId": "2e1680ce-dc34-403e-f6bf-8a3c947a5071"
      },
      "source": [
        "str1 = [\"hey\", \"there\", \" \", \"what's\", \" \", \"up\", \" \", \"?\"]\n",
        "new_str = []\n",
        "for j in str1:\n",
        "  if (j!=\" \"):\n",
        "    new_str.append(j)\n",
        "print(new_str)\n"
      ],
      "execution_count": null,
      "outputs": [
        {
          "output_type": "stream",
          "name": "stdout",
          "text": [
            "['hey', 'there', \"what's\", 'up', '?']\n"
          ]
        }
      ]
    },
    {
      "cell_type": "code",
      "metadata": {
        "id": "RFRn45j-1diI"
      },
      "source": [
        "input_list = [\"hey\",\"there\",\"\",\"what's\",\"\",\"up\",\"\",\"?\"]\n",
        "print(\"Original list:\")\n",
        "print(input_list)\n",
        "without_empty_strings = [string for string in input_list if string != \"\"]\n",
        "print(\"Modified list:\")\n",
        "print(without_empty_strings)"
      ],
      "execution_count": null,
      "outputs": []
    },
    {
      "cell_type": "code",
      "metadata": {
        "colab": {
          "base_uri": "https://localhost:8080/"
        },
        "id": "CVhGoksb2c8C",
        "outputId": "c4706258-427a-4a41-c9f6-9931a85e0fd1"
      },
      "source": [
        "n1 = int(input(\"Enter number of elements for list 1: \"))\n",
        "lst1 = []\n",
        "lst2 = []\n",
        "for i in range (n):\n",
        "  lst1.append(int(input()))\n",
        "n2=int(input(\"Enter number of elements for list 2: \"))\n",
        "for j in range(n):\n",
        "  lst2.append(int(input()))\n",
        "new_list=[]\n",
        "lst1[-1] =lst2[0] \n",
        "new_list=lst1+lst2[1::]\n",
        "print(new_list)"
      ],
      "execution_count": null,
      "outputs": [
        {
          "output_type": "stream",
          "name": "stdout",
          "text": [
            "4\n",
            "1\n",
            "4\n",
            "7\n",
            "5\n",
            "6\n",
            "1\n",
            "3\n",
            "9\n",
            "[1, 4, 7, 6, 1, 3, 9]\n"
          ]
        }
      ]
    },
    {
      "cell_type": "code",
      "metadata": {
        "colab": {
          "base_uri": "https://localhost:8080/"
        },
        "id": "u47Lxbje-GSP",
        "outputId": "8e8ead73-4f19-4a17-801b-c4ab6acdf4e8"
      },
      "source": [
        "n = int(input(\"Number of elements : \"))\n",
        "list1 = []\n",
        "for num in range(n):\n",
        "  list1.append(int(input()))\n",
        "result = []\n",
        "for i in list1:\n",
        "  result.append(i**2)\n",
        "print(result)\n"
      ],
      "execution_count": null,
      "outputs": [
        {
          "output_type": "stream",
          "name": "stdout",
          "text": [
            "Number of elements : 7\n",
            "1\n",
            "2\n",
            "3\n",
            "4\n",
            "5\n",
            "6\n",
            "7\n",
            "[1, 4, 9, 16, 25, 36, 49]\n"
          ]
        }
      ]
    },
    {
      "cell_type": "code",
      "metadata": {
        "colab": {
          "base_uri": "https://localhost:8080/"
        },
        "id": "L5jk7Oz1_0e5",
        "outputId": "24ad00d7-d3b2-4e3a-9459-e6aa187062b2"
      },
      "source": [
        "i1 = input()\n",
        "i2 = input()\n",
        "i3 = i1 +i2\n",
        "list1 = []\n",
        "for i in i3:\n",
        "  if i in list\n"
      ],
      "execution_count": null,
      "outputs": [
        {
          "output_type": "stream",
          "name": "stdout",
          "text": [
            "a,b,c,d\n",
            "['a,b,c,d']\n"
          ]
        }
      ]
    },
    {
      "cell_type": "code",
      "metadata": {
        "colab": {
          "base_uri": "https://localhost:8080/"
        },
        "id": "hAmYzWas_0XF",
        "outputId": "df7d2bab-dcbc-4c81-bd80-24bfbd8b683a"
      },
      "source": [
        "n = int(input())\n",
        "my_list = []\n",
        "for x in range(n):\n",
        "  my_list.append(int(input()))\n",
        "print(my_list)\n",
        "large = my_list[0]\n",
        "index1 = 0\n",
        "for i in range(len(my_list)):\n",
        "  if (large>my_list[i]):\n",
        "    large = my_list[i]\n",
        "    index1 = i\n",
        "print(large,index1)\n",
        "\n",
        "small = my_list[0]\n",
        "index2 = 0\n",
        "for j in range(len(my_list)):\n",
        "  if (small <my_list[j]):\n",
        "    small=my_list[j]\n",
        "    index2 = j\n",
        "print(small,index2)"
      ],
      "execution_count": null,
      "outputs": [
        {
          "output_type": "stream",
          "name": "stdout",
          "text": [
            "5\n",
            "7\n",
            "10\n",
            "-5\n",
            "13\n",
            "6\n",
            "[7, 10, -5, 13, 6]\n",
            "-5 2\n",
            "13 3\n"
          ]
        }
      ]
    },
    {
      "cell_type": "code",
      "metadata": {
        "colab": {
          "base_uri": "https://localhost:8080/"
        },
        "id": "9auiU_cCflak",
        "outputId": "a14372ae-aef1-4d1a-e288-b127afb70a14"
      },
      "source": [
        "n1 = list(input())\n",
        "n2 = list(input())\n",
        "common = []\n",
        "for i in range(len(n1)):\n",
        "  if n1[i] in n2:\n",
        "    common.append(n1[i])\n",
        "print(common)"
      ],
      "execution_count": null,
      "outputs": [
        {
          "output_type": "stream",
          "name": "stdout",
          "text": [
            "13AHP\n",
            "AG1PO\n",
            "['1', 'A', 'P']\n"
          ]
        }
      ]
    },
    {
      "cell_type": "code",
      "metadata": {
        "colab": {
          "base_uri": "https://localhost:8080/"
        },
        "id": "GcBYMPkuhNlH",
        "outputId": "9c6c7c23-d8da-4471-ea43-3829c458b482"
      },
      "source": [
        "n = int(input())\n",
        "list1 = []\n",
        "for i in range (n):\n",
        "  list1.append(int(input()))\n",
        "print(list1)\n",
        "large = second= list1[0]\n",
        "index = 0\n",
        "for j in range(1,len(list1)):\n",
        "  if (list1[j]>large):\n",
        "    second = large\n",
        "    large = list1[j]\n",
        "    index = j\n",
        "  elif (list1[j] > second and list1[j] < large):\n",
        "    second = list1[j]\n",
        "    index = j\n",
        "print(second,index)"
      ],
      "execution_count": null,
      "outputs": [
        {
          "output_type": "stream",
          "name": "stdout",
          "text": [
            "5\n",
            "7\n",
            "13\n",
            "2\n",
            "10\n",
            "6\n",
            "[7, 13, 2, 10, 6]\n",
            "10 3\n"
          ]
        }
      ]
    }
  ]
}