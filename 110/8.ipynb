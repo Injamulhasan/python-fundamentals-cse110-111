{
  "nbformat": 4,
  "nbformat_minor": 0,
  "metadata": {
    "colab": {
      "name": "injamul_hasan_akash__18301257_06_CSE110_Lab_Assignment_7.ipynb",
      "provenance": [],
      "collapsed_sections": []
    },
    "kernelspec": {
      "name": "python3",
      "display_name": "Python 3"
    }
  },
  "cells": [
    {
      "cell_type": "markdown",
      "metadata": {
        "id": "ZXvFDb3VLf5p"
      },
      "source": [
        "# CSE110 Lab Assignment 8 on File I/O & Exception\n",
        "\n",
        "Please write your name, student ID and CSE110 section below:\n",
        "\n",
        "\n"
      ]
    },
    {
      "cell_type": "code",
      "metadata": {
        "id": "ft6hkS9Oguhw"
      },
      "source": [
        "#STUDENT NAME:\n",
        "#STUDENT ID:\n",
        "#CSE110 SECTION:"
      ],
      "execution_count": null,
      "outputs": []
    },
    {
      "cell_type": "markdown",
      "metadata": {
        "id": "4fjLeMMMEEKB"
      },
      "source": [
        "**<font color='red'>[MUST MAINTAIN VARIABLE NAMING CONVENTIONS FOR ALL THE TASKS]</font>**\n",
        "\n",
        "## Part 1: File\n",
        "\n",
        "### Task 1\n",
        "\n",
        "Write a python program that reads the first n lines of a text file.\n",
        "\n",
        "Suppose you have a file with all these strings in a file.\n",
        "\n",
        "=========================================================\n",
        "\n",
        "I love Python Programming.\\\n",
        "It is very easy to understand the code.\\\n",
        "It can code very hard problems easily in python code.\\\n",
        "Python programming is the best programming language.\n",
        "\n",
        "=========================================================\n",
        "\n",
        "\n",
        "**Input :**\\\n",
        "2\\\n",
        "**Output :**\\\n",
        "I love Python Programming.\\\n",
        "It is very easy to understand the code.\n",
        "\n",
        "=========================================================\n",
        "\n",
        "**Hint(1):**\\\n",
        "Use counter to control line number.\n",
        "\n",
        "**Hint(2):**\\\n",
        "Use function readlines() to store in a list and then use loop\n",
        "\n",
        "OR you can use readline() in a loop.\n",
        "\n",
        "**Hint(3):**\\\n",
        "You might need to use strip() function"
      ]
    },
    {
      "cell_type": "code",
      "metadata": {
        "id": "Kb0Fn1AsEHVR"
      },
      "source": [
        "#to do\n"
      ],
      "execution_count": null,
      "outputs": []
    },
    {
      "cell_type": "markdown",
      "metadata": {
        "id": "6C9IjoWsEJlJ"
      },
      "source": [
        "### Task 2\n",
        "\n",
        "Write a python program to find the longest word in a file. Then print the word.\\\n",
        "**Input: [in a file]**\\\n",
        "I love Python Programming\\\n",
        "It is very easy to understand the code\\\n",
        "It can code very hard problems easily in python code\\\n",
        "Python programming is the best programming language\n",
        "\n",
        "\n",
        "\n",
        "**Output:**\\\n",
        "Programming\n",
        "\n",
        "=========================================================\n",
        "\n",
        "**Hint(1):**\\\n",
        "You can use split function to separate the words into a list.\n",
        "\n",
        "**Hint(2):**\\\n",
        "Use function readlines()"
      ]
    },
    {
      "cell_type": "code",
      "metadata": {
        "id": "WucZ7kEOEKrA"
      },
      "source": [
        "#to do\n"
      ],
      "execution_count": null,
      "outputs": []
    },
    {
      "cell_type": "markdown",
      "metadata": {
        "id": "Y0dBzRxdEK1R"
      },
      "source": [
        "### Task 3\n",
        "Write a python program that allows you to erase multiple spaces in a text file. Then re-write the sentence without extra spaces in a another text file.\n",
        "\n",
        "=========================================================\n",
        "\n",
        "**Input:**\n",
        "\n",
        "I&nbsp;&nbsp;&nbsp;&nbsp;&nbsp;&nbsp;love  &nbsp;&nbsp;&nbsp;&nbsp;&nbsp;&nbsp;&nbsp;             Python   &nbsp;&nbsp;&nbsp;&nbsp;&nbsp;&nbsp;&nbsp;&nbsp;          Programming\n",
        "\n",
        "**Output:**\\\n",
        "I love Python Programming.\n",
        "\n",
        "=========================================================\n",
        "\n",
        "**Hints:**\\\n",
        "You can use split function to separate the words into a list.\n"
      ]
    },
    {
      "cell_type": "code",
      "metadata": {
        "id": "a0yJHr82ENWF"
      },
      "source": [
        "#to do\n"
      ],
      "execution_count": null,
      "outputs": []
    },
    {
      "cell_type": "markdown",
      "metadata": {
        "id": "OOFNxcqqENje"
      },
      "source": [
        "### Task 4\n",
        "Write a Python program to count the number of lines in a text file. Then, finally print the total number of lines.\n",
        "\n",
        "=========================================================\n",
        "\n",
        "**Input:**\\\n",
        "Hello\\\n",
        "What are you doing\\\n",
        "I am fine\n",
        "\n",
        "**Output:**\\\n",
        "3\n"
      ]
    },
    {
      "cell_type": "code",
      "metadata": {
        "id": "PRPocuTJEP0v"
      },
      "source": [
        "#to do\n"
      ],
      "execution_count": null,
      "outputs": []
    },
    {
      "cell_type": "markdown",
      "metadata": {
        "id": "LiSNirheEQHf"
      },
      "source": [
        "### Task 5\n",
        "\n",
        "Write a Python program to combine each line from the first file with the corresponding line in the second file and then save it in a 3rd file.\n",
        "\n",
        "Consider, both the files have same number of lines. Assume, each line has a newline(\\n) at the end.\n",
        "\n",
        "=========================================================\n",
        "\n",
        "**Example:**\\\n",
        "**Input from file 1:**\\\n",
        "Hello\\\n",
        "Hi\\\n",
        "Nice\n",
        "\n",
        "**Input from file 2:**\\\n",
        "Bad\\\n",
        "Worse\\\n",
        "Worst\n",
        "\n",
        "**Output in 3rd FIle:**\\\n",
        "Hello Bad\\\n",
        "Hi Worse\\\n",
        "Nice Worst \n",
        "\n",
        "=========================================================\n",
        "\n",
        "**Hint(1):**\\\n",
        " Use the write() function\n",
        "\n",
        "\n",
        "\n"
      ]
    },
    {
      "cell_type": "code",
      "metadata": {
        "id": "b-b4xnHLETDY"
      },
      "source": [
        "#to do\n"
      ],
      "execution_count": null,
      "outputs": []
    },
    {
      "cell_type": "markdown",
      "metadata": {
        "id": "6J7MA_zNCbCg"
      },
      "source": [
        "## Part 2: Exception \n"
      ]
    },
    {
      "cell_type": "markdown",
      "metadata": {
        "id": "tZow-v3MLoLE"
      },
      "source": [
        "### Task 6\n",
        "Given a list named my_list.\n",
        "my_list=[10,20,30,40,60,100,2,5]\n",
        "\n",
        "Write a python program that takes the position as an input from the user and prints the element of that position from the list. \n",
        "\n",
        "If the user’s input position is not in the range, return an exception stating “Index out of range”.\n",
        "\n",
        "Make sure your program always prints “Program ended” at the end, no matter what happens.\n",
        "\n",
        "=============================\n",
        "\n",
        "**Hint:** Use finally block\n",
        "\n",
        "=============================\n",
        "\n",
        "**Example 1:** \\\n",
        "**Input:**\\\n",
        "1\\\n",
        "**Output:**\\\n",
        "20\\\n",
        "Program ended\n",
        "\n",
        "=============================\n",
        "\n",
        "**Example 2:** \\\n",
        "**Input:**\\\n",
        "10\\\n",
        "**Output:**\\\n",
        "Index out of range.\\\n",
        "Program ended\n"
      ]
    },
    {
      "cell_type": "code",
      "metadata": {
        "id": "c9yKuS5kLdDO",
        "colab": {
          "base_uri": "https://localhost:8080/"
        },
        "outputId": "0f07f7e1-3f5d-4e36-8525-8469d3cdb881"
      },
      "source": [
        "#to do\n",
        "l=[10,20,30,40,50,60,100,2,5]\n",
        "n=int(input(\"Enter index number:\"))\n",
        "try:\n",
        "    print(l[n])\n",
        "except IndexError :\n",
        "    print(\"Index out of range\")\n",
        "finally:\n",
        "    print(\"Program ended\")"
      ],
      "execution_count": 5,
      "outputs": [
        {
          "output_type": "stream",
          "name": "stdout",
          "text": [
            "Enter index number:10\n",
            "Index out of range\n",
            "Program ended\n"
          ]
        }
      ]
    },
    {
      "cell_type": "markdown",
      "metadata": {
        "id": "gD4MMyO_Mtw4"
      },
      "source": [
        "### Task 7\n",
        "\n",
        "Suppose you have a dictionary named my_dictionary containing the name of some groceries and their prices.\\\n",
        "my_dictionary={“Potato”:12, “Onion”:16, “Ginger”:15, “Garlic”:12, “Tomato”:15}\n",
        "\n",
        "Now write a python program that takes the grocerie names as input from the users and shows the total price of the groceries.\n",
        "\n",
        "Some exceptions to handle:\n",
        "* Handle the exception when the given key is not present in the dictionary.\n",
        "* Handle the exception when the summation variable is not initialized. (the variable to store the total price has been initialized at 0 or not)\n",
        "\n",
        "=============================\n",
        "\n",
        "**Example 1:** \\\n",
        "**Input:**\\\n",
        "Potato,Onion,Ginger\\\n",
        "**Output:**\\\n",
        "43\n",
        "\n",
        "=============================\n",
        "\n",
        "**Example 2:** \\\n",
        "**Input:**\\\n",
        "Potato,Onion,Ginger,Beef\\\n",
        "**Output:**\\\n",
        "Some groceries are not available in the dictionary.\n"
      ]
    },
    {
      "cell_type": "code",
      "metadata": {
        "id": "15umlUXTNe5N",
        "colab": {
          "base_uri": "https://localhost:8080/"
        },
        "outputId": "b540b39b-aaff-431a-97a1-14911df66809"
      },
      "source": [
        "#to do\n",
        "gro=input().split(\",\")\n",
        "my_dict={\"Potato\":12, \"Onion\":16, \"Ginger\":15, \"Garlic\":12, \"Tomato\":15}\n",
        "count=0\n",
        "\n",
        "try:\n",
        "    for items in gro:\n",
        "        count+=my_dict[items]\n",
        "    print(count)\n",
        "\n",
        "except:\n",
        "    print(\"Some groceries are not available in the dictionary.\")"
      ],
      "execution_count": 6,
      "outputs": [
        {
          "output_type": "stream",
          "name": "stdout",
          "text": [
            "Potato,Onion,Ginger,Beef\n",
            "Some groceries are not available in the dictionary.\n"
          ]
        }
      ]
    },
    {
      "cell_type": "markdown",
      "metadata": {
        "id": "l5SgF6kTN7vY"
      },
      "source": [
        "### Task 8\n",
        "Write a python program that takes two lists as input from the user, multiplies the index wise elements of the two lists and adds it to a new variable. While doing the program you should handle the following exceptions:\n",
        "* Return an exception if an element in a list is not a number stating “The list has some non number values”.\n",
        "* Return an exception if there is an index out of bound stating “Index out of bound”.\n",
        "\n",
        "=============================\n",
        "\n",
        "**Example 1:** \\\n",
        "**Input:**\\\n",
        "list_one = [1, a, 2, 4]\\\n",
        "list_two =[5, 6, 7, 8]\\\n",
        "**Output:**\\\n",
        "The list has some non number values\n",
        "\n",
        "=================\n",
        "\n",
        "**Example 2:** \\\n",
        "**Input:**\\\n",
        "list_one=[1, 2, 3, 4, 5]\\\n",
        "list_two=[1, 2, 3, 4]\\\n",
        "**Output:**\\\n",
        "Index out of bound\n",
        "\n",
        "=================\n",
        "\n",
        "**Example 3:** \\\n",
        "**Input:**\\\n",
        "list_one=[1,2,3,4]\\\n",
        "list_two=[5,6,7,8]\\\n",
        "**Output:**\\\n",
        "70\n",
        "\n",
        "\n"
      ]
    },
    {
      "cell_type": "code",
      "metadata": {
        "id": "oFpEZFRhOlvV",
        "colab": {
          "base_uri": "https://localhost:8080/"
        },
        "outputId": "25c5ffec-80df-4285-f2a6-5ef2927a0698"
      },
      "source": [
        "#to do\n",
        "list1 = [i for i in input(\"List one =\").split()]\n",
        "list2= [i for i in input(\"List two =\").split()]\n",
        "sum = 0\n",
        "try:\n",
        "    for i in range(len(list1)):\n",
        "        sum+=(int(list1[i])*int(list2[i]))\n",
        "    print(sum)\n",
        "except ValueError:\n",
        "    print(\"The list has some non number values\")\n",
        "except IndexError:\n",
        "    print(\"Index out of bound\")"
      ],
      "execution_count": 9,
      "outputs": [
        {
          "output_type": "stream",
          "name": "stdout",
          "text": [
            "List one = [1, a, 2, 4]\n",
            "List two =[5, 6, 7, 8]\n",
            "The list has some non number values\n"
          ]
        }
      ]
    },
    {
      "cell_type": "markdown",
      "metadata": {
        "id": "iBqIUN-WOnvW"
      },
      "source": [
        "### Task 9\n",
        "Write a python program that will take a string input from the user. Your task is to count the number of vowels and consonants in the string.\n",
        "\n",
        "Using try, if the number of vowels is greater than or equal to the number of consonants than raise a runtime error. Print 'Number of vowels greater/equal to consonants. Please paraphrase.'.\\\n",
        "Otherwise, print 'The sentence will work.'. \n",
        "\n",
        "**Note:** a,e,i,o,u are called vowels and all the other 21 english alphabets are consonants.\n",
        "\n",
        "=============================\n",
        "\n",
        "**Example 1:** \\\n",
        "**Input:**\\\n",
        "'his age is 10'\\\n",
        "**Output:**\\\n",
        "Number of vowels greater/equal to consonants. Please paraphrase.\n",
        "\n",
        "=================\n",
        "\n",
        "**Example 2:** \\\n",
        "**Input:**\\\n",
        "'he is 10 years old'\\\n",
        "**Output:**\\\n",
        "The sentence will work."
      ]
    },
    {
      "cell_type": "code",
      "metadata": {
        "id": "-4kg2W2EPwVo",
        "colab": {
          "base_uri": "https://localhost:8080/"
        },
        "outputId": "fc65962d-c24d-441f-d134-76fcbd481f31"
      },
      "source": [
        "#to do\n",
        "string1=input(\"Enter a string:\")\n",
        "valu=0\n",
        "count=0\n",
        "string1.lower()\n",
        "for i in string1:\n",
        "    if (i == 'a'or i == 'e'or i == 'i'or i == 'o'or i == 'u'):\n",
        "          valu=valu+1\n",
        "    else:\n",
        "         count=count+1\n",
        "\n",
        "if  valu>=count:\n",
        "  print(\"Number of vowels greater/equal to consonants\")\n",
        "else:\n",
        "  print(\"The sentence will work\")"
      ],
      "execution_count": 4,
      "outputs": [
        {
          "output_type": "stream",
          "name": "stdout",
          "text": [
            "Enter a string:'he is 10 years old'\n",
            "The sentence will work\n"
          ]
        }
      ]
    },
    {
      "cell_type": "markdown",
      "metadata": {
        "id": "pl4CDeUkPxeM"
      },
      "source": [
        "### Task 10\n",
        "Write a python program that finds the corresponding energy values from a list of frequency values which are taken as input from the user, using the formula, $E=h*f$, where h is a constant of value: 1050\n",
        "\n",
        "Exceptions to handle:\n",
        "* Make sure all elements in the lists are numbers\n",
        "\n",
        "=============================\n",
        "\n",
        "**Example 1:** \\\n",
        "**Input:**\\\n",
        "[2,3]\\\n",
        "**Output:**\\\n",
        "[2100, 3150]\n",
        "\n",
        "=================\n",
        "\n",
        "**Example 2:** \\\n",
        "**Input:**\\\n",
        "[2,boss]\\\n",
        "**Output:**\\\n",
        "Wrong input type"
      ]
    },
    {
      "cell_type": "code",
      "metadata": {
        "id": "vdYQH9qnQvVo",
        "colab": {
          "base_uri": "https://localhost:8080/"
        },
        "outputId": "392274b8-5b3d-40c0-c3c6-1e0cc98bb8c0"
      },
      "source": [
        "#to do\n",
        "list=input().split()\n",
        "value=True\n",
        "for i in list:\n",
        "  if not i.isnumeric():\n",
        "    value=False\n",
        "if value:\n",
        "  energy_val=[1050*int(j) for j in list]\n",
        "  print(energy_val)\n",
        "else:\n",
        "  print('Wrong input type')"
      ],
      "execution_count": 3,
      "outputs": [
        {
          "output_type": "stream",
          "name": "stdout",
          "text": [
            "[2,boss]\n",
            "Wrong input type\n"
          ]
        }
      ]
    },
    {
      "cell_type": "markdown",
      "metadata": {
        "id": "GC6Y943uUNHY"
      },
      "source": [
        "### Task 11\n",
        "Imagine Salman Khan is going to the sets of a new movie. He decides to cycle everyday on his way to the sets. For that he uses a distance calculator which finds the distance based on the present day's date, which is asked as an input from the user. You should first take the day and then the month as your inputs.\n",
        "The inputs should be stored in variables named `day` and `month` The distance calculator uses the following formulae to calculate a number which dictates the number of kilometers he must cycle on his way to work.\n",
        "\n",
        "Distance = |if day<10, `5+(day*2)/month`\\\n",
        "&nbsp;&nbsp;&nbsp;&nbsp;&nbsp;&nbsp;&nbsp;&nbsp;&nbsp;&nbsp;&nbsp;&nbsp;&nbsp;&nbsp;&nbsp;&nbsp;&nbsp;&nbsp;&nbsp; |else, `3+(day/month)`\n",
        "\n",
        "\n",
        "Exceptions to handle:\\\n",
        "-Check for 0 division error exception\\\n",
        "-Type error exception when taking date as input(if the input does not contain number)\\\n",
        "-Value error exception, as day can not be greater than 31 and month can not be greater than 12\n",
        "\n",
        "\n",
        "\n",
        "\n",
        "\n",
        "=============================\n",
        "\n",
        "\n",
        "**Example 1:** \\\n",
        "**Input:**\\\n",
        "3\\\n",
        "5\\\n",
        "**Output:**\\\n",
        "6.2 kilometres\n",
        "\n",
        "=================\n",
        "\n",
        "**Example 2:** \\\n",
        "**Input:**\\\n",
        "2\\\n",
        "0\\\n",
        "**Output:**\\\n",
        "0 is not a valid month\n",
        "\n",
        "=============================\n",
        "\n",
        "**Example 3:** \\\n",
        "**Input:**\\\n",
        "35\\\n",
        "12\\\n",
        "**Output:**\\\n",
        "35 is not a valid day of any month\n",
        "\n",
        "=============================\n",
        "\n",
        "**Example 4:** \\\n",
        "**Input:**\\\n",
        "Hello\\\n",
        "12\\\n",
        "**Output:**\\\n",
        "Please do not enter any string as input\n",
        "\n",
        "=============================\n",
        "\n",
        "\n",
        "**Example 5:** \\\n",
        "**Input:**\\\n",
        "15\\\n",
        "12\\\n",
        "**Output:**\\\n",
        "4.25 kilometres\n",
        "\n",
        "\n",
        "**Hint(1):**\\\n",
        "Can use the built-in isdigit() function OR the ASCII values ensure numbers as inputs\n",
        "\n",
        "\n",
        "**Hint(2):**\\\n",
        "Print the outputs in the except block with the help of conditional statements\n",
        "\n",
        "\n"
      ]
    },
    {
      "cell_type": "code",
      "metadata": {
        "id": "NOpi8SPREmVw"
      },
      "source": [
        "#to do\n",
        "day=input()\n",
        "month=input()\n",
        "\n",
        "if (d.isdigit() and m.isdigit()):\n",
        "    day=int(ay)\n",
        "    month=int(month)\n",
        "if day>31:\n",
        "    print(str(month) + \"is not a valid day of any month\")\n",
        "elif month>12:\n",
        "    print(str(month) + \"is not a valid month\")\n",
        "else:\n",
        "    try:\n",
        "      if day <10:\n",
        "        distance = 5+(day*2)/month\n",
        "      else:\n",
        "        distance = 3 +(day/month)\n",
        "      print(str(distance) + \"kilometeres\")\n",
        "\n",
        "    except ZeroDivisionError:\n",
        "      print(\"0 is not a valid month\")"
      ],
      "execution_count": null,
      "outputs": []
    },
    {
      "cell_type": "markdown",
      "metadata": {
        "id": "UrxbFOWk5ASO"
      },
      "source": [
        "## Optional Tasks (12-15)"
      ]
    },
    {
      "cell_type": "markdown",
      "metadata": {
        "id": "uIYrt-t8ETUQ"
      },
      "source": [
        "\n",
        "### Task 12\n",
        "Suppose you made a game and you stored information about the game play in a file.\\\n",
        "You stored Name, Score, Lives Used and Characters Killed of each players.\n",
        "\n",
        "**Existing file:**\\\n",
        "Mary,2000,5,25\\\n",
        "John,123455,12,50\\\n",
        "Peter,1500,5,10\\\n",
        "Harry,10000,10,30\\\n",
        "John,122,5,2\\\n",
        "Mary,5,1,1\\\n",
        "Peter,2,1,1\\\n",
        "John,123,5,10\\\n",
        "John,5,6,7\n",
        "\n",
        "**Now you have to make a new file where you have to store the following information:**\\\n",
        "1.In the first line you have to show the name and score of the player who scored the highest score.\n",
        "\n",
        "2.In the second line you have to store the name and lives used of players who used the least lives.\n",
        "\n",
        "3.In the third line you have to show the name and number of games played of the player who played the most games.\n",
        "\n",
        "**Output:**\\\n",
        "Name:John, Score:123455\\\n",
        "Name:Mary, Lives used:1\\\n",
        "Name:John, Games Played:4\n",
        "\n",
        "=========================================================\n",
        "\n",
        "**Hint(1):**\\\n",
        "Use dictionary where necessary.\\\n",
        "You are allowed to use max() min(), list.index(value) and str.split(separator) function.\n",
        "\n",
        "**Hint(2):**\\\n",
        "You need to use split function to get the data. The split function takes the separator as an argument.\n",
        "\n",
        "*Structure:*\n",
        "str.split(separator)\n",
        "\n",
        "*Example:*\n",
        "line = \"John,5,6,7\"\\\n",
        "line.split(',')\n",
        "\n",
        "**Hint(3):**\\\n",
        "You can use both write() and writelines() for writing the answers\n",
        "\n"
      ]
    },
    {
      "cell_type": "code",
      "metadata": {
        "id": "0eB5wE1p-869"
      },
      "source": [
        "#to do\n"
      ],
      "execution_count": null,
      "outputs": []
    },
    {
      "cell_type": "markdown",
      "metadata": {
        "id": "SjU5ufx8Snv3"
      },
      "source": [
        "### Task 13\n",
        "Read a **file** from the user which contains the  name and salary of employees. Convert that to a dictionary where the key is the name of each employee and value is the salary of that employee. Then find the total cost for the company that it needs to pay through employees’ salary. Print the dictionary and sum if no exception occurs.\n",
        "\n",
        "Exception to handle:\n",
        "* check whether file is actually there\n",
        "* check whether the salary in each line is a number or not.\n",
        "* raise error if there are extra numbers or names\n",
        "\n",
        "=============================\n",
        "\n",
        "**Example 1:** \\\n",
        "**Input:**\\\n",
        "Saadat 100\\\n",
        "Farzad 200\\\n",
        "Atef 300\\\n",
        "**Output:**\\\n",
        "dict={Saadat : 100, Farzad : 200, Atef : 300}\\\n",
        "Sum = 600\n",
        "\n",
        "=================\n",
        "\n",
        "**Example 2:** \\\n",
        "**Input:**\\\n",
        "Saadat 100\\\n",
        "Farzad 200\\\n",
        "Atef 300\\\n",
        "John\\\n",
        "**Output:**\\\n",
        "Extra Statement\n",
        "\n",
        "**Example 3:** \\\n",
        "**Input:**\\\n",
        "Saadat 100\\\n",
        "Farzad 200\\\n",
        "Atef john\\\n",
        "**Output:**\\\n",
        "Salary cannot be string\n"
      ]
    },
    {
      "cell_type": "code",
      "metadata": {
        "id": "SUxJ1iCXUAPg"
      },
      "source": [
        "#to do\n"
      ],
      "execution_count": null,
      "outputs": []
    },
    {
      "cell_type": "markdown",
      "metadata": {
        "id": "2Xzq6xJNWvbf"
      },
      "source": [
        "### Task 14\n",
        "Write a python program to make a calculator. The user must input a string consisting of a number, operator and another number separated by white spaces.\n",
        "* If the user’s input does not contain 3 elements, raise an **exception error** stating \"Input does not contain 3 elements/Wrong operator\".\n",
        "* If the user inputs any other values except numbers in first and third position of the input, raise **value error** exception stating \"Input does not contain numbers.\" \n",
        "* If the user does not input ‘+’ or ‘-’ or ’/’ or ‘*’ or ‘%’ in second position of the input, again raise an **exception error** stating \"Input does not contain 3 elements/Wrong operator\".\n",
        "\n",
        "* In case of division, also handle **divide by zero exception**.\n",
        "\n",
        "\n",
        "If all the inputs are correct, calculate the result and print the value.\n",
        "\n",
        "\n",
        "=============================\n",
        "\n",
        "\n",
        "**Example 1:** \\\n",
        "**Input:**\\\n",
        "1 + 1 + 1\\\n",
        "**Output:**\\\n",
        "Input does not contain 3 elements/Wrong operator\n",
        "\n",
        "=================\n",
        "\n",
        "**Example 2:** \\\n",
        "**Input:**\\\n",
        "A * B\\\n",
        "**Output:**\\\n",
        "Input does not contain numbers.\n",
        "\n",
        "=================\n",
        "\n",
        "**Example 3:** \\\n",
        "**Input:**\\\n",
        "1 $ 3\\\n",
        "**Output:**\\\n",
        "Input does not contain 3 elements/Wrong operator\n",
        "\n",
        "=================\n",
        "\n",
        "**Example 4:** \\\n",
        "**Input:**\\\n",
        "1 + 1\\\n",
        "**Output:**\\\n",
        "The answer is : 2\n"
      ]
    },
    {
      "cell_type": "code",
      "metadata": {
        "id": "vX2d7DiVXbhc"
      },
      "source": [
        "#to do\n"
      ],
      "execution_count": null,
      "outputs": []
    },
    {
      "cell_type": "markdown",
      "metadata": {
        "id": "RdshPzpJRcsD"
      },
      "source": [
        "### Task 15\n",
        "Write a python function that will remove a given character from a sentence based on the starting and ending index of the sentence. In the place of the removed characters, add the count of the number of characters removed so far. For this program, you need to take 4 user inputs.\n",
        "* Sentence\n",
        "* Character to be removed\n",
        "* Starting index (inclusive)\n",
        "* Ending index (inclusive)\n",
        "\n",
        "Few exceptions to catch: \n",
        "* Name Error if a variable is not found. Print ‘Name Error: Variable not defined’\n",
        "* Value Error if the starting index and ending index is not an integer. Print ‘Value Error: Wrong input, please enter an integer value.’\n",
        "* Type Error when adding count in the new sentence. Print ‘Type Error: Cannot add integer value with string.’\n",
        "* Index Error if the starting and ending index is out of range. Print ‘Index Error: Index is outside the range of sentence length.’\n",
        "* For other exceptions, catch Exception. Print ‘Some other error occurred.’\n",
        "\n",
        "If no exception occurred, print the new string using else block. At the end using finally, print ‘The program execution is complete’.\n",
        "\n",
        "=============================\n",
        "\n",
        "**Example 1:** \\\n",
        "**Input:**\\\n",
        "'my python programming book'\\\n",
        "'m'\\\n",
        "2\\\n",
        "20\\\n",
        "**Output:**\\\n",
        "my python progra12ing book\\\n",
        "The program execution is complete\n",
        "\n",
        "=================\n",
        "\n",
        "**Example 2:** \\\n",
        "**Input:**\\\n",
        "'my python programming book'\\\n",
        "'m'\\\n",
        "2.5\\\n",
        "20\\\n",
        "**Output:**\\\n",
        "Value Error: Wrong input, please enter an integer value.\\\n",
        "The program execution is complete\n",
        "\n",
        "=================\n",
        "\n",
        "**Example 3:** \\\n",
        "**Input:**\\\n",
        "'my python programming book'\\\n",
        "'m'\\\n",
        "2\\\n",
        "100\\\n",
        "**Output:**\\\n",
        "Index Error: Index is outside the range of sentence length.\\\n",
        "The program execution is complete\n",
        "\n",
        "=================\n",
        "\n",
        "**Hint(1):**\\\n",
        "For ensuring starting index and ending index value to be integer use the builtin function isinstance(value, data_type)\n"
      ]
    },
    {
      "cell_type": "code",
      "metadata": {
        "id": "bcU6dV5BSl7d"
      },
      "source": [
        "#to do\n"
      ],
      "execution_count": null,
      "outputs": []
    }
  ]
}