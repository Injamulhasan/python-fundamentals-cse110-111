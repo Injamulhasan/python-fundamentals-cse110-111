{
  "nbformat": 4,
  "nbformat_minor": 0,
  "metadata": {
    "colab": {
      "name": "21101124_Iftikhar Shams Niloy_11_CSE110Assignment3.ipynb",
      "provenance": [],
      "collapsed_sections": []
    },
    "kernelspec": {
      "display_name": "Python 3",
      "language": "python",
      "name": "python3"
    },
    "language_info": {
      "codemirror_mode": {
        "name": "ipython",
        "version": 3
      },
      "file_extension": ".py",
      "mimetype": "text/x-python",
      "name": "python",
      "nbconvert_exporter": "python",
      "pygments_lexer": "ipython3",
      "version": "3.8.5"
    }
  },
  "cells": [
    {
      "cell_type": "markdown",
      "metadata": {
        "id": "xDNsncrtU1yM"
      },
      "source": [
        "# CSE110 Lab Assignment 3\n",
        "\n",
        "This Assignment is to help you develop your concept of Strings in Python."
      ]
    },
    {
      "cell_type": "markdown",
      "metadata": {
        "id": "gh4GUDaIU1yO"
      },
      "source": [
        "\n",
        "\n",
        "\n",
        "\n",
        "\n",
        "\n",
        "##Write your name, student ID and CSE110 theory section number below:\n",
        "\n",
        "\n",
        "\n",
        "\n",
        "\n"
      ]
    },
    {
      "cell_type": "code",
      "metadata": {
        "id": "OAYfzLIqgqyE"
      },
      "source": [
        "#STUDENT NAME:Iftikhar Shams Niloy\n",
        "#STUDENT ID:21101124\n",
        "#CSE110 THEORY SECTION:11"
      ],
      "execution_count": null,
      "outputs": []
    },
    {
      "cell_type": "markdown",
      "metadata": {
        "id": "KD4EKJf6U1yQ"
      },
      "source": [
        "## Write the code in Python to do the following tasks:\n",
        "\n",
        "**<font color='red'>[MUST MAINTAIN VARIABLE NAMING CONVENTIONS FOR ALL THE TASKS]</font>**\n",
        "\n",
        "\n",
        "### Task 1 \n",
        "\n",
        "Write a Python program that will ask the user to input a string (containing exactly one word). Then your program should print subsequent substrings of the given string as shown in the examples below.\n",
        "\n",
        "=====================================================================\n",
        "\n",
        "**Example 1:**\\\n",
        "Input: BANGLA\\\n",
        "Output:\\\n",
        "B\\\n",
        "BA\\\n",
        "BAN\\\n",
        "BANG\\\n",
        "BANGL\\\n",
        "BANGLA\n",
        "\n",
        "=====================================================================\n",
        "\n",
        "**Example 2:**\\\n",
        "Input: DREAM\\\n",
        "Output:\\\n",
        "D\\\n",
        "DR\\\n",
        "DRE\\\n",
        "DREA\\\n",
        "DREAM\n",
        "\n",
        "=====================================================================\n",
        "\n",
        "**Hints(1):** Need to use \"for loop\" for this task.\n",
        "\n",
        "**Hints(2):** Need to use print() function for printing newlines.\n",
        "\n",
        "For example:\\\n",
        "print(1)\\\n",
        "print(2)\n",
        "\n",
        "Output:\\\n",
        "1\\\n",
        "2\n",
        "\n",
        "=====================================================================\n",
        "\n",
        "We need use print(end = \"\") to skip printing the additional newline.\n",
        "\n",
        "For example:\\\n",
        "print(1, end =\" \")\\\n",
        "print(2)\n",
        "\n",
        "Output:(prints the following output right next to the previous one)\\\n",
        "12\n",
        "\n",
        "=====================================================================\n",
        "\n",
        "\n",
        "\n",
        "\n"
      ]
    },
    {
      "cell_type": "code",
      "metadata": {
        "id": "vJhpmj2XU1yR",
        "outputId": "fae59aec-9829-4d5a-c810-2647c2f19395"
      },
      "source": [
        "word = input(\"Enter a word :\")\n",
        "times = len(word)\n",
        "for i in range(times):\n",
        "    print(word[0:i+1])"
      ],
      "execution_count": null,
      "outputs": [
        {
          "name": "stdout",
          "output_type": "stream",
          "text": [
            "Enter a word :DREAM\n",
            "D\n",
            "DR\n",
            "DRE\n",
            "DREA\n",
            "DREAM\n"
          ]
        }
      ]
    },
    {
      "cell_type": "markdown",
      "metadata": {
        "id": "pbdeIVcyU1yi"
      },
      "source": [
        "### Task 2\n",
        "\n",
        "Write a Python program that will ask the user to enter a  word as an input. \n",
        "\n",
        "* If the length of the input string is less than 4, then your program should print the same string as an output. \n",
        "* If the input string’s length is greater than 3, then your program should add \"er\" at the end of the input string. \n",
        "* If the input string already ends with \"er\", then add \"est\" instead. \n",
        "* If the input string already ends with \"est\", then your program should print the same input string as an output.\n",
        "\n",
        "=====================================================================\n",
        "\n",
        "**Example 1:**\\\n",
        "Input: strong\\\n",
        "Output: stronger\n",
        "\n",
        "=====================================================================\n",
        "\n",
        "**Example 2:**\\\n",
        "Input: stronger\\\n",
        "Output: strongest\n",
        "\n",
        "=====================================================================\n",
        "\n",
        "**Example 3:**\\\n",
        "Input: strongest\\\n",
        "Output: strongest\n",
        "\n",
        "=====================================================================\n",
        "\n",
        "**Example 4:**\\\n",
        "Input: abc\\\n",
        "Output: abc\n",
        "\n",
        "====================================================================="
      ]
    },
    {
      "cell_type": "code",
      "metadata": {
        "id": "A5df9pmJU1yj",
        "outputId": "6b307f7e-1756-481e-cad3-aab443337f48"
      },
      "source": [
        "word = input(\"Enter a word :\")\n",
        "if len(word) < 4 :\n",
        "    print(word)\n",
        "elif len(word)> 3 :\n",
        "    if \"er\" in word:\n",
        "        new_word = word.replace(\"er\", \"est\")\n",
        "        print(new_word)\n",
        "    elif \"est\" in word:\n",
        "        print(word)\n",
        "    else:\n",
        "        print(word+\"er\")"
      ],
      "execution_count": null,
      "outputs": [
        {
          "name": "stdout",
          "output_type": "stream",
          "text": [
            "Enter a word :Stronger\n",
            "Strongest\n"
          ]
        }
      ]
    },
    {
      "cell_type": "markdown",
      "metadata": {
        "id": "PsBbgc4YU1yp"
      },
      "source": [
        "### Task 3\n",
        "\n",
        "Write a Python program that will ask the user to input a string (containing exactly one word). Then print the ASCII code for each character in the String using the ord() function. \n",
        "\n",
        "To check if your program is working correctly or not, you can find a list of all correct values from the following website. Look at “Dec” and “Char” columns only, ignore other columns.\\\n",
        "link: http://www.asciitable.com/\n",
        "\n",
        "=====================================================================\n",
        "\n",
        "**Example 1:**\\\n",
        "Input: Programming\\\n",
        "Output:\\\n",
        "P : 80\\\n",
        "r : 114\\\n",
        "o : 111\\\n",
        "g : 103\\\n",
        "r : 114\\\n",
        "a : 97\\\n",
        "m : 109\\\n",
        "m : 109\\\n",
        "i : 105\\\n",
        "n : 110\\\n",
        "g : 103\n",
        "\n",
        "=====================================================================\n",
        "\n",
        "**Example 2:**\\\n",
        "Input: hunger\\\n",
        "Output:\\\n",
        "h : 104\\\n",
        "u : 117\\\n",
        "n : 110\\\n",
        "g : 103\\\n",
        "e : 101\\\n",
        "r : 114 \n",
        "\n",
        "====================================================================="
      ]
    },
    {
      "cell_type": "code",
      "metadata": {
        "colab": {
          "base_uri": "https://localhost:8080/"
        },
        "id": "WpnwOi1KLDhL",
        "outputId": "39fe0953-6d3d-45e5-c561-2764463185d1"
      },
      "source": [
        "word=input()\n",
        "for i in word:\n",
        "  print(i,\":\",ord(i))"
      ],
      "execution_count": null,
      "outputs": [
        {
          "output_type": "stream",
          "name": "stdout",
          "text": [
            "programming\n",
            "p : 112\n",
            "r : 114\n",
            "o : 111\n",
            "g : 103\n",
            "r : 114\n",
            "a : 97\n",
            "m : 109\n",
            "m : 109\n",
            "i : 105\n",
            "n : 110\n",
            "g : 103\n"
          ]
        }
      ]
    },
    {
      "cell_type": "code",
      "metadata": {
        "id": "r8by7ONZU1ys",
        "outputId": "6064f2f0-0b56-4c0b-de58-b17d660736a7"
      },
      "source": [
        "word = input(\"Enter a word :\")\n",
        "times = len(word)\n",
        "for i in range(times):\n",
        "    print(word[i],\":\", ord(word[i]))\n"
      ],
      "execution_count": null,
      "outputs": [
        {
          "name": "stdout",
          "output_type": "stream",
          "text": [
            "Enter a word :Programming\n",
            "P : 80\n",
            "r : 114\n",
            "o : 111\n",
            "g : 103\n",
            "r : 114\n",
            "a : 97\n",
            "m : 109\n",
            "m : 109\n",
            "i : 105\n",
            "n : 110\n",
            "g : 103\n"
          ]
        }
      ]
    },
    {
      "cell_type": "markdown",
      "metadata": {
        "id": "O8lIVppgU1yw"
      },
      "source": [
        "### Task 4\n",
        "\n",
        "Take a string as a input from the user with all small letters. Then print the next alphabet in sequence for each alphabet found in the input.\n",
        "\n",
        "=====================================================================\n",
        "\n",
        "\n",
        "*Hint: You need to use functions ord() and chr(). The ASCII value of ‘a’ is 97 and ‘z’ is 122.*\n",
        "\n",
        "=====================================================================\n",
        "\n",
        "**Example 1:**\\\n",
        "Input: abcd\\\n",
        "Output: bcde\n",
        "\n",
        "=====================================================================\n",
        "\n",
        "**Example 2:**\\\n",
        "Input: the cow\\\n",
        "Output: uif!dpx\n",
        "\n",
        "=====================================================================\n",
        "\n",
        "**Example 3: <font color='red'>[Must fulfil this criteria]</font>**\\\n",
        "Input: xyzabc\\\n",
        "Output: yzabcd\n",
        "\n",
        "=====================================================================\n"
      ]
    },
    {
      "cell_type": "code",
      "metadata": {
        "id": "Hyvy8WNNU1yx",
        "outputId": "e550b501-4ab0-4fab-f97e-0ae5497c0bf3"
      },
      "source": [
        "word = input(\"Enter a word :\")\n",
        "times = len(word)\n",
        "for i in range(times):\n",
        "    if ord(word[i])==122 :\n",
        "        print(chr(97),end=\"\")\n",
        "    else:\n",
        "        print(chr(ord(word[i])+1),end=\"\")\n"
      ],
      "execution_count": null,
      "outputs": [
        {
          "name": "stdout",
          "output_type": "stream",
          "text": [
            "Enter a word :xyzabc\n",
            "yzabcd"
          ]
        }
      ]
    },
    {
      "cell_type": "markdown",
      "metadata": {
        "id": "leVtdAsdymXM"
      },
      "source": [
        "### Task 5\n",
        "\n",
        "Write a Python program that will ask the user to enter two strings (s1, s2) as an input. Then create a mixed string with alternative characters from each string. Any leftover chars will be appended at the end of the resulting string.\n",
        "\n",
        "=====================================================================\n",
        "\n",
        "*Hint: For adding the leftover characters you may use string slicing.*\n",
        "\n",
        "=====================================================================\n",
        "\n",
        "**Example 1:**\\\n",
        "Input:\\\n",
        "\"ABCD\"\\\n",
        "\"efgh\"\n",
        "\n",
        "Output:\\\n",
        "AeBfCgDh\n",
        "\n",
        "=====================================================================\n",
        "\n",
        "**Example 2:**\\\n",
        "Input:\\\n",
        "\"ABCDENDFGH\"\\\n",
        "\"ijkl\"\n",
        "\n",
        "Output:\\\n",
        "AiBjCkDlENDFGH\n",
        "\n",
        "=====================================================================\n",
        "\n",
        "**Example 3:**\\\n",
        "Input:\\\n",
        "\"ijkl\"\\\n",
        "\"ABCDENDFGH\"\n",
        "\n",
        "Output:\\\n",
        "iAjBkClDENDFGH\n",
        "\n",
        "=====================================================================\n"
      ]
    },
    {
      "cell_type": "code",
      "metadata": {
        "id": "kC1cq47myny6",
        "outputId": "b84358af-2573-4ac4-be7b-7b44f3e73142"
      },
      "source": [
        "word1 = input(\"Enter a word :\")\n",
        "word2 = input(\"Enter another word :\")\n",
        "if len(word1) > len(word2):\n",
        "    times = len(word1)\n",
        "else:\n",
        "    times = len(word2)\n",
        "for i in range(times):\n",
        "    if i<len(word1):\n",
        "        print(word1[i],end=\"\")\n",
        "    if i<len(word2):\n",
        "        print(word2[i],end=\"\")"
      ],
      "execution_count": null,
      "outputs": [
        {
          "name": "stdout",
          "output_type": "stream",
          "text": [
            "Enter a word :ABCD\n",
            "Enter another word :efgh\n",
            "AeBfCgDh"
          ]
        }
      ]
    },
    {
      "cell_type": "code",
      "metadata": {
        "id": "vXEdJeF__UDT",
        "colab": {
          "base_uri": "https://localhost:8080/"
        },
        "outputId": "f5bdd859-83f3-4345-f1d1-a803e7af3885"
      },
      "source": [
        "s1 = input()\n",
        "s2 = input()\n",
        "\n",
        "n = min(len(s1), len(s2))\n",
        "res = ''\n",
        "for i in range(n):\n",
        "    res += s1[i] + s2[i]\n",
        "if n < len(s1):\n",
        "    res += s1[n:]\n",
        "else:\n",
        "    res += s2[n:]\n",
        "\n",
        "print(res)"
      ],
      "execution_count": 2,
      "outputs": [
        {
          "output_type": "stream",
          "name": "stdout",
          "text": [
            "ABCD\n",
            "efgh\n",
            "AeBfCgDh\n"
          ]
        }
      ]
    },
    {
      "cell_type": "markdown",
      "metadata": {
        "id": "SIO6zRBGZP3r"
      },
      "source": [
        "### Task 6\n",
        "Given a string, create a new string with all the consecutive duplicates **removed**. \n",
        "\n",
        "=====================================================================\n",
        "\n",
        "**Hint:** You may make a new string to store the result. You can check whether the current character and the next character are the same, then add that character to the new string.\n",
        "\n",
        "=====================================================================\n",
        "\n",
        "\n",
        "**Sample Input**:\\\n",
        "AAABBBBCDDBBECE\n",
        "**Sample Output:**\\\n",
        "ABCDBECE\n",
        "\n",
        "=====================================================================\n"
      ]
    },
    {
      "cell_type": "code",
      "metadata": {
        "colab": {
          "base_uri": "https://localhost:8080/"
        },
        "id": "ANmJn8Y_lQfB",
        "outputId": "e36310bc-70de-47fd-ac69-4d454255f15d"
      },
      "source": [
        "li= input()\n",
        "new_li =li[0]\n",
        "for i in range (len(li)):\n",
        "  if li[i] != new_li [-1]:\n",
        "    new_li+=(li[i])\n",
        "print(new_li)\n"
      ],
      "execution_count": 3,
      "outputs": [
        {
          "output_type": "stream",
          "name": "stdout",
          "text": [
            "AAABBBBCDDBBECE\n",
            "ABCDBECE\n"
          ]
        }
      ]
    },
    {
      "cell_type": "code",
      "metadata": {
        "id": "oNv_JNgUU1y4",
        "colab": {
          "base_uri": "https://localhost:8080/"
        },
        "outputId": "ed7c149b-3091-41b2-83de-0d6b85340704"
      },
      "source": [
        "word = input(\"Enter a word:\")\n",
        "times = len(word)\n",
        "num1 = 0\n",
        "num2 = 1\n",
        "for i in range(times):\n",
        "    if num2 < times:\n",
        "        if word[num1] != word[num2]:\n",
        "            print(word[num1],end=\"\")\n",
        "    elif num2 == times:\n",
        "        print(word[num1])\n",
        "    num1 += 1\n",
        "    num2 += 1\n",
        "    if num2 > times :\n",
        "        break"
      ],
      "execution_count": null,
      "outputs": [
        {
          "output_type": "stream",
          "name": "stdout",
          "text": [
            "Enter a word:AAABBBBCDDBBECE\n",
            "ABCDBECE\n"
          ]
        }
      ]
    },
    {
      "cell_type": "code",
      "metadata": {
        "colab": {
          "base_uri": "https://localhost:8080/"
        },
        "id": "b_S6KVKdv2d9",
        "outputId": "2c4a9e6d-2f99-459b-eaa4-263b1c09a113"
      },
      "source": [
        "# variant 1\n",
        "foo = input()\n",
        "l = []\n",
        "l.append(foo[0])\n",
        "for i in foo[1:]:\n",
        "  if i != l[-1]:\n",
        "    l.append(i)\n",
        "print(*l, sep='')\n"
      ],
      "execution_count": null,
      "outputs": [
        {
          "output_type": "stream",
          "name": "stdout",
          "text": [
            "AAABBBBCDDBBECE\n",
            "ABCDBECE\n"
          ]
        }
      ]
    },
    {
      "cell_type": "code",
      "metadata": {
        "colab": {
          "base_uri": "https://localhost:8080/"
        },
        "id": "gOIx2QuNwJ2L",
        "outputId": "956958c3-c469-4e7c-dc82-1c3724bfdd2c"
      },
      "source": [
        "# variant 2\n",
        "foo = input()\n",
        "print(foo[0], end='')\n",
        "for i,j in enumerate(foo[1:]):\n",
        "  if j != foo[i]:\n",
        "    print(j, end='')"
      ],
      "execution_count": null,
      "outputs": [
        {
          "output_type": "stream",
          "name": "stdout",
          "text": [
            "AAABBBBCDDBBECE\n",
            "ABCDBECE"
          ]
        }
      ]
    },
    {
      "cell_type": "code",
      "metadata": {
        "colab": {
          "base_uri": "https://localhost:8080/"
        },
        "id": "SoyZLvWOZjhD",
        "outputId": "b0d6c0d3-a618-4a99-d78f-b90d1ad06e0e"
      },
      "source": [
        "s = input()\n",
        "output = ''\n",
        "for i in s:\n",
        "  if i not in output:\n",
        "    output+=i\n",
        "print(output)"
      ],
      "execution_count": 1,
      "outputs": [
        {
          "output_type": "stream",
          "name": "stdout",
          "text": [
            "AAABBBBCDDBBECE\n",
            "ABCDE\n"
          ]
        }
      ]
    },
    {
      "cell_type": "markdown",
      "metadata": {
        "id": "4zI6tmFN0i4y"
      },
      "source": [
        "### Task 7\n",
        "\n",
        "Write a python program that takes 2 inputs from the user, where the first input is a string with length greater than 1. The second input is the index of the first given string from where you have to start reversing. Then print the new string back to the user.\n",
        "\n",
        "=====================================================================\n",
        "\n",
        "**Sample Input 1:**\n",
        "\n",
        "72418\n",
        "\n",
        "4\n",
        "\n",
        "**Sample Output 1:**\n",
        "\n",
        "81427\n",
        "\n",
        "\n",
        "**Explanation**: Our second input, index '4' is the last index of our first input String '72418', hence the entire string is reversed giving us '81427'.\n",
        "\n",
        "=====================================================================\n",
        "\n",
        "**Sample Input 2:**\n",
        "\n",
        "12345 \n",
        "\n",
        "2\n",
        "\n",
        "**Sample Output 2:**\n",
        "\n",
        "32145\n",
        "\n",
        "**Explanation**: The second input is '2' so we have to reverse from index 2 of our first input. The 2nd index of our first input String is '3', index 1 is '2' and index 0 is '1'. Hence, if we reverse indexes 0 to 2, we get '321'. Index 3 and 4 which is '4' and '5' respectively remains unchanged hence our final output is '32145'.\n",
        "\n",
        "=====================================================================\n",
        "\n",
        "**Sample Input 3:**\n",
        "\n",
        "aBcd1234defg\n",
        "\n",
        "5\n",
        "\n",
        "**Sample Output 3:**\n",
        "\n",
        "21dcBa34defg\n",
        "\n",
        "**Explanation**: From our first input String 'aBcd1234defg', \n",
        "\n",
        "index 0 = 'a'\n",
        "\n",
        "index 1 = 'B'\n",
        "\n",
        "index 2 = 'c'\n",
        "\n",
        "index 3 = 'd'\n",
        "\n",
        "index 4 = '1'\n",
        "\n",
        "index 5 = '2'\n",
        "\n",
        "index 6 = '3'\n",
        "\n",
        "Since our second input is 5, index 0 to index 5 is reversed and we have '21dcBa' and the rest is unchanged from indexes 6 to 11 ('34defg'). Therefore, we have '21dcBa34defg' finally.\n",
        "\n",
        "=====================================================================\n"
      ]
    },
    {
      "cell_type": "code",
      "metadata": {
        "id": "yVforTsLMCWr"
      },
      "source": [
        "s = input() # initial string\n",
        "reversedString=\"\"\n",
        "index = int(input()) # calculate length of string and save in index\n",
        "while index > 0: \n",
        "    reversedString += s[ index - 1 ] # save the value of str[index-1] in reverseString\n",
        "    index = index - 1 # decrement index\n",
        "print(reversedString) # reversed string"
      ],
      "execution_count": null,
      "outputs": []
    },
    {
      "cell_type": "code",
      "metadata": {
        "id": "NoqaHxEq81np",
        "colab": {
          "base_uri": "https://localhost:8080/"
        },
        "outputId": "4e13ecb6-f5bd-42d4-823d-9e5db6034622"
      },
      "source": [
        "word = input(\"Enter a word:\")\n",
        "index = int(input(\"Enter a number:\"))\n",
        "print(word[index::-1],end=\"\")\n",
        "print(word[index+1:])"
      ],
      "execution_count": 1,
      "outputs": [
        {
          "output_type": "stream",
          "name": "stdout",
          "text": [
            "Enter a word:aBcd1234defg\n",
            "Enter a number:5\n",
            "21dcBa34defg\n"
          ]
        }
      ]
    },
    {
      "cell_type": "markdown",
      "metadata": {
        "id": "G1KGod9C87t_"
      },
      "source": [
        "### Task 8\n",
        "\n",
        "Write a python program that splits a given string on a given split character. The first input is a String and the second input is the character that will be used to split the first String. <font color='red'>[You cannot use the built-in split function]</font>\n",
        "\n",
        "=====================================================================\n",
        "\n",
        "**Sample Input 1:**<br/>\n",
        "This-is-CSE110<br/>\n",
        "-<br/>\n",
        "\n",
        "**Sample Output 1:**<br/>\n",
        "This<br/>\n",
        "is<br/>\n",
        "CSE110\n",
        "\n",
        "**Explanation**: The second input which is the character '-', is used to split or divide the first input String 'This-is-CSE110' into 'This', 'is' and 'CSE110' which are printed individually in seperate lines.\n",
        "\n",
        "=====================================================================\n",
        "\n",
        "**Sample Input 2**:\n",
        "tom@gmail,harry@yahoo,bob@gmail,mary@gmail\n",
        "\n",
        ",\n",
        "\n",
        "**Sample Output 2**:\n",
        "\n",
        "tom@gmail\n",
        "\n",
        "harry@yahoo\n",
        "\n",
        "bob@gmail\n",
        "\n",
        "mary@gmail\n",
        "\n",
        "====================================================================="
      ]
    },
    {
      "cell_type": "code",
      "metadata": {
        "id": "5RRUTLXHL6EV"
      },
      "source": [
        "word = input()\n",
        "splt = input()\n",
        "times = len(word)\n",
        "for i in range(times):\n",
        "  if word[i]!=splt:\n",
        "    print(word[i],end=\"\")\n",
        "  else:\n",
        "    print(\" \\n \")"
      ],
      "execution_count": null,
      "outputs": []
    },
    {
      "cell_type": "code",
      "metadata": {
        "id": "A9zuROkY9qre",
        "outputId": "6e120f9a-99e9-4241-8380-44183ae6e140"
      },
      "source": [
        "word = input(\"Enter a word :\")\n",
        "split_word = input(\"Where do you want to split :\")\n",
        "times = len(word)\n",
        "for i in range(times):\n",
        "    if word[i] != split_word:\n",
        "        print(word[i],end=\"\")\n",
        "    else:\n",
        "        print()"
      ],
      "execution_count": null,
      "outputs": [
        {
          "name": "stdout",
          "output_type": "stream",
          "text": [
            "Enter a word :tom@gmail,harry@yahoo,bob@gmail,mary@gmail\n",
            "Where do you want to split :,\n",
            "tom@gmail\n",
            "harry@yahoo\n",
            "bob@gmail\n",
            "mary@gmail"
          ]
        }
      ]
    },
    {
      "cell_type": "markdown",
      "metadata": {
        "id": "lPoDvm8YU1y9"
      },
      "source": [
        "### Task 9\n",
        "\n",
        "Suppose you are given two strings, s1, and s2. Now, print a new string made up of the last characters and then the first characters of the input strings.\n",
        "\n",
        "=====================================================================\n",
        "\n",
        "**Sample Input 1**:\n",
        "\n",
        "s1 = new\n",
        "\n",
        "s2= string\n",
        "\n",
        "**Sample Output 1**:\n",
        "\n",
        "gwsn\n",
        "\n",
        "**Explanation:** The last character of the String s2 is 'g'. The last character of the String s1 is 'w'. The first character of the String s2 is 's'. The first character of the String s1 is 'n'. Together they give us the ouput we want 'gwsn'.\n",
        "\n",
        "=====================================================================\n",
        "\n",
        "**Sample Input 2**:\n",
        "\n",
        "s1 = abcd\n",
        "\n",
        "s2= efgh\n",
        "\n",
        "**Sample Output 2**: \n",
        "\n",
        "hdea\n",
        "\n",
        "**Explanation:** The last characters of the Strings s2 and s1 is 'h' and 'd' respectively while the first characters of the Strings is 'e' and 'a' respectively. Together they give us the ouput we want 'gwsn'.\n",
        "\n",
        "=====================================================================\n"
      ]
    },
    {
      "cell_type": "code",
      "metadata": {
        "id": "tDr9T5byLrdH"
      },
      "source": [
        "s1 = input()\n",
        "s2 = input()\n",
        "print(s2[-1]+s1[-1]+s2[0]+s1[0])"
      ],
      "execution_count": null,
      "outputs": []
    },
    {
      "cell_type": "code",
      "metadata": {
        "id": "z26BN9B3U1y_",
        "outputId": "95e0f0ef-3f8c-4a07-c11b-706cf08d2ef6"
      },
      "source": [
        "word1 = input(\"Enter a word :\")\n",
        "word2 = input(\"Enter another word :\")\n",
        "word_len1 = len(word1)\n",
        "word_len2 = len(word2)\n",
        "print(word2[word_len2-1],end=\"\")\n",
        "print(word1[word_len1-1],end=\"\")\n",
        "print(word2[0],end=\"\")\n",
        "print(word1[0],end=\"\")\n"
      ],
      "execution_count": null,
      "outputs": [
        {
          "name": "stdout",
          "output_type": "stream",
          "text": [
            "Enter a word :new\n",
            "Enter another word :string\n",
            "gwsn"
          ]
        }
      ]
    },
    {
      "cell_type": "markdown",
      "metadata": {
        "id": "ZrjtT-I_U1zD"
      },
      "source": [
        "### Task 10\n",
        "\n",
        "Write a Python program that takes a String as input from the user, removes the characters at even index and prints the resulting String in uppercase.\n",
        "\n",
        "=====================================================================\n",
        "\n",
        "**Sample Input 1**:\n",
        "\n",
        "String\n",
        "\n",
        "**Sample Output 1**: \n",
        "\n",
        "TIG\n",
        "\n",
        "**Explanation**: The characters 'S', 'r' and 'n' are at index positions 0, 2, and 4 respectively. Hence they are removed and the remaining characters 'tig' are capitalized giving us output 'TIG'.\n",
        "\n",
        "=====================================================================\n",
        "\n",
        "**Sample Input 2**:\n",
        "\n",
        "abcd\n",
        "\n",
        "**Sample Output 2**: \n",
        "\n",
        "BD\n",
        "\n",
        "=====================================================================\n"
      ]
    },
    {
      "cell_type": "code",
      "metadata": {
        "colab": {
          "base_uri": "https://localhost:8080/"
        },
        "id": "Gv18uAhRLYyN",
        "outputId": "d99bc8c9-db4f-4fd9-ba91-ef7e0900d283"
      },
      "source": [
        "s1 = input()\n",
        "o1 = \"\"\n",
        "oddoreven = int(input())\n",
        "if oddoreven == 1:\n",
        "  for i in range(len(s1)):\n",
        "    if i%2!=0:\n",
        "      o1=o1+s1[i]\n",
        "elif oddoreven == 2:\n",
        "  for i in range(len(s1)):\n",
        "    if i%2==0:\n",
        "      o1=o1+s1[i]\n",
        "print(o1.upper())"
      ],
      "execution_count": 2,
      "outputs": [
        {
          "output_type": "stream",
          "name": "stdout",
          "text": [
            "string\n",
            "1\n",
            "TIG\n"
          ]
        }
      ]
    },
    {
      "cell_type": "code",
      "metadata": {
        "id": "3r7Ripj7U1zE",
        "outputId": "7135297b-acdb-4d73-bed2-efc37d575f96"
      },
      "source": [
        "word = input(\"Enter a word :\")\n",
        "print(word[1::2].upper())"
      ],
      "execution_count": null,
      "outputs": [
        {
          "name": "stdout",
          "output_type": "stream",
          "text": [
            "Enter a word :abcd\n",
            "BD\n"
          ]
        }
      ]
    },
    {
      "cell_type": "markdown",
      "metadata": {
        "id": "AWgZaBZCzmaM"
      },
      "source": [
        "### Task 11\n",
        "\n",
        "Write a python program that takes two inputs. The first input is a string and the second input is a number. If the number is even then concatenate the given string two times the given number and if the number is odd then concatenate the given string three times the given number.\n",
        "\n",
        "=====================================================================\n",
        "\n",
        "**Sample Input 1**:\n",
        "\n",
        "CSE110\n",
        "\n",
        "4\n",
        "\n",
        "**Sample output 1**:\n",
        "\n",
        "CSE110CSE110CSE110CSE110CSE110CSE110CSE110CSE110\n",
        "\n",
        "**Explanation**: The second input which is the number 4 is even, therefore the first string input 'CSE110' is concatenated(joined together) 4*2 = 8 times.\n",
        "\n",
        "=====================================================================\n",
        "\n",
        "**Sample Input 2**:\n",
        "\n",
        "CSE110\n",
        "\n",
        "3\n",
        "\n",
        "**Sample Output 2**:\n",
        "\n",
        "CSE110CSE110CSE110CSE110CSE110CSE110CSE110CSE110CSE110\n",
        "\n",
        "=====================================================================\n"
      ]
    },
    {
      "cell_type": "code",
      "metadata": {
        "id": "_8HPCmaeLXKJ"
      },
      "source": [
        "s1 = input()\n",
        "in1 = int(input())\n",
        "if in1%2==0:\n",
        "  in1 = in1*2\n",
        "else:\n",
        "  in1 = in1*3\n",
        "print(in1*s1)"
      ],
      "execution_count": null,
      "outputs": []
    },
    {
      "cell_type": "code",
      "metadata": {
        "id": "ICW-03YOznTp",
        "outputId": "45b21aba-a75a-454b-96b1-74aeb48c5e5a"
      },
      "source": [
        "word = input(\"Enter a word :\")\n",
        "number = int(input(\"Enter a number :\"))\n",
        "if number%2 == 0:\n",
        "    times = number*2\n",
        "else:\n",
        "    times = number*3\n",
        "    \n",
        "print(word*times)"
      ],
      "execution_count": null,
      "outputs": [
        {
          "name": "stdout",
          "output_type": "stream",
          "text": [
            "Enter a word :CSE110\n",
            "Enter a number :3\n",
            "CSE110CSE110CSE110CSE110CSE110CSE110CSE110CSE110CSE110\n"
          ]
        }
      ]
    },
    {
      "cell_type": "markdown",
      "metadata": {
        "id": "7a_1pYjfU1zI"
      },
      "source": [
        "### Task 12\n",
        "\n",
        "Write a python program that takes 2 inputs from the user. The first input is a string and the second input is a letter. The program should remove all occurences of the letter from the given string and print the output. If the letter is not found in the string and the length of string is greater than 3, then remove the first letter and last letter of the given string and print it. Otherwise print the string as it is. [You can assume that all the input will be in lowercase letter]\n",
        "\n",
        "=====================================================================\n",
        "\n",
        "\n",
        "**Sample Input 1**:\n",
        "\n",
        "tanjiro kamado\n",
        "\n",
        "a\n",
        "\n",
        "**Sample output 1**:\n",
        "\n",
        "tnjiro kmdo\n",
        "\n",
        "**Explanation**: All 3 instances of the character 'a' is removed from the input String 'tanjiro kamado' to give us output 'tnjiro kmdo'.\n",
        "\n",
        "=====================================================================\n",
        "\n",
        "**Sample Input 2**:\n",
        "\n",
        "eren yeager\n",
        "\n",
        "k\n",
        "\n",
        "\n",
        "**Sample Output 2**:\n",
        "\n",
        "ren yeage\n",
        "\n",
        "**Explanation**: The character 'k' is absent in the first input String 'eren yeager' and it's length is 11 which is greater than 3 therefore the first character 'e' and the last character 'r' is removed. Hence, the final String is 'ren yeage'.\n",
        "\n",
        "=====================================================================\n",
        "\n",
        "Sample Input 3:\n",
        "\n",
        "hi\n",
        "\n",
        "a\n",
        "\n",
        "Sample Output 3:\n",
        "\n",
        "hi\n",
        "\n",
        "**Explanation**: The letter 'a' is not found in our first input 'hi', the length of which is 2. Since the character is not present and the length is less than 3, we print the String 'hi' as it is.\n",
        "\n",
        "=====================================================================\n"
      ]
    },
    {
      "cell_type": "code",
      "metadata": {
        "colab": {
          "base_uri": "https://localhost:8080/"
        },
        "id": "zDubgSbwLO6X",
        "outputId": "afabba3d-acf5-4f17-abf2-bb52781e241d"
      },
      "source": [
        "s1 = input()\n",
        "s2 = input()\n",
        "s3 = s1.count(s2)\n",
        "s4=\"\"\n",
        "l = len(s1)\n",
        "if s3 > 0:\n",
        "    s4=s1.replace(s2,\"\")\n",
        "    print(s4)\n",
        "elif s3==0 and l>3:\n",
        "    s4=s1[1:-1]\n",
        "    print(s4)\n",
        "elif s3==0 and l<=3:\n",
        "    print(s1)"
      ],
      "execution_count": 1,
      "outputs": [
        {
          "output_type": "stream",
          "name": "stdout",
          "text": [
            "eren yeager\n",
            "k\n",
            "ren yeage\n"
          ]
        }
      ]
    },
    {
      "cell_type": "code",
      "metadata": {
        "id": "vToa7yazU1zI",
        "outputId": "8221b8b3-a22d-4cb7-eada-9f4d81a8fd88"
      },
      "source": [
        "word1 = input(\"Enter your words :\")\n",
        "word2 = input(\"Which character do you want to remove :\")\n",
        "word_len = len(word1)\n",
        "length = word1.count(word2)\n",
        "if length > 0 :\n",
        "    new_word = word1.replace(word2,\"\")\n",
        "    print(new_word)\n",
        "elif length == 0 and word_len >3 :\n",
        "    print(word1[1:-1])\n",
        "elif word_len <=3 :\n",
        "    print(word1)"
      ],
      "execution_count": null,
      "outputs": [
        {
          "name": "stdout",
          "output_type": "stream",
          "text": [
            "Enter your words :nezuko kamado\n",
            "Which character do you want to remove :a\n",
            "nezuko kmdo\n"
          ]
        }
      ]
    },
    {
      "cell_type": "markdown",
      "metadata": {
        "id": "WZXnxHTdGrMC"
      },
      "source": [
        "## Optional Tasks (13 - 15) [Ungraded]"
      ]
    },
    {
      "cell_type": "markdown",
      "metadata": {
        "id": "nwRZ3_0tC3fq"
      },
      "source": [
        "### Task 13\n",
        "\n",
        "\n",
        "Write a python program that takes a string as an input from the user and then modifies the string in such a way that the string always starts with an uppercase letter and the case of each subsequent letter is the opposite of the previous letter (uppercase character followed by a lowercase character followed by an uppercase character and so on).  Finally the modified string is printed to show the user.\n",
        "\n",
        "*Hints:  Flags/counters can be used to manage uppercase-lowercase.*\n",
        "\n",
        "=====================================================================\n",
        "\n",
        "**Sample Input 1:**\\\n",
        "Python programming is very easy\n",
        "\n",
        "**Sample Output 1:**\\\n",
        "PyThOn PrOgRaMmInG iS vErY eAsY\n",
        "\n",
        "=====================================================================\n",
        "\n",
        "**Sample Input 2:**\\\n",
        "I&nbsp;&nbsp;&nbsp;&nbsp;&nbsp;&nbsp;     love       &nbsp;&nbsp;&nbsp;&nbsp;&nbsp;&nbsp;&nbsp; Python &nbsp;&nbsp;&nbsp;&nbsp;&nbsp;&nbsp;&nbsp;&nbsp;Programming\n",
        "\n",
        "**Sample Output 2:**\\\n",
        "I&nbsp;&nbsp;&nbsp;&nbsp;&nbsp;&nbsp;     lOvE       &nbsp;&nbsp;&nbsp;&nbsp;&nbsp;&nbsp;&nbsp;pYtHoN&nbsp;&nbsp;&nbsp;&nbsp;&nbsp;&nbsp;&nbsp;&nbsp;pRoGrAmMiNg\n",
        "\n",
        "=====================================================================\n",
        "\n",
        "**Sample Input 3:**\\\n",
        "CSE110 Course\n",
        "\n",
        "**Sample Output 3**\\\n",
        "CsE110 cOuRsE\n",
        "\n",
        "\n",
        "\n",
        "=====================================================================\n",
        "\n",
        "**Sample Input 4:**\\\n",
        "c\n",
        "\n",
        "**Sample Output 4:**\\\n",
        "C\n",
        "\n",
        "=====================================================================\n"
      ]
    },
    {
      "cell_type": "code",
      "metadata": {
        "id": "LEnaTlyoMJdS",
        "outputId": "6de1716f-2adb-43b9-b9e3-ad36d905e6de"
      },
      "source": [
        "word1 = input(\"Enter your words :\")\n",
        "times = len(word1)\n",
        "count = 0\n",
        "num_list = [\"0\",\"1\",\"2\",\"3\",\"4\",\"5\",\"6\",\"7\",\"8\",\"9\"]\n",
        "for i in range(times):\n",
        "    check = word1[i] in num_list\n",
        "    if word1[i] == \" \" or check == True:\n",
        "        print(word1[i],end=\"\")\n",
        "    else:\n",
        "        if count%2 == 0 :\n",
        "            print(word1[i].upper(),end=\"\")\n",
        "            count+=1\n",
        "        else:\n",
        "            print(word1[i].lower(),end=\"\")\n",
        "            count+=1"
      ],
      "execution_count": null,
      "outputs": [
        {
          "name": "stdout",
          "output_type": "stream",
          "text": [
            "Enter your words :CSE110 Course\n",
            "CsE110 cOuRsE"
          ]
        }
      ]
    },
    {
      "cell_type": "markdown",
      "metadata": {
        "id": "EEkcqbIJBKel"
      },
      "source": [
        "### Task 14 \n",
        "An anagram is a play on words created by rearranging the letters of the original word to make a new word or phrase.\n",
        "So we can say two words are anagrams if they contain all of the same letters, but in a different order.\n",
        "\n",
        "\n",
        "Write a python program that takes two strings from the user and tells if they are anagram or not.\n",
        "\n",
        "=====================================================================\n",
        "\n",
        "<b>Sample Input 1: </b><br/>\n",
        "dusty<br/>\n",
        "study<br/>\n",
        "<b>Sample Output 1: </b> <br/>\n",
        "They are anagram<br/>\n",
        "\n",
        "=====================================================================\n",
        "\n",
        "<b>Sample Input 2: </b><br/>\n",
        "dustyyy<br/>\n",
        "study<br/>\n",
        "<b>Sample Output 2: </b><br/>\n",
        "They are not anagram"
      ]
    },
    {
      "cell_type": "code",
      "metadata": {
        "id": "5jFoYA8glGz7"
      },
      "source": [
        "s1 = input()\n",
        "s2 = input()\n",
        "l1 = len(s1)\n",
        "l2 = len(s2)\n",
        "count= 0\n",
        "if l1!=l2:\n",
        "  print(\"they are not anagram!!!\")\n",
        "else:\n",
        "  for i in s1:\n",
        "    if i in s2:\n",
        "      count+=1\n",
        "  if count == l1:\n",
        "    print(\"anagram!!!\")\n",
        "  else:\n",
        "    print(\"Not anagram!!!\")"
      ],
      "execution_count": null,
      "outputs": []
    },
    {
      "cell_type": "code",
      "metadata": {
        "id": "dvjY9pE2BLVT",
        "outputId": "71c0c317-5e43-4121-f2af-95a809824f7d"
      },
      "source": [
        "word1 = input(\"Enter a word :\")\n",
        "word2 = input(\"Enter another word :\")\n",
        "word_len1 = len(word1)\n",
        "word_len2 = len(word2)\n",
        "count = 0\n",
        "if word_len1 != word_len2:\n",
        "    print(\"<<<They are not anagram!!!>>>\")\n",
        "else:\n",
        "    for letters in word1:\n",
        "        if letters in word2:\n",
        "            count += 1\n",
        "    if count == word_len1 :\n",
        "        print(\"<<<They are anagram!>>>\")\n",
        "    else:\n",
        "        print(\"<<<They are not anagram!!!>>>\")\n"
      ],
      "execution_count": null,
      "outputs": [
        {
          "name": "stdout",
          "output_type": "stream",
          "text": [
            "Enter a word :dustyy\n",
            "Enter another word :study\n",
            "<<<They are not anagram!!!>>>\n"
          ]
        }
      ]
    },
    {
      "cell_type": "markdown",
      "metadata": {
        "id": "sHeGC4Tf7z81"
      },
      "source": [
        "###Task 15\n",
        "\n",
        "Write a python program thats prints the largest consecutive sequence from a given string S. For example, if S = ‘AABBBCCAAAA’, print ‘AAAA’. If more than one largest consecutive sequence exists, print the first one. Print NONE if no consecutive sequence is found.\n",
        "\n",
        "=====================================================================\n",
        "\n",
        "**Sample Input 1:**<br/>\n",
        "AABBBCCAAAA<br/>\n",
        "**Sample Output 1:**<br/>\n",
        "AAAA<br/>\n",
        "\n",
        "=====================================================================\n",
        "\n",
        "**Sample Input 2:**<br/>\n",
        "AABBCC<br/>\n",
        "**Sample Output 2:**<br/>\n",
        "AA<br/>\n",
        "\n",
        "=====================================================================\n",
        "\n",
        "**Sample Input 3:**<br/>\n",
        "ABCD<br/>\n",
        "**Sample Output 3:**<br/>\n",
        "NONE<br/>\n",
        "\n",
        "====================================================================="
      ]
    },
    {
      "cell_type": "code",
      "metadata": {
        "id": "5Dor0l-jlB9j"
      },
      "source": [
        "s1 = input() #taking a string input from user\n",
        "large_seq = '' #set an empty string as largest consecutive sequence\n",
        "priv_char = ''\n",
        "seq = ''\n",
        "for char in s1: #go through each charecter of the given string\n",
        "  if priv_char == char: #if privious char is same as current char\n",
        "    seq+=char #then ad charecter to sequence\n",
        "  else: #if previous charecter is not same as current charecter\n",
        "    if len(seq) > len(large_seq):   #if len of seq is larger then len of largestseq\n",
        "      large_seq=seq #then update the largest sequence\n",
        "    seq = char #set charecter as the sequence\n",
        "    priv_char= char #update previous charecter\n",
        "#update largest sequence if required\n",
        "if len(seq)>len(large_seq):\n",
        "  large_seq= seq\n",
        "#print largest sequence\n",
        "if len(large_seq)>1:\n",
        "  print(large_seq)\n",
        "else:\n",
        "  print(\"NONE\")"
      ],
      "execution_count": null,
      "outputs": []
    },
    {
      "cell_type": "code",
      "metadata": {
        "colab": {
          "base_uri": "https://localhost:8080/"
        },
        "id": "H6UlDTiobnj_",
        "outputId": "1295647b-d757-4d96-8c25-3e563ef19ba4"
      },
      "source": [
        "s1 = input()\n",
        "max = \"\"\n",
        "start = 0\n",
        "end = 0\n",
        "for i in range(len(s1)):\n",
        "  if s1[i] == s1[start]:\n",
        "    end = i\n",
        "  else:\n",
        "    str1 = s1[start:end+1]\n",
        "    start = i\n",
        "    if len(str1)>len(max):\n",
        "      max= str1\n",
        "str1 = s1[start:end+1]\n",
        "if len(str1)> len(max):\n",
        "  max = str1\n",
        "if len(max)>1:\n",
        "  print(max)\n",
        "else:\n",
        "  print(\"NONE\")"
      ],
      "execution_count": 1,
      "outputs": [
        {
          "output_type": "stream",
          "name": "stdout",
          "text": [
            "AABBCCDD\n",
            "AA\n"
          ]
        }
      ]
    },
    {
      "cell_type": "code",
      "metadata": {
        "id": "lModRb2L0oqS",
        "outputId": "885f4b1a-f75f-49ff-d054-5e44e5facb6f"
      },
      "source": [
        "word = input('Enter a word :')\n",
        "last_letter = \"\"\n",
        "streak = 0\n",
        "max_streak = 0\n",
        "total_streak = 0\n",
        "max_letter = \"\"\n",
        "for letter in word :\n",
        "    if letter == last_letter:\n",
        "        streak += 1\n",
        "        if streak > max_streak:\n",
        "            max_streak = streak\n",
        "            max_letter = last_letter\n",
        "            total_streak += 1\n",
        "    else:\n",
        "        last_letter = letter\n",
        "        streak = 1\n",
        "if streak <= 1 :\n",
        "    print(\"NONE!!!\")\n",
        "else:\n",
        "    print(max_letter*max_streak)"
      ],
      "execution_count": null,
      "outputs": [
        {
          "name": "stdout",
          "output_type": "stream",
          "text": [
            "Enter a word :AABBBCCAAAA\n",
            "AAAA\n"
          ]
        }
      ]
    },
    {
      "cell_type": "code",
      "metadata": {
        "id": "kCbZXIoD_EAs"
      },
      "source": [
        ""
      ],
      "execution_count": null,
      "outputs": []
    }
  ]
}