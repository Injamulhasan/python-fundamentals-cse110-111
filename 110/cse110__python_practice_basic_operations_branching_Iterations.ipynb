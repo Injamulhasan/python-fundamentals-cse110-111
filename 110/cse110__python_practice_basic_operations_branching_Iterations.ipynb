{
  "nbformat": 4,
  "nbformat_minor": 0,
  "metadata": {
    "colab": {
      "name": "cse110 _python-practice_basic-operations_branching_Iterations.ipynb",
      "provenance": [],
      "collapsed_sections": []
    },
    "kernelspec": {
      "name": "python3",
      "display_name": "Python 3"
    },
    "language_info": {
      "name": "python"
    }
  },
  "cells": [
    {
      "cell_type": "code",
      "metadata": {
        "colab": {
          "base_uri": "https://localhost:8080/"
        },
        "id": "iVm24YVPUhwL",
        "outputId": "4aed2764-bfcc-467d-ec09-7265b3739081"
      },
      "source": [
        " x = 4\n",
        "y = 7\n",
        "print(x+y)"
      ],
      "execution_count": null,
      "outputs": [
        {
          "output_type": "stream",
          "name": "stdout",
          "text": [
            "11\n"
          ]
        }
      ]
    },
    {
      "cell_type": "code",
      "metadata": {
        "colab": {
          "base_uri": "https://localhost:8080/"
        },
        "id": "WvUrpst4UgTZ",
        "outputId": "b535b3f2-4e13-4b10-e60a-467075e4df6a"
      },
      "source": [
        "x = -34\n",
        "y = 48\n",
        "print(x-y)"
      ],
      "execution_count": null,
      "outputs": [
        {
          "output_type": "stream",
          "name": "stdout",
          "text": [
            "-82\n"
          ]
        }
      ]
    },
    {
      "cell_type": "code",
      "metadata": {
        "colab": {
          "base_uri": "https://localhost:8080/"
        },
        "id": "i7xI5-DtU7cy",
        "outputId": "4b16b361-6f16-43ac-917a-d713f58720d3"
      },
      "source": [
        "x = 10\n",
        "y = 3\n",
        "print(x/y)\n",
        "print(x//y)\n",
        "print(x%y)\n",
        "print(x**2)\n",
        "print(x*2)\n",
        "print((x*2 + y*2)/3)\n",
        "print(-5//2)\n",
        "print(5//2)\n",
        "print(-5/2)"
      ],
      "execution_count": null,
      "outputs": [
        {
          "output_type": "stream",
          "name": "stdout",
          "text": [
            "3.3333333333333335\n",
            "3\n",
            "1\n",
            "100\n",
            "20\n",
            "8.666666666666666\n",
            "-3\n",
            "2\n",
            "-2.5\n"
          ]
        }
      ]
    },
    {
      "cell_type": "code",
      "metadata": {
        "colab": {
          "base_uri": "https://localhost:8080/"
        },
        "id": "Rw2ZH_TaWlit",
        "outputId": "df8c64fc-7a6d-4cf5-a1b7-c27c57505ffa"
      },
      "source": [
        "s = 0\n",
        "for i in range(10,1,-1):\n",
        "  s-=i\n",
        "print(s)"
      ],
      "execution_count": null,
      "outputs": [
        {
          "output_type": "stream",
          "name": "stdout",
          "text": [
            "-54\n"
          ]
        }
      ]
    },
    {
      "cell_type": "code",
      "metadata": {
        "colab": {
          "base_uri": "https://localhost:8080/"
        },
        "id": "kGAiX64YXEwi",
        "outputId": "a78d3bc8-b3ec-4e5d-c56d-3f9661d4fb8b"
      },
      "source": [
        "x = 15\n",
        "y = 25\n",
        "print(x is y)"
      ],
      "execution_count": null,
      "outputs": [
        {
          "output_type": "stream",
          "name": "stdout",
          "text": [
            "False\n"
          ]
        }
      ]
    },
    {
      "cell_type": "code",
      "metadata": {
        "colab": {
          "base_uri": "https://localhost:8080/"
        },
        "id": "Qlpq-NVvRsUV",
        "outputId": "8de68989-890d-433d-edde-7dbf50386dd1"
      },
      "source": [
        "txt1 = \"my name is {fname},i'm {age}\".format(fname= \"John\" ,age= 39)\n",
        "print(txt1)\n",
        "txt2 = \" my name is {0},im am {1}\".format(\"john\",36)\n",
        "print(txt2)\n",
        "txt3 = \"my name is {},i am {}\".format(\"JOHN\",35)\n",
        "print(txt3)"
      ],
      "execution_count": null,
      "outputs": [
        {
          "output_type": "stream",
          "name": "stdout",
          "text": [
            "my name is John,i'm 39\n",
            " my name is john,im am 36\n",
            "my name is JOHN,i am 35\n"
          ]
        }
      ]
    },
    {
      "cell_type": "code",
      "metadata": {
        "colab": {
          "base_uri": "https://localhost:8080/"
        },
        "id": "ndh5zODhZZoB",
        "outputId": "7b1f44d4-6a15-4832-9049-01bd01dcd42d"
      },
      "source": [
        "n = input(\"n : \")\n",
        "print(n)\n",
        "n1 = float(input(\"n : \"))\n",
        "print(n1)\n",
        "n2 = str(input(\"n : \"))\n",
        "print(n2)\n",
        "print(type(n2))"
      ],
      "execution_count": null,
      "outputs": [
        {
          "output_type": "stream",
          "name": "stdout",
          "text": [
            "n : hsoh\n",
            "hsoh\n",
            "n : 92.383\n",
            "92.383\n",
            "n : jioi\n",
            "jioi\n",
            "<class 'str'>\n"
          ]
        }
      ]
    },
    {
      "cell_type": "code",
      "metadata": {
        "colab": {
          "base_uri": "https://localhost:8080/"
        },
        "id": "-HZxLv-VcCd5",
        "outputId": "4fda5946-b3e6-4533-86cf-6e4f49afe21f"
      },
      "source": [
        "num = input()\n",
        "print(num)\n",
        "num = int(num)\n",
        "print(num +100)"
      ],
      "execution_count": null,
      "outputs": [
        {
          "output_type": "stream",
          "name": "stdout",
          "text": [
            "100\n",
            "100\n",
            "200\n"
          ]
        }
      ]
    },
    {
      "cell_type": "code",
      "metadata": {
        "colab": {
          "base_uri": "https://localhost:8080/"
        },
        "id": "ENSvVKlFcmsj",
        "outputId": "0a7e50b2-5603-4583-9ea9-a1596d77e06c"
      },
      "source": [
        "a = float(input())\n",
        "if x%2==0:\n",
        "  print(\"even\")\n",
        "elif x%2==1:\n",
        "  print(\"odd\")\n",
        "else:\n",
        "  print('idk')\n",
        "print(\"end\")"
      ],
      "execution_count": null,
      "outputs": [
        {
          "output_type": "stream",
          "name": "stdout",
          "text": [
            "839.3838\n",
            "odd\n",
            "end\n"
          ]
        }
      ]
    },
    {
      "cell_type": "code",
      "metadata": {
        "colab": {
          "base_uri": "https://localhost:8080/"
        },
        "id": "yvcIkhszf9r5",
        "outputId": "04ecdd83-36db-4a7f-87b0-61ece763a470"
      },
      "source": [
        "num1 = int(input())\n",
        "num2 = int(input())\n",
        "if num1 >5 and num1<20 :\n",
        "  print(\"both true\")\n",
        "if num2<30 or num2>50:\n",
        "  print(\"one is true\")\n",
        "num3 = num1\n",
        "print(num3)\n",
        "print(\"foo\",23,\"jpoe\",end=' ')\n",
        "print(\"foo\",23,\"jpoe\",end=' ')\n",
        "print(\"foo\",23,\"jpoe\",end=' ')"
      ],
      "execution_count": null,
      "outputs": [
        {
          "output_type": "stream",
          "name": "stdout",
          "text": [
            "12\n",
            "12\n",
            "both true\n",
            "one is true\n",
            "12\n",
            "foo 23 jpoe foo 23 jpoe foo 23 jpoe "
          ]
        }
      ]
    },
    {
      "cell_type": "code",
      "metadata": {
        "colab": {
          "base_uri": "https://localhost:8080/"
        },
        "id": "eJ8D3lpMoQQ4",
        "outputId": "f4e592f2-e86d-4735-b10b-85ac559e22b2"
      },
      "source": [
        "n =int(input())\n",
        "if n%2==0:\n",
        "  if n%3==0:\n",
        "    print(\"odd and multiple\")\n",
        "  else:\n",
        "    print(\"even but not multiple\")"
      ],
      "execution_count": null,
      "outputs": [
        {
          "output_type": "stream",
          "name": "stdout",
          "text": [
            "26\n",
            "even but not multiple\n"
          ]
        }
      ]
    },
    {
      "cell_type": "code",
      "metadata": {
        "colab": {
          "base_uri": "https://localhost:8080/"
        },
        "id": "_RN-VIPPbqgq",
        "outputId": "897a016f-adc5-4722-f557-89e0aff89621"
      },
      "source": [
        "#001\n",
        "temp = int(input())\n",
        "if temp<50:\n",
        "  print(\"It is cold outside\")\n",
        "elif temp>=50:\n",
        "  print(\"It is warm outside\")"
      ],
      "execution_count": null,
      "outputs": [
        {
          "output_type": "stream",
          "name": "stdout",
          "text": [
            "50\n",
            "It is warm outside\n"
          ]
        }
      ]
    },
    {
      "cell_type": "code",
      "metadata": {
        "colab": {
          "base_uri": "https://localhost:8080/"
        },
        "id": "dvrivvfibqZN",
        "outputId": "5600a40a-1e8b-460a-80a5-32e1b9569d09"
      },
      "source": [
        "#002\n",
        "tem = int(input(\"What is your tempature :\"))\n",
        "if tem>98.6:\n",
        "  print(\"You have Fever\")\n",
        "else:\n",
        "  print(\"Normal\")"
      ],
      "execution_count": null,
      "outputs": [
        {
          "output_type": "stream",
          "name": "stdout",
          "text": [
            "What is your tempature :102\n",
            "You have Fever\n"
          ]
        }
      ]
    },
    {
      "cell_type": "code",
      "metadata": {
        "colab": {
          "base_uri": "https://localhost:8080/"
        },
        "id": "Gh5iOklnbqD5",
        "outputId": "cafc4324-7e9a-40a3-b3c4-f727c58425b0"
      },
      "source": [
        "#003\n",
        "import random\n",
        "n = random.randint(0,5)\n",
        "x = int(input(\"Enter the Number :\"))\n",
        "if n == x :\n",
        "  print(\"You guessed it!!!\")\n",
        "else:\n",
        "  print(\"try again\")"
      ],
      "execution_count": null,
      "outputs": [
        {
          "output_type": "stream",
          "name": "stdout",
          "text": [
            "Enter the Number :5\n",
            "try again\n"
          ]
        }
      ]
    },
    {
      "cell_type": "code",
      "metadata": {
        "colab": {
          "base_uri": "https://localhost:8080/"
        },
        "id": "ELhjx_1dfz__",
        "outputId": "d8c14c70-340b-44b2-aa86-46ac1a7af0bf"
      },
      "source": [
        "#004\n",
        "n1 = int(input())\n",
        "n2 = int(input())\n",
        "if n1>n2:\n",
        "  print(\"x>y\")\n",
        "elif n1<n2:\n",
        "  print(\"x<y\")\n",
        "elif n1 == n2:\n",
        "  print(\"x=y\")"
      ],
      "execution_count": null,
      "outputs": [
        {
          "output_type": "stream",
          "name": "stdout",
          "text": [
            "22\n",
            "22\n",
            "x=y\n"
          ]
        }
      ]
    },
    {
      "cell_type": "code",
      "metadata": {
        "colab": {
          "base_uri": "https://localhost:8080/"
        },
        "id": "bIwVlfaXez6Y",
        "outputId": "8c9dcd7c-8dc2-4bf9-a0e7-ce606ae52d4e"
      },
      "source": [
        "#005\n",
        "import math\n",
        "n1 = float(input(\"ENTER : \"))\n",
        "a = math.pi/(n1)\n",
        "print(math.cos(a))\n",
        "print(math.sin(a))\n",
        "print(math.tan(a))\n"
      ],
      "execution_count": null,
      "outputs": [
        {
          "output_type": "stream",
          "name": "stdout",
          "text": [
            "ENTER : 3\n",
            "0.5000000000000001\n",
            "0.8660254037844386\n",
            "1.7320508075688767\n"
          ]
        }
      ]
    },
    {
      "cell_type": "markdown",
      "metadata": {
        "id": "_BWD8NJOp1xQ"
      },
      "source": [
        "[CSE110 Lab Assignment 1]"
      ]
    },
    {
      "cell_type": "code",
      "metadata": {
        "colab": {
          "base_uri": "https://localhost:8080/"
        },
        "id": "FIOzRTR-pjy6",
        "outputId": "9aa29b39-0dc9-4b95-e554-2586a05000ea"
      },
      "source": [
        "#Task1\n",
        "st_num = int(input())\n",
        "nd_num = int(input())\n",
        "sum = st_num+nd_num\n",
        "diff = st_num-nd_num\n",
        "product = st_num*nd_num\n",
        "print(\"sum =\",sum )\n",
        "print(\"diff =\",diff)\n",
        "print(\"product =\",product)"
      ],
      "execution_count": null,
      "outputs": [
        {
          "output_type": "stream",
          "name": "stdout",
          "text": [
            "4\n",
            "5\n",
            "sum = 9\n",
            "diff = -1\n",
            "product = 20\n"
          ]
        }
      ]
    },
    {
      "cell_type": "code",
      "metadata": {
        "colab": {
          "base_uri": "https://localhost:8080/"
        },
        "id": "eiODg2VepzPQ",
        "outputId": "899b747d-058a-4c25-f0ae-effa475c3007"
      },
      "source": [
        "#Task2\n",
        "sum =float(input())\n",
        "circum = 2 * 3.14 *sum\n",
        "area = 22/7 * sum**2\n",
        "print(\"Area is \",area)\n",
        "print(\"Circumference is \",circum)"
      ],
      "execution_count": null,
      "outputs": [
        {
          "output_type": "stream",
          "name": "stdout",
          "text": [
            "4\n",
            "Area is  50.285714285714285\n",
            "Circumference is  25.12\n"
          ]
        }
      ]
    },
    {
      "cell_type": "code",
      "metadata": {
        "colab": {
          "base_uri": "https://localhost:8080/"
        },
        "id": "sJ1b5dx9pkEH",
        "outputId": "8418caf0-0673-47b6-fa01-ff7382726722"
      },
      "source": [
        "#Task3\n",
        "f1 = int(input())\n",
        "s1 = int(input())\n",
        "if f1>s1:\n",
        "  print(\"1st number is greater\")\n",
        "elif f1<s1:\n",
        "  print(\"Second is greater\")\n",
        "else:\n",
        "  print(\"The numbers are equal\")"
      ],
      "execution_count": null,
      "outputs": [
        {
          "output_type": "stream",
          "name": "stdout",
          "text": [
            "-40\n",
            "-30\n",
            "Second is greater\n"
          ]
        }
      ]
    },
    {
      "cell_type": "code",
      "metadata": {
        "colab": {
          "base_uri": "https://localhost:8080/"
        },
        "id": "K_XJVLRjpkkQ",
        "outputId": "3865618a-bd46-4780-e123-824b8f7fa6fb"
      },
      "source": [
        "#Task4\n",
        "f2 = int(input())\n",
        "s2 = int(input())\n",
        "if f2>s2:\n",
        "  print(f2-s2)\n",
        "else:\n",
        "  print(s2-f2)"
      ],
      "execution_count": null,
      "outputs": [
        {
          "output_type": "stream",
          "name": "stdout",
          "text": [
            "-40\n",
            "-4\n",
            "36\n"
          ]
        }
      ]
    },
    {
      "cell_type": "code",
      "metadata": {
        "colab": {
          "base_uri": "https://localhost:8080/"
        },
        "id": "oZ0BNUyuzUYm",
        "outputId": "9a118d46-e9c9-432c-b38d-9b2d8230b288"
      },
      "source": [
        "#Task5\n",
        "f3 = int(input())\n",
        "if f3%2==0:\n",
        "  print(\"The nmber is even\")\n",
        "else:\n",
        "  print(\"The number is odd\")"
      ],
      "execution_count": null,
      "outputs": [
        {
          "output_type": "stream",
          "name": "stdout",
          "text": [
            "22\n",
            "The nmber is even\n"
          ]
        }
      ]
    },
    {
      "cell_type": "code",
      "metadata": {
        "colab": {
          "base_uri": "https://localhost:8080/"
        },
        "id": "pCu0PRkN9lOr",
        "outputId": "2d990c31-41a5-419b-9c5b-c21baed4ef1c"
      },
      "source": [
        "#task6\n",
        "f4 = int(input())\n",
        "if f4%2 ==0 or f4%5==0:\n",
        "  print(f4)\n",
        "else:\n",
        "  print(\"Not a multiple\")"
      ],
      "execution_count": null,
      "outputs": [
        {
          "output_type": "stream",
          "name": "stdout",
          "text": [
            "3\n",
            "Not a multiple\n"
          ]
        }
      ]
    },
    {
      "cell_type": "code",
      "metadata": {
        "colab": {
          "base_uri": "https://localhost:8080/"
        },
        "id": "biZ4an_P9lid",
        "outputId": "7fdc02f0-998e-4d7f-c4a8-c6ba6f339484"
      },
      "source": [
        "#task7\n",
        "n = int(input())\n",
        "if n%2==0 or n%5==0:\n",
        "  if n%2==0 and n%5==0:\n",
        "    print('multiple of both 2 and 5')\n",
        "  print(n)\n",
        "else:\n",
        "  print('not multiple')"
      ],
      "execution_count": null,
      "outputs": [
        {
          "output_type": "stream",
          "name": "stdout",
          "text": [
            "10\n",
            "multiple of both 2 and 5\n",
            "10\n"
          ]
        }
      ]
    },
    {
      "cell_type": "code",
      "metadata": {
        "colab": {
          "base_uri": "https://localhost:8080/"
        },
        "id": "FnN8zedK9l0m",
        "outputId": "0253b4a8-2f3b-4f12-bbfa-01bf589b86ba"
      },
      "source": [
        "#task8\n",
        "n = int(input())\n",
        "if n%2==0 and n%5==0:\n",
        "  print(n)\n",
        "else:\n",
        "  print('Not multiple of 2 and 5 both')"
      ],
      "execution_count": null,
      "outputs": [
        {
          "output_type": "stream",
          "name": "stdout",
          "text": [
            "5\n",
            "Not multiple of 2 and 5 both\n"
          ]
        }
      ]
    },
    {
      "cell_type": "code",
      "metadata": {
        "colab": {
          "base_uri": "https://localhost:8080/"
        },
        "id": "GOLmBiDu9mJB",
        "outputId": "c4a88c72-6834-4bfc-e340-7525e7504813"
      },
      "source": [
        "#task9\n",
        "n = int(input())\n",
        "if n%2==1 and n%5==1:\n",
        "  print(n)\n",
        "else:\n",
        "  print(\"NO\")"
      ],
      "execution_count": null,
      "outputs": [
        {
          "output_type": "stream",
          "name": "stdout",
          "text": [
            "12\n",
            "NO\n"
          ]
        }
      ]
    },
    {
      "cell_type": "code",
      "metadata": {
        "colab": {
          "base_uri": "https://localhost:8080/"
        },
        "id": "zWG0i_7b9mXL",
        "outputId": "1d00c4cc-23ee-4df7-9637-76a3d91bbcb6"
      },
      "source": [
        "#task10\n",
        "n = int(input())\n",
        "if n % 2 != 0 or n % 5!= 0:\n",
        "  print(n)\n",
        "else:\n",
        "  print('no')"
      ],
      "execution_count": null,
      "outputs": [
        {
          "output_type": "stream",
          "name": "stdout",
          "text": [
            "12\n",
            "12\n"
          ]
        }
      ]
    },
    {
      "cell_type": "code",
      "metadata": {
        "colab": {
          "base_uri": "https://localhost:8080/"
        },
        "id": "eWOAePsF9msM",
        "outputId": "ea487cc3-533f-4d11-d64e-f4db75766a7e"
      },
      "source": [
        "#task11\n",
        "n = int(input())\n",
        "if 90<= n <=100:\n",
        "  print('A')\n",
        "elif 80<= n <=89:\n",
        "  print('B')\n",
        "elif 70<= n <=79:\n",
        "  print('C')\n",
        "elif 60<= n <=69:\n",
        "  print('D')\n",
        "elif 50<= n <=59:\n",
        "  print('E')\n",
        "elif 0<= n <50:\n",
        "  print('F')\n",
        "else:\n",
        "  print(\"invalid\")"
      ],
      "execution_count": null,
      "outputs": [
        {
          "output_type": "stream",
          "name": "stdout",
          "text": [
            "69\n",
            "D\n"
          ]
        }
      ]
    },
    {
      "cell_type": "code",
      "metadata": {
        "colab": {
          "base_uri": "https://localhost:8080/"
        },
        "id": "UlQY7zYn92BB",
        "outputId": "ec7c5869-4fcc-4691-eee0-d9c4c3affe0b"
      },
      "source": [
        "#task12\n",
        "hr = int(input())\n",
        "if hr<=40:\n",
        "  x = hr*200\n",
        "  print(x)\n",
        "elif hr>40:\n",
        "  z = (hr - 40)*300 \n",
        "  y = 8000+z\n",
        "  print(y)"
      ],
      "execution_count": null,
      "outputs": [
        {
          "output_type": "stream",
          "name": "stdout",
          "text": [
            "100\n",
            "26000\n"
          ]
        }
      ]
    },
    {
      "cell_type": "code",
      "metadata": {
        "colab": {
          "base_uri": "https://localhost:8080/"
        },
        "id": "uaX0ZS_X92Xv",
        "outputId": "665da7db-88da-496a-cc53-91ac78b55dc3"
      },
      "source": [
        "#task13\n",
        "sec = int(input())\n",
        "remsec = sec % 60\n",
        "min = int((sec -remsec)/60)\n",
        "remmin = min % 60\n",
        "hour = int((min - remmin)/60)\n",
        "remhour = hour % 24\n",
        "days = int((hour -remhour)/24)\n",
        "print(f\"Time {days} : hours {remhour} : minutes {remmin} : second {remsec}\")"
      ],
      "execution_count": null,
      "outputs": [
        {
          "output_type": "stream",
          "name": "stdout",
          "text": [
            "10000\n",
            "Time 0 : hours 2 : minutes 46 : second 40\n"
          ]
        }
      ]
    },
    {
      "cell_type": "code",
      "metadata": {
        "colab": {
          "base_uri": "https://localhost:8080/"
        },
        "id": "X3SXpH3r92oN",
        "outputId": "de0fb388-6d52-4dd6-9446-c51d5256f19e"
      },
      "source": [
        "#task14\n",
        "s = int(input())\n",
        "if s<100:\n",
        "  l = float(3000 - (125*(s**2)))\n",
        "  print(l)\n",
        "elif s>=100:\n",
        "  x = 4+(s**2)/14900\n",
        "  l1 = float(12000/x)\n",
        "  print(l1)"
      ],
      "execution_count": null,
      "outputs": [
        {
          "output_type": "stream",
          "name": "stdout",
          "text": [
            "120\n",
            "2416.2162162162163\n"
          ]
        }
      ]
    },
    {
      "cell_type": "code",
      "metadata": {
        "colab": {
          "base_uri": "https://localhost:8080/"
        },
        "id": "4uF3rnsR93B1",
        "outputId": "9fdc5498-8d93-45f2-b375-794ee4726f05"
      },
      "source": [
        "#task15\n",
        "hr = int(input())\n",
        "if 0 <= hr <=3:\n",
        "  print(\"Patience is virtue\")\n",
        "elif 4 <= hr <=6:\n",
        "  print(\"Breakfast\")\n",
        "elif 7<= hr <=11:\n",
        "  print(\"Patience is virtue\")\n",
        "elif 12<= hr <=13:\n",
        "  print(\"Lunch\")\n",
        "elif  hr == 14 or hr == 15:\n",
        "  print(\"patience is virtue\")\n",
        "elif 16<= hr <= 17:\n",
        "  print(\"Snacks\")\n",
        "elif hr == 18:\n",
        "  print(\"patience is virtue\")\n",
        "elif 19 <= hr <= 20:\n",
        "  print(\"Dinner\")\n",
        "elif 21<=hr <= 23:\n",
        "  print(\"patience is virtue\")\n",
        "else:\n",
        "  print(\"wrongtime\")"
      ],
      "execution_count": null,
      "outputs": [
        {
          "output_type": "stream",
          "name": "stdout",
          "text": [
            "20\n",
            "Dinner\n"
          ]
        }
      ]
    },
    {
      "cell_type": "code",
      "metadata": {
        "colab": {
          "base_uri": "https://localhost:8080/"
        },
        "id": "kRdFK53v93P1",
        "outputId": "734f42c6-6671-4e4a-d594-ac9d55c536b4"
      },
      "source": [
        "hr = int(input())\n",
        "if hr <0 or hr>23:\n",
        "  print(\"wrong time\")\n",
        "else:\n",
        "  if 4 <= hr <= 6:\n",
        "    print(\"breakfast\")\n",
        "  if 12<= hr <= 13:\n",
        "    print(\"Lunch\")\n",
        "  if 16<= hr <= 17:\n",
        "    print(\"Snacks\")\n",
        "  if 19 <= hr <= 20:\n",
        "    print(\"Dinner\")\n",
        "  if 0<=hr<=3 or 7<= hr<=11 or 14<=hr<=15 or hr == 18 or 21<= hr <= 23:\n",
        "    print(\"Wrong time\")\n",
        "print(\"Patience is virtue\")"
      ],
      "execution_count": null,
      "outputs": [
        {
          "output_type": "stream",
          "name": "stdout",
          "text": [
            "12\n",
            "Lunch\n",
            "Patience is virtue\n"
          ]
        }
      ]
    },
    {
      "cell_type": "code",
      "metadata": {
        "id": "qVMYEyCN93rU",
        "colab": {
          "base_uri": "https://localhost:8080/"
        },
        "outputId": "6f121617-ffc4-4dba-af71-738d42d48f0d"
      },
      "source": [
        "count = 0\n",
        "n1 = input()\n",
        "\n",
        "while count < 5:\n",
        "  print(n1)\n",
        "  count+=1"
      ],
      "execution_count": null,
      "outputs": [
        {
          "output_type": "stream",
          "name": "stdout",
          "text": [
            "i love moon\n",
            "i love moon\n",
            "i love moon\n",
            "i love moon\n",
            "i love moon\n",
            "i love moon\n"
          ]
        }
      ]
    },
    {
      "cell_type": "code",
      "metadata": {
        "colab": {
          "base_uri": "https://localhost:8080/"
        },
        "id": "I4ZdVGqPRHHx",
        "outputId": "bf3c8624-ec19-490d-82a1-409ad0c1565e"
      },
      "source": [
        "count = int(input())\n",
        "limit = int(input())\n",
        "\n",
        "while count<= limit:\n",
        "  if count%2!=0:\n",
        "    print(count)\n",
        "  count+=1"
      ],
      "execution_count": null,
      "outputs": [
        {
          "output_type": "stream",
          "name": "stdout",
          "text": [
            "27\n",
            "56\n",
            "27\n",
            "29\n",
            "31\n",
            "33\n",
            "35\n",
            "37\n",
            "39\n",
            "41\n",
            "43\n",
            "45\n",
            "47\n",
            "49\n",
            "51\n",
            "53\n",
            "55\n"
          ]
        }
      ]
    },
    {
      "cell_type": "code",
      "metadata": {
        "id": "Z7dv_4tJRHEw",
        "colab": {
          "base_uri": "https://localhost:8080/"
        },
        "outputId": "7e0986bf-ccd7-45a8-a5b8-29170d3ef1ed"
      },
      "source": [
        "def calculate (*args,val1):\n",
        "  calculate(10,20,30)\n",
        "print(calculate)"
      ],
      "execution_count": null,
      "outputs": [
        {
          "output_type": "stream",
          "name": "stdout",
          "text": [
            "<function calculate at 0x7fcdcfcfc290>\n"
          ]
        }
      ]
    },
    {
      "cell_type": "code",
      "metadata": {
        "id": "VCnJu412RG9r",
        "colab": {
          "base_uri": "https://localhost:8080/"
        },
        "outputId": "d3923341-dc9b-4b73-abe9-cf5bbe904d5e"
      },
      "source": [
        "count =1\n",
        "while count<=10: #true\n",
        "  print(count)\n",
        "  count = count+1\n",
        "  if count==10:\n",
        "    break"
      ],
      "execution_count": null,
      "outputs": [
        {
          "output_type": "stream",
          "name": "stdout",
          "text": [
            "1\n",
            "2\n",
            "3\n",
            "4\n",
            "5\n",
            "6\n",
            "7\n",
            "8\n",
            "9\n"
          ]
        }
      ]
    },
    {
      "cell_type": "code",
      "metadata": {
        "id": "d-9wE0THRG6w",
        "colab": {
          "base_uri": "https://localhost:8080/"
        },
        "outputId": "7828ed21-f80f-450c-a7e3-0007f8731415"
      },
      "source": [
        "count = 0\n",
        "while count<5:\n",
        "  count+=1\n",
        "  if count ==2:\n",
        "    continue\n",
        "  print(\"hello\",count)"
      ],
      "execution_count": null,
      "outputs": [
        {
          "output_type": "stream",
          "name": "stdout",
          "text": [
            "hello 1\n",
            "hello 3\n",
            "hello 4\n",
            "hello 5\n"
          ]
        }
      ]
    },
    {
      "cell_type": "code",
      "metadata": {
        "id": "kXnCBATqRG32"
      },
      "source": [
        "outer =1\n",
        "while outer <= 2:\n",
        "  inner =1\n",
        "  while inner <= 3:\n",
        "    print(outer,',',inner)\n",
        "    inner+=1\n",
        "  print(\"inner loop terminates\")\n",
        "  outer+=1\n",
        "print()"
      ],
      "execution_count": null,
      "outputs": []
    },
    {
      "cell_type": "code",
      "metadata": {
        "id": "9H40oe36RGm8",
        "colab": {
          "base_uri": "https://localhost:8080/"
        },
        "outputId": "4845d63f-0505-439b-884a-f37b4c3390ec"
      },
      "source": [
        "#006\n",
        "n1 = int(input(\"N1: \"))\n",
        "n2 = int(input(\"N2: \"))\n",
        "\n",
        "if n2 == 0:\n",
        "  print(\"cant devidddded by zero\")\n",
        "else:\n",
        "  n = int(n1/n2)\n",
        "  print(\"result:\",n)"
      ],
      "execution_count": null,
      "outputs": [
        {
          "output_type": "stream",
          "name": "stdout",
          "text": [
            "N1: 30\n",
            "N2: 10\n",
            "result: 3\n"
          ]
        }
      ]
    },
    {
      "cell_type": "code",
      "metadata": {
        "colab": {
          "base_uri": "https://localhost:8080/"
        },
        "id": "PZPKQlsHYy9n",
        "outputId": "e61b54e0-41e4-43e1-d793-941a4c55d40c"
      },
      "source": [
        "#007\n",
        "fruit = input(\"Fruit Name : \")\n",
        "if fruit == \"banana\":\n",
        "  print(\"yellow\")\n",
        "elif fruit == \"apple\":\n",
        "  print(\"red\")\n",
        "elif fruit==\"lemon\":\n",
        "  print(\"yellow\")\n",
        "elif fruit==\"lime\":\n",
        "  print(\"green\")\n",
        "elif fruit == \"orange\":\n",
        "  print(\"orange\")"
      ],
      "execution_count": null,
      "outputs": [
        {
          "output_type": "stream",
          "name": "stdout",
          "text": [
            "Fruit Name : banana\n",
            "yellow\n"
          ]
        }
      ]
    },
    {
      "cell_type": "code",
      "metadata": {
        "colab": {
          "base_uri": "https://localhost:8080/"
        },
        "id": "8lU_lPLPamMt",
        "outputId": "7e1c43e1-ae8e-4950-ed6e-0c1c61670faa"
      },
      "source": [
        "#008\n",
        "population = int(input(\"Enter the population : \"))\n",
        "if population<=700000:\n",
        "  print(\"you hve only one congress member\")\n",
        "elif 700000<poplation<1400000:\n",
        "  print(\"yo have 2 congress member\")\n",
        "\n"
      ],
      "execution_count": null,
      "outputs": [
        {
          "output_type": "stream",
          "name": "stdout",
          "text": [
            "Enter the population : 500000\n",
            "you hve only one congress member\n"
          ]
        }
      ]
    },
    {
      "cell_type": "code",
      "metadata": {
        "colab": {
          "base_uri": "https://localhost:8080/"
        },
        "id": "i2nn8OIfdojd",
        "outputId": "2650aa30-1e34-4f84-d003-c8b0eed3a954"
      },
      "source": [
        "#009\n",
        "fs = int(input(\"Final score in percent : \"))\n",
        "if 0 > fs > 100:\n",
        "  print(\"invalid score\")\n",
        "elif 90<=fs<=100:\n",
        "  print(\"A\")\n",
        "elif 80 <= fs <=89:\n",
        "  print(\"B\")\n",
        "elif 70 <= fs <=79:\n",
        "  print(\"C\")\n",
        "elif 65<= fs <= 69:\n",
        "  print(\"D\")\n",
        "elif 0<= fs <=64:\n",
        "  print(\"F\")\n",
        "else:\n",
        "  print(\"invalid number\")\n",
        "print(\"Goodluck\")"
      ],
      "execution_count": null,
      "outputs": [
        {
          "output_type": "stream",
          "name": "stdout",
          "text": [
            "Final score in percent : -55\n",
            "invalid number\n",
            "Goodluck\n"
          ]
        }
      ]
    },
    {
      "cell_type": "code",
      "metadata": {
        "colab": {
          "base_uri": "https://localhost:8080/"
        },
        "id": "aQdrmIjafs5I",
        "outputId": "9883609d-6629-4f16-baee-dec501586144"
      },
      "source": [
        "#010\n",
        "x = int(input('Numeric value : '))\n",
        "if x<(-10):\n",
        "  print(\"1\")\n",
        "if -10 <= x < 200 :\n",
        "  print(\"2\")\n",
        "if x>=200:\n",
        "  print(\"3\")\n"
      ],
      "execution_count": null,
      "outputs": [
        {
          "output_type": "stream",
          "name": "stdout",
          "text": [
            "Numeric value : -11\n",
            "1\n"
          ]
        }
      ]
    },
    {
      "cell_type": "code",
      "metadata": {
        "colab": {
          "base_uri": "https://localhost:8080/"
        },
        "id": "tmqaE6u8hvci",
        "outputId": "07905fae-962d-4da3-f3b6-d0aa5fb10130"
      },
      "source": [
        "#011\n",
        "ak = 1\n",
        "if ak ==0:\n",
        "  print(\"Zero\")\n",
        "elif ak == 1:\n",
        "  print(\"one\")"
      ],
      "execution_count": null,
      "outputs": [
        {
          "output_type": "stream",
          "name": "stdout",
          "text": [
            "one\n"
          ]
        }
      ]
    },
    {
      "cell_type": "code",
      "metadata": {
        "id": "AgeRkZpNiIQd",
        "colab": {
          "base_uri": "https://localhost:8080/"
        },
        "outputId": "1a703954-40f2-4284-9ea1-53b829b91f51"
      },
      "source": [
        "a = [\"1\",\"0\"]\n",
        "b = [\"Adam\",\"Bella\",\"Charlie\"]\n",
        "for i in a:\n",
        "  for i2 in b:\n",
        "    print(i2)\n",
        "  print(i)"
      ],
      "execution_count": null,
      "outputs": [
        {
          "output_type": "stream",
          "name": "stdout",
          "text": [
            "Adam\n",
            "Bella\n",
            "Charlie\n",
            "1\n",
            "Adam\n",
            "Bella\n",
            "Charlie\n",
            "0\n"
          ]
        }
      ]
    },
    {
      "cell_type": "code",
      "metadata": {
        "id": "5euFIXP5i0y1",
        "colab": {
          "base_uri": "https://localhost:8080/"
        },
        "outputId": "1e2c86a3-3b12-4861-ac35-da0dbc092013"
      },
      "source": [
        "for i in range(0,5):\n",
        "  print(i)"
      ],
      "execution_count": null,
      "outputs": [
        {
          "output_type": "stream",
          "name": "stdout",
          "text": [
            "0\n",
            "1\n",
            "2\n",
            "3\n",
            "4\n"
          ]
        }
      ]
    },
    {
      "cell_type": "code",
      "metadata": {
        "id": "3Q8k41jOi0uO",
        "colab": {
          "base_uri": "https://localhost:8080/"
        },
        "outputId": "1b3b4094-fd5e-4643-c35a-0aac1a7c139f"
      },
      "source": [
        "print('%x, %X' % (15, 15))\n",
        "print('[%c]' % 65)\n",
        "print('Sep = --','Ben', 25, 'California')\n",
        "x = float('NaN')\n",
        "print('%f, %e, %F, %E' % (x, x, x, x))\n",
        "x=[1 ,2 ,3]\n",
        "y=x\n",
        "x[1]=\"middle\"\n",
        "print (x,y)\n"
      ],
      "execution_count": null,
      "outputs": [
        {
          "output_type": "stream",
          "name": "stdout",
          "text": [
            "f, F\n",
            "[A]\n",
            "Sep = -- Ben 25 California\n",
            "nan, nan, NAN, NAN\n",
            "[1, 'middle', 3] [1, 'middle', 3]\n"
          ]
        }
      ]
    },
    {
      "cell_type": "code",
      "metadata": {
        "id": "WtePX_Hri0rx",
        "colab": {
          "base_uri": "https://localhost:8080/"
        },
        "outputId": "68b21cbc-dabc-4e40-ae7e-c8cf26a28e1f"
      },
      "source": [
        "number_list = []\n",
        "n = int(input(\"Enter the list size \"))\n",
        "print(n)\n",
        "for i in range (0,n):\n",
        "  item = int(input())\n",
        "  print(\"Enter number at index\",i)\n",
        "  number_list.append(item)\n",
        "print(\"User list is \" , number_list)"
      ],
      "execution_count": null,
      "outputs": [
        {
          "output_type": "stream",
          "name": "stdout",
          "text": [
            "Enter the list size 5\n",
            "5\n",
            "5\n",
            "Enter number at index 0\n",
            "10\n",
            "Enter number at index 1\n",
            "15\n",
            "Enter number at index 2\n",
            "20\n",
            "Enter number at index 3\n",
            "25\n",
            "Enter number at index 4\n",
            "User list is  [5, 10, 15, 20, 25]\n"
          ]
        }
      ]
    },
    {
      "cell_type": "code",
      "metadata": {
        "id": "igYr4bXUi0o6",
        "colab": {
          "base_uri": "https://localhost:8080/"
        },
        "outputId": "e77e986f-5470-4826-e4f7-03075e1661cb"
      },
      "source": [
        "n = int(input(\"Enter the size of the list \"))\n",
        "print(\"\\n\")\n",
        "num_list = list(int(num) for num in input(\"Enter the list items separated by space \").strip().split())[:n]\n",
        "\n",
        "print(\"User list: \", num_list)"
      ],
      "execution_count": null,
      "outputs": [
        {
          "output_type": "stream",
          "name": "stdout",
          "text": [
            "Enter the size of the list 5\n",
            "\n",
            "\n",
            "Enter the list items separated by space 0 1 2 3 4 5 6\n",
            "User list:  [0, 1, 2, 3, 4]\n"
          ]
        }
      ]
    },
    {
      "cell_type": "markdown",
      "metadata": {
        "id": "0vEYmEZf7fMX"
      },
      "source": [
        "###HACKERRANK SOLUTION"
      ]
    },
    {
      "cell_type": "code",
      "metadata": {
        "id": "MaUnqWngi0md",
        "colab": {
          "base_uri": "https://localhost:8080/"
        },
        "outputId": "dc146c5f-ea51-4da8-bf19-d10ee98d096a"
      },
      "source": [
        "n = int(input())\n",
        "for i in range(0,n):\n",
        "  if 1<=n <=20:\n",
        "    print(i**2)\n"
      ],
      "execution_count": null,
      "outputs": [
        {
          "output_type": "stream",
          "name": "stdout",
          "text": [
            "5\n",
            "0\n",
            "1\n",
            "4\n",
            "9\n",
            "16\n"
          ]
        }
      ]
    },
    {
      "cell_type": "code",
      "metadata": {
        "colab": {
          "base_uri": "https://localhost:8080/"
        },
        "id": "VuOZZDJDgE2y",
        "outputId": "6b2381a2-628a-46a5-b5e9-c928afd219ba"
      },
      "source": [
        "n = int(input())\n",
        "while 1<= n <=150:\n",
        "  for i in range (1,n+1):\n",
        "    print(i,end=\"\" )\n",
        "  break"
      ],
      "execution_count": null,
      "outputs": [
        {
          "output_type": "stream",
          "name": "stdout",
          "text": [
            "5\n",
            "12345"
          ]
        }
      ]
    },
    {
      "cell_type": "code",
      "metadata": {
        "colab": {
          "base_uri": "https://localhost:8080/"
        },
        "id": "1qcyPRcZgEss",
        "outputId": "bd687c9d-4cf9-4c80-faf0-3ae23715b68b"
      },
      "source": [
        "Input  = int(input())\n",
        "Answer = ''\n",
        "\n",
        "for i in range(1,Input+1):\n",
        "    Answer += str(i)\n",
        "    \n",
        "print(Answer)"
      ],
      "execution_count": null,
      "outputs": [
        {
          "output_type": "stream",
          "name": "stdout",
          "text": [
            "5\n",
            "12345\n"
          ]
        }
      ]
    },
    {
      "cell_type": "code",
      "metadata": {
        "colab": {
          "base_uri": "https://localhost:8080/"
        },
        "id": "sCrFSA1m6MbO",
        "outputId": "bb897ffe-5621-4a96-cf31-e1ac3173e743"
      },
      "source": [
        "list(map(lambda i: print(i, end=''), [i for i in range(1, int(input()) + 1)]))"
      ],
      "execution_count": null,
      "outputs": [
        {
          "output_type": "stream",
          "name": "stdout",
          "text": [
            "5\n",
            "12345"
          ]
        },
        {
          "output_type": "execute_result",
          "data": {
            "text/plain": [
              "[None, None, None, None, None]"
            ]
          },
          "metadata": {},
          "execution_count": 99
        }
      ]
    },
    {
      "cell_type": "code",
      "metadata": {
        "colab": {
          "base_uri": "https://localhost:8080/"
        },
        "id": "0FMLNa5w6MX9",
        "outputId": "899b94ec-7469-43ca-cdc6-90d8baa50a8d"
      },
      "source": [
        "n = int(input())\n",
        "print(''.join(map(str,range(1,n+1))))"
      ],
      "execution_count": null,
      "outputs": [
        {
          "output_type": "stream",
          "name": "stdout",
          "text": [
            "5\n",
            "12345\n"
          ]
        }
      ]
    },
    {
      "cell_type": "code",
      "metadata": {
        "colab": {
          "base_uri": "https://localhost:8080/"
        },
        "id": "c6IoSfNt6MVe",
        "outputId": "d5b01c58-5b9a-448f-8079-27f870badb95"
      },
      "source": [
        "print(*range(1, int(input()) + 1), sep=\"\")"
      ],
      "execution_count": null,
      "outputs": [
        {
          "output_type": "stream",
          "name": "stdout",
          "text": [
            "5\n",
            "12345\n"
          ]
        }
      ]
    },
    {
      "cell_type": "code",
      "metadata": {
        "id": "JTnFpAwa6MTM",
        "colab": {
          "base_uri": "https://localhost:8080/"
        },
        "outputId": "005c6c80-3b9a-4234-8e71-da86cea2e90f"
      },
      "source": [
        "counter = 24\n",
        "while counter >= -6:\n",
        "  if counter ==-6:\n",
        "    print(counter,end=\"\")\n",
        "  else:\n",
        "    print(counter,end=\",\")\n",
        "  counter = counter - 6\n"
      ],
      "execution_count": null,
      "outputs": [
        {
          "output_type": "stream",
          "name": "stdout",
          "text": [
            "24,18,12,6,0,-6 fgf\n"
          ]
        }
      ]
    },
    {
      "cell_type": "code",
      "metadata": {
        "id": "_cdW6uQ96MH1",
        "colab": {
          "base_uri": "https://localhost:8080/"
        },
        "outputId": "8096e8aa-f27b-4411-efcf-34d58e0ab38d"
      },
      "source": [
        "counter = 1\n",
        "while counter <= 10:\n",
        "  print(counter,end = \",\")\n",
        "  counter+=2"
      ],
      "execution_count": null,
      "outputs": [
        {
          "output_type": "stream",
          "name": "stdout",
          "text": [
            "1,3,5,7,9,"
          ]
        }
      ]
    },
    {
      "cell_type": "markdown",
      "metadata": {
        "id": "ELYQvCmlNpXR"
      },
      "source": [
        "***ASSIGNMENT 2***"
      ]
    },
    {
      "cell_type": "code",
      "metadata": {
        "id": "5CiXYDXv6MDt",
        "colab": {
          "base_uri": "https://localhost:8080/"
        },
        "outputId": "844e5b88-3abe-488c-9902-3e2652d258fe"
      },
      "source": [
        "#Task2\n",
        "fav_car = input(\"CAR : \")\n",
        "num1 = int(input(\"Number : \"))\n",
        "count = 1\n",
        "while count<=n1:\n",
        "  count+=1\n",
        "  print(fav_car)"
      ],
      "execution_count": null,
      "outputs": [
        {
          "output_type": "stream",
          "name": "stdout",
          "text": [
            "CAR : Toyota\n",
            "Number : 4\n",
            "Toyota\n",
            "Toyota\n",
            "Toyota\n",
            "Toyota\n"
          ]
        }
      ]
    },
    {
      "cell_type": "code",
      "metadata": {
        "id": "JO3Y5GUA6MBj",
        "colab": {
          "base_uri": "https://localhost:8080/"
        },
        "outputId": "98da8844-00c6-4b26-fd91-eada7d558f84"
      },
      "source": [
        "#Task2\n",
        "fav_car = input(\"CAR : \")\n",
        "num1 = int(input(\"Number : \"))\n",
        "count = 1\n",
        "for i in range(num1):\n",
        "  count+=1\n",
        "  print(fav_car)"
      ],
      "execution_count": null,
      "outputs": [
        {
          "output_type": "stream",
          "name": "stdout",
          "text": [
            "CAR : toooo\n",
            "Number : 5\n",
            "toooo\n",
            "toooo\n",
            "toooo\n",
            "toooo\n",
            "toooo\n"
          ]
        }
      ]
    },
    {
      "cell_type": "code",
      "metadata": {
        "id": "4Ii7pGap6L_K",
        "colab": {
          "base_uri": "https://localhost:8080/"
        },
        "outputId": "b1cfc41d-b170-40c9-f5b2-757be398ccfd"
      },
      "source": [
        "#Task 1\n",
        "counter = 24\n",
        "while counter >= -6:\n",
        "  if counter ==-6:\n",
        "    print(counter,end=\"\")\n",
        "  else:\n",
        "    print(counter,end=\",\")\n",
        "  counter = counter - 6\n"
      ],
      "execution_count": null,
      "outputs": [
        {
          "output_type": "stream",
          "name": "stdout",
          "text": [
            "24,18,12,6,0,-6"
          ]
        }
      ]
    },
    {
      "cell_type": "code",
      "metadata": {
        "id": "WNa-y0HS6L8g",
        "colab": {
          "base_uri": "https://localhost:8080/"
        },
        "outputId": "b676a084-02e7-4812-d9cd-f6212ebc1d03"
      },
      "source": [
        "#Task3\n",
        "sum = 0 \n",
        "num = 600\n",
        "while num >= 0:\n",
        "  if num % 7 == 0 and num % 9 == 0:\n",
        "    sum+=num\n",
        "  num-=1\n",
        "print(sum)"
      ],
      "execution_count": null,
      "outputs": [
        {
          "output_type": "stream",
          "name": "stdout",
          "text": [
            "2835\n"
          ]
        }
      ]
    },
    {
      "cell_type": "code",
      "metadata": {
        "id": "TGw_taCt6L4u",
        "colab": {
          "base_uri": "https://localhost:8080/"
        },
        "outputId": "47d097d8-c8ec-44ac-bfa5-3b09d9da88f6"
      },
      "source": [
        "#Task3\n",
        "sum = 0\n",
        "for i in range(1,601):\n",
        "  if i % 7==0 and i % 9 ==0:\n",
        "    sum = sum+i\n",
        "print(sum)"
      ],
      "execution_count": null,
      "outputs": [
        {
          "output_type": "stream",
          "name": "stdout",
          "text": [
            "2835\n"
          ]
        }
      ]
    },
    {
      "cell_type": "code",
      "metadata": {
        "colab": {
          "base_uri": "https://localhost:8080/"
        },
        "id": "JzVDW79wwBKW",
        "outputId": "971ca0eb-9bf0-4ba2-e075-99260986102d"
      },
      "source": [
        "#hackerrank task2\n",
        "n = int(input())\n",
        "if 1 <= n <=100:\n",
        "  if n%2==0 and 2<=n<=5:\n",
        "    print(\"Not Weird\")\n",
        "  elif n%2==0 and 6<=n<=20:\n",
        "    print(\"Weird\")\n",
        "  elif  n%2==0 and n>20:\n",
        "    print(\"Not Weird\")\n",
        "  elif  n%2!=0:\n",
        "    print('Weird')"
      ],
      "execution_count": null,
      "outputs": [
        {
          "output_type": "stream",
          "name": "stdout",
          "text": [
            "24\n",
            "Not Weird\n"
          ]
        }
      ]
    },
    {
      "cell_type": "code",
      "metadata": {
        "id": "TRn5UL63wBH1",
        "colab": {
          "base_uri": "https://localhost:8080/"
        },
        "outputId": "746be407-410c-4780-c90b-15a7a057af1c"
      },
      "source": [
        "#Task4\n",
        "sum=0\n",
        "num=600\n",
        "while num>=0:\n",
        "  if (num%7==0 or num%9==0):\n",
        "    sum = sum+num\n",
        "  num -=1\n",
        "print(sum)"
      ],
      "execution_count": null,
      "outputs": [
        {
          "output_type": "stream",
          "name": "stdout",
          "text": [
            "0\n"
          ]
        }
      ]
    },
    {
      "cell_type": "code",
      "metadata": {
        "id": "7F42-34RwA9-",
        "colab": {
          "base_uri": "https://localhost:8080/"
        },
        "outputId": "35850b4b-01e5-435e-9bbb-10f0faf8e06a"
      },
      "source": [
        "sum = 0\n",
        "num = 600\n",
        "while num>=0:\n",
        "  if not(num%7==0 and num%9==0):\n",
        "    if num%7==0 or num%9==0:\n",
        "      sum=sum+num\n",
        "  num-=1\n",
        "print(sum)\n",
        "    "
      ],
      "execution_count": null,
      "outputs": [
        {
          "output_type": "stream",
          "name": "stdout",
          "text": [
            "39814\n"
          ]
        }
      ]
    },
    {
      "cell_type": "code",
      "metadata": {
        "id": "kFp9omTZwA7W",
        "colab": {
          "base_uri": "https://localhost:8080/"
        },
        "outputId": "ed01b746-8d13-48d6-aad9-6c1cae594f59"
      },
      "source": [
        "#Todo\n",
        "total=0\n",
        "for count in range(1,601):  \n",
        "  if(count%7==0) and (count%9==0): \n",
        "    pass     \n",
        "  elif(count%7==0) or (count%9==0):    \n",
        "    total=total+count\n",
        "print(total)"
      ],
      "execution_count": null,
      "outputs": [
        {
          "output_type": "stream",
          "name": "stdout",
          "text": [
            "39814\n"
          ]
        }
      ]
    },
    {
      "cell_type": "code",
      "metadata": {
        "id": "GWjAvQ5swA4e",
        "colab": {
          "base_uri": "https://localhost:8080/"
        },
        "outputId": "0447d9b7-917e-4d9f-c6c2-9eb6c26ca03f"
      },
      "source": [
        "total=0\n",
        "for count in range(1,601):\n",
        "  if(count%7==0) or (count%9==0):\n",
        "    total=total+count\n",
        "print(total)"
      ],
      "execution_count": null,
      "outputs": [
        {
          "output_type": "stream",
          "name": "stdout",
          "text": [
            "42649\n"
          ]
        }
      ]
    },
    {
      "cell_type": "code",
      "metadata": {
        "id": "oAOli9w4xPMd",
        "colab": {
          "base_uri": "https://localhost:8080/"
        },
        "outputId": "46139c59-c71d-4275-bcd7-6729616069d7"
      },
      "source": [
        "for i in range(10,51):\n",
        "  if i % 2!=0:\n",
        "    print(i,end=\",\")\n"
      ],
      "execution_count": null,
      "outputs": [
        {
          "output_type": "stream",
          "name": "stdout",
          "text": [
            "11,13,15,17,19,21,23,25,27,29,31,33,35,37,39,41,43,45,47,49,"
          ]
        }
      ]
    },
    {
      "cell_type": "code",
      "metadata": {
        "id": "SpIii9-_BnN-",
        "colab": {
          "base_uri": "https://localhost:8080/"
        },
        "outputId": "889ee211-d597-42d7-d653-3e85ee925ccc"
      },
      "source": [
        "sum = 0\n",
        "num = 600\n",
        "while num>=0:\n",
        "  if not(num%7==0 and num%9==0):\n",
        "    if num%7== 0 or num%9==0 :\n",
        "      sum+=num\n",
        "  num-=1\n",
        "print(sum)"
      ],
      "execution_count": null,
      "outputs": [
        {
          "output_type": "stream",
          "name": "stdout",
          "text": [
            "39814\n"
          ]
        }
      ]
    },
    {
      "cell_type": "code",
      "metadata": {
        "id": "jgeCroC3BnL2",
        "colab": {
          "base_uri": "https://localhost:8080/"
        },
        "outputId": "22dfbd80-9fa3-42f6-d562-977c583a7982"
      },
      "source": [
        "for i in range(10,51):\n",
        "  if i %2!=0:\n",
        "    print(i,end=\",\")"
      ],
      "execution_count": null,
      "outputs": [
        {
          "output_type": "stream",
          "name": "stdout",
          "text": [
            "11,13,15,17,19,21,23,25,27,29,31,33,35,37,39,41,43,45,47,49,"
          ]
        }
      ]
    },
    {
      "cell_type": "code",
      "metadata": {
        "id": "oSep3Sf2BnJH",
        "colab": {
          "base_uri": "https://localhost:8080/"
        },
        "outputId": "925c5390-0fc5-4360-c154-a5d3801f26fa"
      },
      "source": [
        "n = int(input(\"Y : \"))\n",
        "even = 0\n",
        "odd = 0\n",
        "for i in range(1,n+1):\n",
        "  if i %2==0:\n",
        "    even = (i**2)+even\n",
        "    even+=1\n",
        "  elif i %2!=0:\n",
        "    odd = (i**2) +odd\n",
        "    odd += 1\n",
        "result = odd - even\n",
        "print(result)"
      ],
      "execution_count": null,
      "outputs": [
        {
          "output_type": "stream",
          "name": "stdout",
          "text": [
            "Y : 20\n",
            "-210\n"
          ]
        }
      ]
    },
    {
      "cell_type": "code",
      "metadata": {
        "id": "sRM_Qrp1BnGO",
        "colab": {
          "base_uri": "https://localhost:8080/"
        },
        "outputId": "3f4adef9-446e-4b49-873b-13f97754e1c2"
      },
      "source": [
        "n = int(input())\n",
        "for i in range(1,11):\n",
        "  print(n,'*',i, \"=\",n*i)"
      ],
      "execution_count": null,
      "outputs": [
        {
          "output_type": "stream",
          "name": "stdout",
          "text": [
            "2\n",
            "2 * 1 = 2\n",
            "2 * 2 = 4\n",
            "2 * 3 = 6\n",
            "2 * 4 = 8\n",
            "2 * 5 = 10\n",
            "2 * 6 = 12\n",
            "2 * 7 = 14\n",
            "2 * 8 = 16\n",
            "2 * 9 = 18\n",
            "2 * 10 = 20\n"
          ]
        }
      ]
    },
    {
      "cell_type": "code",
      "metadata": {
        "id": "eYGhTdnwBnDk",
        "colab": {
          "base_uri": "https://localhost:8080/"
        },
        "outputId": "4f9efa77-a26b-4026-a7eb-b836ad8b4c32"
      },
      "source": [
        "endOfRange = 4\n",
        "for i in range(0,endOfRange+1):\n",
        "  print(i)\n",
        "\n"
      ],
      "execution_count": null,
      "outputs": [
        {
          "output_type": "stream",
          "name": "stdout",
          "text": [
            "0\n",
            "1\n",
            "2\n",
            "3\n",
            "4\n"
          ]
        }
      ]
    },
    {
      "cell_type": "code",
      "metadata": {
        "id": "5dt4RWNKBnA1"
      },
      "source": [
        "n = int(input())\n",
        "sum = 0\n",
        "x= 1\n",
        "while x<=n:\n",
        "  if x%2==0:\n",
        "    sum = sum+(-1)*x**2\n",
        "  else:\n",
        "    sum = sum+x**2\n",
        "  print(sum)"
      ],
      "execution_count": null,
      "outputs": []
    },
    {
      "cell_type": "code",
      "metadata": {
        "colab": {
          "base_uri": "https://localhost:8080/"
        },
        "id": "zMU3cbA3F8gb",
        "outputId": "c9edc9fa-b7c9-42f4-e073-664a92e7a6e0"
      },
      "source": [
        "for n in [0,1,2,3,4,5]:\n",
        "    square = n**2\n",
        "    print('x =',n,'= x^2 =',square)\n",
        "print('The for loop is complete!')"
      ],
      "execution_count": null,
      "outputs": [
        {
          "output_type": "stream",
          "name": "stdout",
          "text": [
            "x = 0 = x^2 = 0\n",
            "x = 1 = x^2 = 1\n",
            "x = 2 = x^2 = 4\n",
            "x = 3 = x^2 = 9\n",
            "x = 4 = x^2 = 16\n",
            "x = 5 = x^2 = 25\n",
            "The for loop is complete!\n"
          ]
        }
      ]
    },
    {
      "cell_type": "code",
      "metadata": {
        "colab": {
          "base_uri": "https://localhost:8080/"
        },
        "id": "m0yi_DyyHR-a",
        "outputId": "73953b27-49de-47ef-9955-31ec9781eb67"
      },
      "source": [
        "sum = 0\n",
        "odd = 0\n",
        "for count in range(10):\n",
        "  n = int(input())\n",
        "  if n%2!=0:\n",
        "    sum= sum+n\n",
        "    odd+=1\n",
        "    avg= sum/odd\n",
        "print(\"Total is \",sum,\"and avg is \",avg)"
      ],
      "execution_count": null,
      "outputs": [
        {
          "output_type": "stream",
          "name": "stdout",
          "text": [
            "3\n",
            "5\n",
            "-44\n",
            "3\n",
            "54\n",
            "3\n",
            "77\n",
            "-4\n",
            "9\n",
            "4\n",
            "Total is  100 and avg is  16.666666666666668\n"
          ]
        }
      ]
    },
    {
      "cell_type": "code",
      "metadata": {
        "colab": {
          "base_uri": "https://localhost:8080/"
        },
        "id": "0ggfPQ8XKNLx",
        "outputId": "81b608db-aba3-440a-e942-7b511c174606"
      },
      "source": [
        "#t8\n",
        "t = int(input())\n",
        "for x in range(t):\n",
        "    line =input()\n",
        "    first = \"\"\n",
        "    second = \"\"\n",
        "\n",
        "    for i, c in enumerate(line):\n",
        "        if (i & 1) == 0:\n",
        "            first += c\n",
        "        else:\n",
        "            second += c\n",
        "    print (first, second)"
      ],
      "execution_count": null,
      "outputs": [
        {
          "output_type": "stream",
          "name": "stdout",
          "text": [
            "2\n",
            "askash\n",
            "aks sah\n",
            "hacker\n",
            "hce akr\n"
          ]
        }
      ]
    },
    {
      "cell_type": "code",
      "metadata": {
        "colab": {
          "base_uri": "https://localhost:8080/"
        },
        "id": "bWtOgmmk92yL",
        "outputId": "4280c625-55fb-4485-b173-bb388b43c441"
      },
      "source": [
        "#t9\n",
        "n = int(input())\n",
        "sum=0\n",
        "for i in range(n):\n",
        "  if i%7==0:\n",
        "    sum=sum+i\n",
        "  n-=1\n",
        "print(sum)\n"
      ],
      "execution_count": null,
      "outputs": [
        {
          "output_type": "stream",
          "name": "stdout",
          "text": [
            "50\n",
            "196\n"
          ]
        }
      ]
    },
    {
      "cell_type": "code",
      "metadata": {
        "colab": {
          "base_uri": "https://localhost:8080/"
        },
        "id": "m1NvKRWy93nS",
        "outputId": "2257cdfa-73c4-482e-946c-548dc84e99b2"
      },
      "source": [
        "#Todo\n",
        "num=int(input(\"Enter the value of N:\"))\n",
        "sum=0\n",
        "while num>=0:\n",
        "  if (num%7==0):\n",
        "    sum=sum+num\n",
        "  num -=1\n",
        "print(sum)"
      ],
      "execution_count": null,
      "outputs": [
        {
          "output_type": "stream",
          "name": "stdout",
          "text": [
            "Enter the value of N:50\n",
            "196\n"
          ]
        }
      ]
    },
    {
      "cell_type": "code",
      "metadata": {
        "colab": {
          "base_uri": "https://localhost:8080/"
        },
        "id": "RJcwPTWOByvF",
        "outputId": "038e945c-a9f2-4a2c-993e-be083b767a24"
      },
      "source": [
        "#t10\n",
        "cnt=0\n",
        "for i in range(10):\n",
        "  n = int(input())\n",
        "  cnt= cnt+n\n",
        "  print(cnt)\n",
        " "
      ],
      "execution_count": null,
      "outputs": [
        {
          "output_type": "stream",
          "name": "stdout",
          "text": [
            "10\n",
            "10\n",
            "2\n",
            "12\n",
            "4\n",
            "16\n",
            "20\n",
            "36\n",
            "21\n",
            "57\n",
            "23\n",
            "80\n",
            "3\n",
            "83\n",
            "3\n",
            "86\n",
            "5\n",
            "91\n",
            "5\n",
            "96\n"
          ]
        }
      ]
    },
    {
      "cell_type": "code",
      "metadata": {
        "colab": {
          "base_uri": "https://localhost:8080/"
        },
        "id": "TIcWMVFaVngz",
        "outputId": "437d6d2d-41aa-4bdc-8cb3-bae6e48aafc3"
      },
      "source": [
        "#Todo11\n",
        "n =int(input())\n",
        "num=[]\n",
        "num1=\"\"\n",
        "while n !=0:\n",
        "  num.append(n%10)\n",
        "  n =n//10\n",
        "num1=\",\".join(map(str,num ))\n",
        "print(num1)"
      ],
      "execution_count": null,
      "outputs": [
        {
          "output_type": "stream",
          "name": "stdout",
          "text": [
            "235346\n",
            "6,4,3,5,3,2\n"
          ]
        }
      ]
    },
    {
      "cell_type": "code",
      "metadata": {
        "id": "wlRpNATpnOPz"
      },
      "source": [
        "num = int(input())\n",
        "count = 0\n",
        "while num>0:\n",
        "  a = num%10\n",
        "  num = num-a \n",
        "  num=num//10\n",
        "  count+=1\n",
        "  print(int(a),end=\" \")"
      ],
      "execution_count": null,
      "outputs": []
    },
    {
      "cell_type": "code",
      "metadata": {
        "colab": {
          "base_uri": "https://localhost:8080/"
        },
        "id": "CRo0SLT46htQ",
        "outputId": "fe91d2f1-16de-445f-96fe-ea5d22eb557f"
      },
      "source": [
        "a = str(input('Please give me a number: '))\n",
        "\n",
        "for i in a[::-1]:\n",
        "    print(i,end=\" \")"
      ],
      "execution_count": null,
      "outputs": [
        {
          "output_type": "stream",
          "name": "stdout",
          "text": [
            "Please give me a number: 32786\n",
            "6 8 7 2 3 "
          ]
        }
      ]
    },
    {
      "cell_type": "code",
      "metadata": {
        "colab": {
          "base_uri": "https://localhost:8080/"
        },
        "id": "6v1GW-ytPAU2",
        "outputId": "8ee16439-2999-4ae3-f46b-46b01e904709"
      },
      "source": [
        "#t12\n",
        "num = int(input())\n",
        "count=0\n",
        "while num!=0:\n",
        "  count+=1\n",
        "  num = num//10\n",
        "print(count)"
      ],
      "execution_count": null,
      "outputs": [
        {
          "output_type": "stream",
          "name": "stdout",
          "text": [
            "2222\n",
            "4\n"
          ]
        }
      ]
    },
    {
      "cell_type": "code",
      "metadata": {
        "colab": {
          "base_uri": "https://localhost:8080/"
        },
        "id": "nnOwXX-VSG0N",
        "outputId": "33354983-15d9-4bc0-b9c7-fff23bcd7830"
      },
      "source": [
        "num = int(input())\n",
        "count=0\n",
        "for i in str(num):\n",
        "  num = int(num//10)\n",
        "  count+=1\n",
        "print(count)"
      ],
      "execution_count": null,
      "outputs": [
        {
          "output_type": "stream",
          "name": "stdout",
          "text": [
            "2222\n",
            "4\n"
          ]
        }
      ]
    },
    {
      "cell_type": "code",
      "metadata": {
        "colab": {
          "base_uri": "https://localhost:8080/"
        },
        "id": "HPLxEQmpW9Ys",
        "outputId": "11fbcd21-6cf7-4f25-91ba-d69d6fdc0b27"
      },
      "source": [
        "#t13\n",
        "num = int(input())\n",
        "count = 0\n",
        "temp = num\n",
        "while temp > 0:\n",
        "  temp = temp//10\n",
        "  count+=1\n",
        "while num!=0:\n",
        "  p = 10**(count-1)\n",
        "  n = num//p\n",
        "  num =num % p\n",
        "  if count ==1:\n",
        "    print(n,end=\"\")\n",
        "  else:\n",
        "    print(n,end=\",\")\n",
        "  count-=1\n"
      ],
      "execution_count": null,
      "outputs": [
        {
          "output_type": "stream",
          "name": "stdout",
          "text": [
            "32786\n",
            "3,2,7,8,6"
          ]
        }
      ]
    },
    {
      "cell_type": "code",
      "metadata": {
        "colab": {
          "base_uri": "https://localhost:8080/"
        },
        "id": "9jBlaJbJbOnZ",
        "outputId": "bf0745a7-2e57-4b38-ea24-55939834f5ed"
      },
      "source": [
        "num = int(input())\n",
        "for num in str(num):\n",
        "  print(num,end=\",\")"
      ],
      "execution_count": null,
      "outputs": [
        {
          "output_type": "stream",
          "name": "stdout",
          "text": [
            "32786\n",
            "3,2,7,8,6,"
          ]
        }
      ]
    },
    {
      "cell_type": "code",
      "metadata": {
        "colab": {
          "base_uri": "https://localhost:8080/"
        },
        "id": "T3g88IyOW2hn",
        "outputId": "bcf8b344-84e1-4422-baf0-2d9924ccdf85"
      },
      "source": [
        "32786%10\n",
        "32786//10"
      ],
      "execution_count": null,
      "outputs": [
        {
          "output_type": "execute_result",
          "data": {
            "text/plain": [
              "3278"
            ]
          },
          "metadata": {},
          "execution_count": 8
        }
      ]
    },
    {
      "cell_type": "code",
      "metadata": {
        "id": "yAriHxSxpOwn"
      },
      "source": [
        "#Todo\n",
        "num=input(\"Enter a num:\")\n",
        "size=len(num)\n",
        "for char in (num):\n",
        "  if size>1:\n",
        "    print(char,end=\",\")\n",
        "  else:\n",
        "      print(char,end=\"\")\n",
        "  size -=1"
      ],
      "execution_count": null,
      "outputs": []
    },
    {
      "cell_type": "code",
      "metadata": {
        "colab": {
          "base_uri": "https://localhost:8080/"
        },
        "id": "eUoPTGCJZKfc",
        "outputId": "1d139562-11b4-435b-b1c6-37a2bbd9e573"
      },
      "source": [
        "\n",
        "num = int(input())\n",
        "count = 0\n",
        "while num> 0:\n",
        "  num = num//10\n",
        "  count+=1\n",
        "  for i in str(num):\n",
        "    p = 10**(count-1)\n",
        "    n = int(num)//p\n",
        "    num =int(num)%p\n",
        "    if count==1:\n",
        "      print(n,end=\" \")\n",
        "    else: print(n,end=\",\")\n",
        "    count-=1"
      ],
      "execution_count": null,
      "outputs": [
        {
          "output_type": "stream",
          "name": "stdout",
          "text": [
            "32768\n",
            "3276 0.0,0.0,0.0,"
          ]
        }
      ]
    },
    {
      "cell_type": "code",
      "metadata": {
        "colab": {
          "base_uri": "https://localhost:8080/"
        },
        "id": "0EbRp5rMa6Nn",
        "outputId": "d97d4b6f-3edb-4a63-9e7c-8603ca782945"
      },
      "source": [
        "#t14\n",
        "num = int(input())\n",
        "counter = 0\n",
        "x= ''\n",
        "for i in range(1,num+1):\n",
        "  if num % i== 0:\n",
        "    counter+=1\n",
        "    if i!=num:\n",
        "      x=x+str(i)+\",\"\n",
        "    else:x=x+str(i)+\" \"\n",
        "print(x,\"total\",counter,\"divisors\")\n",
        "\n"
      ],
      "execution_count": null,
      "outputs": [
        {
          "output_type": "stream",
          "name": "stdout",
          "text": [
            "6\n",
            "1,2,3,6  total 4 divisors\n"
          ]
        }
      ]
    },
    {
      "cell_type": "code",
      "metadata": {
        "colab": {
          "base_uri": "https://localhost:8080/"
        },
        "id": "iYqjAY0Nkprt",
        "outputId": "eb80b2f2-01b3-4a3d-f457-c7d912a4c6bf"
      },
      "source": [
        "n = int(input('Enter the value of n: '))\n",
        "divisors = []\n",
        "for i in range(1, n):\n",
        "    if n % i == 0:\n",
        "        divisors.append(i)\n",
        "\n",
        "print(divisors)\n",
        "print(len(divisors))"
      ],
      "execution_count": null,
      "outputs": [
        {
          "output_type": "stream",
          "name": "stdout",
          "text": [
            "Enter the value of n: 6\n",
            "[1, 2, 3]\n",
            "3\n"
          ]
        }
      ]
    },
    {
      "cell_type": "code",
      "metadata": {
        "colab": {
          "base_uri": "https://localhost:8080/"
        },
        "id": "__T8fXoqoc5Q",
        "outputId": "a269300f-61d3-43b1-a787-4a81648a0cd7"
      },
      "source": [
        "#t15\n",
        "num = int(input())\n",
        "total = 0\n",
        "for i in range(1,num):\n",
        "  if num % i== 0:\n",
        "    total+=i\n",
        "if total==num:\n",
        "  print(num,\"perfect\")\n",
        "else:                      "
      ],
      "execution_count": null,
      "outputs": [
        {
          "output_type": "stream",
          "name": "stdout",
          "text": [
            "6\n",
            "6 not perfect\n"
          ]
        }
      ]
    },
    {
      "cell_type": "code",
      "metadata": {
        "colab": {
          "base_uri": "https://localhost:8080/"
        },
        "id": "ARVFlwtrFJVy",
        "outputId": "9da4338b-d26b-4237-b542-cc9169b475a3"
      },
      "source": [
        "#t16\n",
        "num = int(input())\n",
        "total = 0\n",
        "for i in range(1,num):\n",
        "  if num % i== 0 :\n",
        "    total+=1\n",
        "if total==1:\n",
        "  print(num,\"it's a prime number\")\n",
        "else:\n",
        "  print(num,\"not a prime number\")"
      ],
      "execution_count": null,
      "outputs": [
        {
          "output_type": "stream",
          "name": "stdout",
          "text": [
            "19\n",
            "19 it's a prime number\n"
          ]
        }
      ]
    },
    {
      "cell_type": "code",
      "metadata": {
        "id": "FqS9GxEDJZM6"
      },
      "source": [
        ""
      ],
      "execution_count": null,
      "outputs": []
    },
    {
      "cell_type": "code",
      "metadata": {
        "colab": {
          "base_uri": "https://localhost:8080/"
        },
        "id": "D0swK9iVNf7U",
        "outputId": "bb20d92b-3e3d-4f5d-ba2f-997af9ea9d13"
      },
      "source": [
        "#t17\n",
        "quantity = int(input())\n",
        "max=0\n",
        "min=0\n",
        "sum=0\n",
        "for i in range(quantity):\n",
        "  n=int(input())\n",
        "  sum+=n\n",
        "  if n>max:\n",
        "    max=n\n",
        "  if n<min:\n",
        "    min=n\n",
        "avg = float(sum//quantity)\n",
        "print(min,max,avg)\n",
        "\n",
        "  \n"
      ],
      "execution_count": null,
      "outputs": [
        {
          "output_type": "stream",
          "name": "stdout",
          "text": [
            "5\n",
            "10\n",
            "4\n",
            "1\n",
            "-100\n",
            "-1\n",
            "-100 10 -18.0\n"
          ]
        }
      ]
    },
    {
      "cell_type": "code",
      "metadata": {
        "colab": {
          "base_uri": "https://localhost:8080/"
        },
        "id": "VV1P_q1D6EL-",
        "outputId": "ec0f7377-6a0f-460e-abee-15d4b3d596e2"
      },
      "source": [
        "#t18\n",
        "n = int(input())\n",
        "for i in range(n):\n",
        "  for o in range(n):\n",
        "    print(\"+\",end=\"\")\n",
        "  print()\n"
      ],
      "execution_count": null,
      "outputs": [
        {
          "output_type": "stream",
          "name": "stdout",
          "text": [
            "5\n",
            "+++++\n",
            "+++++\n",
            "+++++\n",
            "+++++\n",
            "+++++\n"
          ]
        }
      ]
    },
    {
      "cell_type": "code",
      "metadata": {
        "colab": {
          "base_uri": "https://localhost:8080/"
        },
        "id": "a6ffrvIQNBoT",
        "outputId": "2a543555-2e67-4ca1-9dfc-3b0aeb4cc292"
      },
      "source": [
        "#t18\n",
        "\n",
        "side = int(input(\"Please Enter any Side of a Square  : \"))\n",
        "i = 0\n",
        "print(\"Square Star Pattern\") \n",
        "\n",
        "while(i < side):\n",
        "    j = 0\n",
        "    while(j < side):      \n",
        "        j = j + 1\n",
        "        print('+', end = '')\n",
        "    i = i + 1\n",
        "    print()"
      ],
      "execution_count": null,
      "outputs": [
        {
          "output_type": "stream",
          "name": "stdout",
          "text": [
            "Please Enter any Side of a Square  : 5\n",
            "Square Star Pattern\n",
            "+++++\n",
            "+++++\n",
            "+++++\n",
            "+++++\n",
            "+++++\n"
          ]
        }
      ]
    },
    {
      "cell_type": "code",
      "metadata": {
        "colab": {
          "base_uri": "https://localhost:8080/"
        },
        "id": "l7LOK9rSOmhX",
        "outputId": "7e14f117-d730-469a-f54f-20ea9403ad84"
      },
      "source": [
        "#t19\n",
        "n=int(input(\"C :\"))\n",
        "m=int(input(\"R :\"))\n",
        "for i in range (1,n+1):\n",
        "  for j in range(1,m+1):\n",
        "    print(i,end='')\n",
        "  print('')"
      ],
      "execution_count": null,
      "outputs": [
        {
          "output_type": "stream",
          "name": "stdout",
          "text": [
            "C :4\n",
            "R :6\n",
            "111111\n",
            "222222\n",
            "333333\n",
            "444444\n"
          ]
        }
      ]
    },
    {
      "cell_type": "code",
      "metadata": {
        "colab": {
          "base_uri": "https://localhost:8080/"
        },
        "id": "NRDVmAezZc_G",
        "outputId": "1898f6d4-5bc8-48c8-b1fc-38487dda4c16"
      },
      "source": [
        "#t19\n",
        "m=int(input())\n",
        "n=int(input())\n",
        "\n",
        "\n",
        "for i in range(m):\n",
        "  for j in range(1,n+1):\n",
        "    print(j,end=\"\")\n",
        "  print()"
      ],
      "execution_count": null,
      "outputs": [
        {
          "output_type": "stream",
          "name": "stdout",
          "text": [
            "4\n",
            "6\n",
            "123456\n",
            "123456\n",
            "123456\n",
            "123456\n"
          ]
        }
      ]
    },
    {
      "cell_type": "code",
      "metadata": {
        "colab": {
          "base_uri": "https://localhost:8080/"
        },
        "id": "0Ifx1gCQa2PO",
        "outputId": "0051d226-9a44-4fb5-c843-759684d4b263"
      },
      "source": [
        "n = int(input())\n",
        "for i in range(1,n+1):\n",
        "  for j in range(1,i+1):\n",
        "    print(i,end=\"\")\n",
        "  print()"
      ],
      "execution_count": null,
      "outputs": [
        {
          "output_type": "stream",
          "name": "stdout",
          "text": [
            "9\n",
            "1\n",
            "22\n",
            "333\n",
            "4444\n",
            "55555\n",
            "666666\n",
            "7777777\n",
            "88888888\n",
            "999999999\n"
          ]
        }
      ]
    },
    {
      "cell_type": "code",
      "metadata": {
        "colab": {
          "base_uri": "https://localhost:8080/"
        },
        "id": "QMj93ZUZfama",
        "outputId": "70d57336-e59f-49fe-9f15-8e65eb3eaf8a"
      },
      "source": [
        "#t22\n",
        "n = int(input())\n",
        "bs=\"\"\n",
        "while  n!=0:\n",
        "  bs=bs+str(n%2)\n",
        "  n=n//2\n",
        "for i in range (len(bs)-1,-1,-1):\n",
        "  print(bs[i],end=\"\")\n"
      ],
      "execution_count": null,
      "outputs": [
        {
          "output_type": "stream",
          "name": "stdout",
          "text": [
            "13\n",
            "1101"
          ]
        }
      ]
    },
    {
      "cell_type": "code",
      "metadata": {
        "colab": {
          "base_uri": "https://localhost:8080/"
        },
        "id": "t33gvCbgQOgD",
        "outputId": "0d29c65c-fa51-47b8-ebf0-c996824232eb"
      },
      "source": [
        "#Todo22\n",
        "num=int(input(\"Enter a number:\"))\n",
        "i=0\n",
        "sum=0\n",
        "while num>0:\n",
        "  remainder=num%2\n",
        "  sum=sum+remainder*10**i\n",
        "  num//=2\n",
        "  i+=1\n",
        "print(\"binary=\",sum)"
      ],
      "execution_count": null,
      "outputs": [
        {
          "output_type": "stream",
          "name": "stdout",
          "text": [
            "Enter a number:13\n",
            "binary= 1101\n"
          ]
        }
      ]
    },
    {
      "cell_type": "code",
      "metadata": {
        "colab": {
          "base_uri": "https://localhost:8080/"
        },
        "id": "oHBcxZUyBCot",
        "outputId": "696b9581-3153-415f-e5e9-fd43b271cd5f"
      },
      "source": [
        "binary = input('enter a number: ') \n",
        "decimal = 0 \n",
        "for digit in binary: \n",
        "    decimal = decimal*2 + int(digit) \n",
        "print(decimal)"
      ],
      "execution_count": null,
      "outputs": [
        {
          "output_type": "stream",
          "name": "stdout",
          "text": [
            "enter a number: 1010\n",
            "10\n"
          ]
        }
      ]
    },
    {
      "cell_type": "code",
      "metadata": {
        "id": "YbNKoX6fRtuh"
      },
      "source": [
        "#Todo\n",
        "num=input(\"Enter a number:\")\n",
        "num_1=int(num)\n",
        "sum=0\n",
        "for power in range(len(num)):\n",
        "  sum=sum+(num_1%10)*2**power\n",
        "\n",
        "  num_1//=10\n",
        "print(sum)"
      ],
      "execution_count": null,
      "outputs": []
    },
    {
      "cell_type": "code",
      "metadata": {
        "colab": {
          "base_uri": "https://localhost:8080/"
        },
        "id": "nlgagYq0BxCB",
        "outputId": "f72e72db-b3fa-48d2-e6ce-e2241ec83ed8"
      },
      "source": [
        "deci= int(input())\n",
        "c=bin(deci)\n",
        "print(c)"
      ],
      "execution_count": null,
      "outputs": [
        {
          "output_type": "stream",
          "name": "stdout",
          "text": [
            "10\n",
            "0b1010\n"
          ]
        }
      ]
    },
    {
      "cell_type": "code",
      "metadata": {
        "colab": {
          "base_uri": "https://localhost:8080/"
        },
        "id": "BEozq19tfF72",
        "outputId": "9363ebb6-9d36-4d68-801d-73a100ce689b"
      },
      "source": [
        "num=int(input(\"Enter the number of rows : \"))\n",
        "for i in range(1,num+1):\n",
        "  for j in range(1,num-i+1):\n",
        "    print(end=\" \")\n",
        "  for j in range(i,0,-1):\n",
        "    print(j,end=\"\")\n",
        "  for j in range(2,i+1):\n",
        "    print(j,end=\"\")\n",
        "  print()"
      ],
      "execution_count": null,
      "outputs": [
        {
          "output_type": "stream",
          "name": "stdout",
          "text": [
            "Enter the number of rows : 9\n",
            "        1\n",
            "       212\n",
            "      32123\n",
            "     4321234\n",
            "    543212345\n",
            "   65432123456\n",
            "  7654321234567\n",
            " 876543212345678\n",
            "98765432123456789\n"
          ]
        }
      ]
    },
    {
      "cell_type": "code",
      "metadata": {
        "id": "yO1iIzNuTKvt"
      },
      "source": [
        "#21-26 17 need to review and practice"
      ],
      "execution_count": null,
      "outputs": []
    }
  ]
}