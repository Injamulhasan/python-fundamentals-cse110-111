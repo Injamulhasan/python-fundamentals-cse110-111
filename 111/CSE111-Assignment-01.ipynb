{
 "cells": [
  {
   "cell_type": "code",
   "execution_count": 35,
   "metadata": {},
   "outputs": [
    {
     "name": "stdout",
     "output_type": "stream",
     "text": [
      "Enter a string: BaNaNa\n",
      "banana\n"
     ]
    }
   ],
   "source": [
    "#str task 1\n",
    "\n",
    "\n",
    "\n",
    "string_input = input(\"Enter a string: \")\n",
    "count1 = 0\n",
    "count2 = 0\n",
    "\n",
    "for i in range(len(string_input)):\n",
    "    if 97 <= ord(string_input[i]) <= 122:\n",
    "        count1 += 1\n",
    "    if 65 <= ord(string_input[i]) <= 90:\n",
    "        count2 += 1\n",
    "        \n",
    "if count1 >= count2:\n",
    "    print(string_input.lower())\n",
    "else:\n",
    "    print(string_input.upper())"
   ]
  },
  {
   "cell_type": "code",
   "execution_count": 38,
   "metadata": {},
   "outputs": [
    {
     "name": "stdout",
     "output_type": "stream",
     "text": [
      "Enter a string: jhg231j213\n",
      "MIXED\n"
     ]
    }
   ],
   "source": [
    "#str task 2\n",
    "\n",
    "\n",
    "\n",
    "string_input = input(\"Enter a string: \")\n",
    "count1 = 0\n",
    "count2 = 0\n",
    "\n",
    "for i in range(len(string_input)):\n",
    "    if 48 <= ord(string_input[i]) <= 57:\n",
    "        count1 += 1\n",
    "    elif (97 <= ord(string_input[i]) <= 122) or (65 <= ord(string_input[i]) <= 90):\n",
    "        count2 += 1\n",
    "    else:\n",
    "        pass\n",
    "    \n",
    "if count1 == len(string_input):\n",
    "    print(\"NUMBER\")\n",
    "elif count2 == len(string_input):\n",
    "    print(\"WORD\")\n",
    "else:\n",
    "    print(\"MIXED\")"
   ]
  },
  {
   "cell_type": "code",
   "execution_count": 40,
   "metadata": {},
   "outputs": [
    {
     "name": "stdout",
     "output_type": "stream",
     "text": [
      "Enter a string: coDIng\n",
      "BLANK\n"
     ]
    }
   ],
   "source": [
    "# str task 3\n",
    "\n",
    "\n",
    "\n",
    "string_input = input(\"Enter a string: \")\n",
    "for i in range(0, len(string_input)-1):\n",
    "    if 65 <= ord(string_input[i]) <= 90:\n",
    "        i += 1\n",
    "        break\n",
    "        \n",
    "for j in range(-1, 0):\n",
    "    if 65 <= ord(string_input[j]) <= 90:\n",
    "        j += 1\n",
    "        break\n",
    "        \n",
    "output = string_input[i:j-2]\n",
    "\n",
    "if output == \"\":\n",
    "    print(\"BLANK\")\n",
    "else:\n",
    "    print(output)"
   ]
  },
  {
   "cell_type": "code",
   "execution_count": 41,
   "metadata": {},
   "outputs": [
    {
     "name": "stdout",
     "output_type": "stream",
     "text": [
      "Enter a string: The book is not too good!\n",
      "The book is not excellent!\n"
     ]
    }
   ],
   "source": [
    "#str task 4\n",
    "\n",
    "\n",
    "\n",
    "string1 = input(\"Enter a string: \")\n",
    "string2 = \"too good\"\n",
    "\n",
    "if string2 in string1:\n",
    "    print(string1.replace(\"too good\", \"excellent\"))\n",
    "else:\n",
    "    print(string1)"
   ]
  },
  {
   "cell_type": "code",
   "execution_count": 44,
   "metadata": {},
   "outputs": [
    {
     "name": "stdout",
     "output_type": "stream",
     "text": [
      "Enter a string: harry\n",
      "Enter another string: hermione\n",
      "hrrhr\n"
     ]
    }
   ],
   "source": [
    "#str task 5\n",
    "\n",
    "\n",
    "\n",
    "\n",
    "string1 = input(\"Enter a string: \")\n",
    "string2 = input(\"Enter another string: \")\n",
    "new_string = \"\"\n",
    "\n",
    "for i in string1:\n",
    "    if i in string2:\n",
    "        new_string += i\n",
    "        \n",
    "for j in string2:\n",
    "    if j in string1:\n",
    "        new_string += j\n",
    "\n",
    "if new_string == \"\":\n",
    "    print(\"Nothing in common.\")\n",
    "else:\n",
    "    print(new_string)"
   ]
  },
  {
   "cell_type": "code",
   "execution_count": 55,
   "metadata": {},
   "outputs": [
    {
     "name": "stdout",
     "output_type": "stream",
     "text": [
      "Enter a string: ohmybracu\n",
      "Uppercase Missing\n",
      "Digit Missing\n",
      "Special character missing\n"
     ]
    }
   ],
   "source": [
    "#str task 6\n",
    "\n",
    "\n",
    "\n",
    "\n",
    "password = input(\"Enter a string: \")\n",
    "\n",
    "lower = 0\n",
    "upper = 0\n",
    "num = 0\n",
    "special_char = 0\n",
    "\n",
    "for i in range(len(password)):\n",
    "    if password[i].islower():\n",
    "        lower += 1\n",
    "    elif password[i].isupper():\n",
    "        upper += 1\n",
    "    elif password[i].isdigit():\n",
    "        num += 1\n",
    "    else:\n",
    "        special_char += 1\n",
    "\n",
    "if (lower != 0) and (upper != 0) and (num != 0) and (special_char != 0):\n",
    "    print(\"OK\")\n",
    "else:\n",
    "    if lower == 0:\n",
    "        print(\"Lowercase Missing\")\n",
    "    if upper == 0:\n",
    "        print(\"Uppercase Missing\")\n",
    "    if num == 0:\n",
    "        print(\"Digit Missing\")\n",
    "    if special_char == 0:\n",
    "        print(\"Special character missing\")"
   ]
  },
  {
   "cell_type": "code",
   "execution_count": 56,
   "metadata": {},
   "outputs": [
    {
     "name": "stdout",
     "output_type": "stream",
     "text": [
      "Enter: 10\n",
      "Enter: 20\n",
      "Enter: 20\n",
      "Enter: 30\n",
      "Enter: 10\n",
      "Enter: 50\n",
      "Enter: 90\n",
      "Enter: STOP\n",
      "10 - 2 times\n",
      "20 - 2 times\n",
      "30 - 1 times\n",
      "50 - 1 times\n",
      "90 - 1 times\n"
     ]
    }
   ],
   "source": [
    "#list task 1\n",
    "\n",
    "\n",
    "\n",
    "\n",
    "\n",
    "list1 = []\n",
    "list2 = []\n",
    "freq_list = []\n",
    "\n",
    "for i in range(10):\n",
    "    num = input(\"Enter: \")\n",
    "    list1.append(num)\n",
    "    if num == \"STOP\":\n",
    "        break\n",
    "\n",
    "for j in list1:\n",
    "    if j != \"STOP\":\n",
    "        if j not in list2:\n",
    "            list2.append(j)\n",
    "    else:\n",
    "        break  \n",
    "        \n",
    "for k in list2:\n",
    "    if k in list1:\n",
    "        counter = list1.count(k)\n",
    "    freq_list.append(counter)\n",
    "    \n",
    "dictionary = dict(zip(list2, freq_list))\n",
    "for key, value in dictionary.items():\n",
    "    print(key+\" - \"+str(value)+\" times\")"
   ]
  },
  {
   "cell_type": "code",
   "execution_count": 57,
   "metadata": {},
   "outputs": [
    {
     "name": "stdout",
     "output_type": "stream",
     "text": [
      "Enter the number of lists: 4\n",
      "Enter elements of the list: 1,2,3\n",
      "Enter elements of the list: 4,5,6\n",
      "Enter elements of the list: 10,11,12\n",
      "Enter elements of the list: 7,8,9\n",
      "33\n",
      "[10, 11, 12]\n"
     ]
    }
   ],
   "source": [
    "#list task 2\n",
    "\n",
    "\n",
    "\n",
    "\n",
    "\n",
    "n = int(input(\"Enter the number of lists: \"))\n",
    "my_list = []\n",
    "sum_list = []\n",
    "\n",
    "for lst in range(n):\n",
    "    lst = input(\"Enter elements of the list: \").split(\",\")\n",
    "    lst2 = list(map(int, lst))\n",
    "    my_list.append(lst2)\n",
    "\n",
    "for i in my_list:\n",
    "    summation = sum(i)\n",
    "    sum_list.append(summation)\n",
    "    \n",
    "maximum = max(sum_list)\n",
    "result = sum_list.index(maximum)\n",
    "\n",
    "print(maximum)\n",
    "print(my_list[result])"
   ]
  },
  {
   "cell_type": "code",
   "execution_count": 58,
   "metadata": {},
   "outputs": [
    {
     "name": "stdout",
     "output_type": "stream",
     "text": [
      "Enter elements of the list: 2,3,6\n",
      "Enter elements of the list: 3,4,5\n",
      "[6, 8, 10, 9, 12, 15, 18, 24, 30]\n"
     ]
    }
   ],
   "source": [
    "#list task 3\n",
    "\n",
    "\n",
    "\n",
    "\n",
    "\n",
    "list1 = input(\"Enter elements of the list: \").split(\",\")\n",
    "list2 = input(\"Enter elements of the list: \").split(\",\")\n",
    "\n",
    "list1 = list(map(int, list1))\n",
    "list2 = list(map(int, list2))\n",
    "\n",
    "product_list = []\n",
    "\n",
    "for i in list1:\n",
    "    for j in list2:\n",
    "        product = i * j\n",
    "        product_list.append(product)\n",
    "print(product_list)"
   ]
  },
  {
   "cell_type": "code",
   "execution_count": 59,
   "metadata": {},
   "outputs": [
    {
     "name": "stdout",
     "output_type": "stream",
     "text": [
      "Enter elements of the list: 1,4,2,3\n",
      "Enter elements of the list: 2,1,4,6,10\n",
      "Enter elements of the list: 1,4,2,-1,6\n",
      "Enter elements of the list: STOP\n",
      "UB Jumper\n",
      "UB Jumper\n",
      "Not UB Jumper\n"
     ]
    }
   ],
   "source": [
    "#list task 4\n",
    "\n",
    "\n",
    "\n",
    "\n",
    "\n",
    "\n",
    "list1 = []\n",
    "\n",
    "while True:\n",
    "    list_input = input(\"Enter elements of the list: \").split(\",\")\n",
    "    if list_input[0] == \"STOP\":\n",
    "        break\n",
    "    else:   \n",
    "        list_input = list(map(int, list_input))\n",
    "        list1.append(list_input)\n",
    "\n",
    "list2 = []\n",
    "\n",
    "for i in list1:\n",
    "    n = len(i)\n",
    "    for j in range(n-1):\n",
    "        difference = i[j+1] - i[j]\n",
    "        difference = abs(difference)\n",
    "    list2.append(difference)\n",
    "    for k in list2:\n",
    "        if 1 <= k < n:\n",
    "            output = \"UB Jumper\"\n",
    "        else:\n",
    "            output = \"Not UB Jumper\"\n",
    "    print(output)"
   ]
  },
  {
   "cell_type": "code",
   "execution_count": 60,
   "metadata": {},
   "outputs": [
    {
     "name": "stdout",
     "output_type": "stream",
     "text": [
      "Enter a string: Bracu1234\n",
      "acruB1324\n"
     ]
    }
   ],
   "source": [
    "#list task 5\n",
    "\n",
    "\n",
    "\n",
    "\n",
    "\n",
    "\n",
    "string_input = input(\"Enter a string: \")\n",
    "lower = []\n",
    "upper = []\n",
    "odd = []\n",
    "even = []\n",
    "\n",
    "for i in string_input:\n",
    "    if 97 <= ord(i)<=122:\n",
    "        lower.append(i)\n",
    "    elif 65 <= ord(i) <= 90:\n",
    "        upper.append(i)\n",
    "    elif int(i) % 2 != 0:\n",
    "        odd.append(i)\n",
    "    else:\n",
    "        even.append(i)\n",
    "\n",
    "lower.sort()\n",
    "upper.sort()\n",
    "odd.sort()\n",
    "even.sort()\n",
    "\n",
    "output = \"\".join(lower) + \"\".join(upper) + \"\".join(odd) + \"\".join(even)\n",
    "print(output)\n"
   ]
  },
  {
   "cell_type": "code",
   "execution_count": 64,
   "metadata": {},
   "outputs": [
    {
     "name": "stdout",
     "output_type": "stream",
     "text": [
      "Enter: 6,5\n",
      "Enter an element of the list: 0\n",
      "Enter an element of the list: 0\n",
      "Enter an element of the list: 0\n",
      "Enter an element of the list: 0\n",
      "Enter an element of the list: 0\n",
      "Enter an element of the list: 0\n",
      "2\n"
     ]
    }
   ],
   "source": [
    "#list task 6\n",
    "\n",
    "\n",
    "\n",
    "\n",
    "\n",
    "\n",
    "raw_input = input(\"Enter: \").split(\",\")\n",
    "n,k = map(int, raw_input)\n",
    "\n",
    "list1 = []\n",
    "\n",
    "for i in range(n):\n",
    "    yi = int(input(\"Enter an element of the list: \"))\n",
    "    list1.append(yi)\n",
    "\n",
    "for j in list1:\n",
    "    check_elig = n - j\n",
    "    if check_elig >= k:\n",
    "        eligible = check_elig // 3\n",
    "    else:\n",
    "        eligible = 0\n",
    "        \n",
    "print(eligible)\n",
    "        "
   ]
  },
  {
   "cell_type": "code",
   "execution_count": 65,
   "metadata": {},
   "outputs": [
    {
     "name": "stdout",
     "output_type": "stream",
     "text": [
      "Enter a key,value pair of first dictionary: a,100\n",
      "Enter a key,value pair of first dictionary: b,100\n",
      "Enter a key,value pair of first dictionary: c,200\n",
      "Enter a key,value pair of first dictionary: d,300\n",
      "Enter a key,value pair of second dictionary: a,300\n",
      "Enter a key,value pair of second dictionary: b,200\n",
      "Enter a key,value pair of second dictionary: d,400\n",
      "Enter a key,value pair of second dictionary: e,200\n",
      "{'a': 400, 'b': 300, 'c': 200, 'd': 700, 'e': 200}\n",
      "Values: (200, 300, 400, 700)\n"
     ]
    }
   ],
   "source": [
    "#dictionary and tuple task 1\n",
    "\n",
    "\n",
    "\n",
    "\n",
    "\n",
    "dict1 = {}\n",
    "for i in range(4):\n",
    "    temp1 = input(\"Enter a key,value pair of first dictionary: \").split(\",\")\n",
    "    dict1[temp1[0]] = int(temp1[1])\n",
    "    \n",
    "dict2 = {}\n",
    "for j in range(4):\n",
    "    temp2 = input(\"Enter a key,value pair of second dictionary: \").split(\",\")\n",
    "    dict2[temp2[0]] = int(temp2[1])\n",
    "\n",
    "dict3 = dict1.copy()\n",
    "dict3.update(dict2)\n",
    "\n",
    "for m,n in dict1.items():\n",
    "    for x,y in dict2.items():\n",
    "        if m == x:\n",
    "            dict3[m] = (n+y)\n",
    "            \n",
    "print(dict3)\n",
    "\n",
    "unique_val = set(dict3.values())\n",
    "sorted_list = sorted(unique_val)\n",
    "sorted_tuple = tuple(sorted_list)\n",
    "print(\"Values:\", sorted_tuple)"
   ]
  },
  {
   "cell_type": "code",
   "execution_count": 66,
   "metadata": {},
   "outputs": [
    {
     "name": "stdout",
     "output_type": "stream",
     "text": [
      "Enter: 10\n",
      "Enter: 20\n",
      "Enter: 20\n",
      "Enter: 30\n",
      "Enter: 10\n",
      "Enter: 50\n",
      "Enter: 90\n",
      "Enter: STOP\n",
      "10 - 2 times\n",
      "20 - 2 times\n",
      "30 - 1 times\n",
      "50 - 1 times\n",
      "90 - 1 times\n"
     ]
    }
   ],
   "source": [
    "#dictionary and tuple task 2\n",
    "\n",
    "\n",
    "\n",
    "\n",
    "\n",
    "\n",
    "\n",
    "dict1 = {}\n",
    "while True:\n",
    "    raw_input =input(\"Enter: \")\n",
    "    if raw_input != \"STOP\":\n",
    "        if raw_input not in dict1.keys():\n",
    "            dict1[raw_input]=1\n",
    "        else:\n",
    "            dict1[raw_input]+=1\n",
    "    else:\n",
    "        break\n",
    "for key,value in dict1.items():\n",
    "    print(key+\" - \"+str(value)+\" times\")"
   ]
  },
  {
   "cell_type": "code",
   "execution_count": 67,
   "metadata": {},
   "outputs": [
    {
     "name": "stdout",
     "output_type": "stream",
     "text": [
      "Enter a key,value pair of the dictionary: key1,value1\n",
      "Enter a key,value pair of the dictionary: key2,value2\n",
      "Enter a key,value pair of the dictionary: key3,value1\n",
      "{'value1': ['key1', 'key3'], 'value2': ['key2']}\n"
     ]
    }
   ],
   "source": [
    "#dictionary and tuple task 3\n",
    "\n",
    "\n",
    "\n",
    "\n",
    "\n",
    "list1 = []\n",
    "dict1 = {}\n",
    "for i in range(3):\n",
    "    raw_input = input(\"Enter a key,value pair of the dictionary: \").split(\",\")\n",
    "    temp1 = tuple(raw_input)\n",
    "    list1.append(temp1)\n",
    "\n",
    "for key, value in list1:\n",
    "    if value not in dict1.keys():\n",
    "        dict1[value] = [key]\n",
    "    else:\n",
    "        dict1[value].append(key)\n",
    "print(dict1)"
   ]
  },
  {
   "cell_type": "code",
   "execution_count": 68,
   "metadata": {},
   "outputs": [
    {
     "name": "stdout",
     "output_type": "stream",
     "text": [
      "Enter a string: evil\n",
      "Enter another string: live\n",
      "Those strings are anagrams.\n"
     ]
    }
   ],
   "source": [
    "#dictionary and tuple task 4\n",
    "\n",
    "\n",
    "\n",
    "\n",
    "\n",
    "\n",
    "\n",
    "dict1 = {}\n",
    "dict2 = {}\n",
    "string1 = input(\"Enter a string: \")\n",
    "string2 = input(\"Enter another string: \")\n",
    "len1 = len(string1)\n",
    "len2 = len(string2)\n",
    "\n",
    "if len1 != len2:\n",
    "    print(\"Those strings are not anagrams.\")\n",
    "else:\n",
    "    count = 0\n",
    "    for i in string1:\n",
    "        dict1[count] = i\n",
    "        count += 1\n",
    "    for j in string2:\n",
    "        dict2[count] = j\n",
    "        count += 1\n",
    "    sorted_dict1 = sorted(dict1.values())\n",
    "    sorted_dict2 = sorted(dict2.values())\n",
    "    if sorted_dict1 == sorted_dict2:\n",
    "        print(\"Those strings are anagrams.\")\n",
    "    else:\n",
    "        print(\"Those strings are not anagrams.\")\n"
   ]
  },
  {
   "cell_type": "code",
   "execution_count": 69,
   "metadata": {},
   "outputs": [
    {
     "name": "stdout",
     "output_type": "stream",
     "text": [
      "Enter text: Hello, World!\n",
      " 4433555555666110966677755531111\n"
     ]
    }
   ],
   "source": [
    "#dictionary and tuple task 5\n",
    "\n",
    "\n",
    "\n",
    "\n",
    "\n",
    "\n",
    "\n",
    "\n",
    "\n",
    "string_input = input(\"Enter text: \")\n",
    "\n",
    "length = len(string_input)\n",
    "output = \" \"\n",
    "\n",
    "list1 = [\"2\", \"22\", \"222\", \"3\", \"33\", \"333\", \"4\", \"44\", \"444\", \"5\", \"55\", \"555\", \"6\", \"66\", \"666\", \"7\", \"77\", \"777\", \"7777\", \"8\", \"88\", \"888\", \"9\", \"99\", \"999\", \"9999\" ]\n",
    "\n",
    "for i in range(length):\n",
    "    if string_input[i] == \" \":\n",
    "        output += \"0\"\n",
    "    elif string_input[i] == \".\":\n",
    "        output += \"1\"\n",
    "    elif string_input[i] == \",\":\n",
    "        output += \"11\"\n",
    "    elif string_input[i] == \"?\":\n",
    "        output += \"111\"\n",
    "    elif string_input[i] == \"!\":\n",
    "        output += \"1111\"\n",
    "    elif string_input[i] == \":\":\n",
    "        output += \"11111\"\n",
    "    else:\n",
    "        string_input = string_input.upper()\n",
    "        pos = ord(string_input[i]) - ord(\"A\")\n",
    "        output += list1[pos]\n",
    "        \n",
    "print(output)"
   ]
  },
  {
   "cell_type": "code",
   "execution_count": null,
   "metadata": {},
   "outputs": [],
   "source": []
  }
 ],
 "metadata": {
  "kernelspec": {
   "display_name": "Python 3",
   "language": "python",
   "name": "python3"
  },
  "language_info": {
   "codemirror_mode": {
    "name": "ipython",
    "version": 3
   },
   "file_extension": ".py",
   "mimetype": "text/x-python",
   "name": "python",
   "nbconvert_exporter": "python",
   "pygments_lexer": "ipython3",
   "version": "3.7.4"
  }
 },
 "nbformat": 4,
 "nbformat_minor": 2
}
