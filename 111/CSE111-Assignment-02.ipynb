{
 "cells": [
  {
   "cell_type": "code",
   "execution_count": 14,
   "metadata": {},
   "outputs": [
    {
     "name": "stdout",
     "output_type": "stream",
     "text": [
      "Enter a number: 5\n",
      "Enter a number: 2\n",
      "0.5\n"
     ]
    }
   ],
   "source": [
    "#task 01\n",
    "\n",
    "\n",
    "\n",
    "\n",
    "\n",
    "\n",
    "\n",
    "\n",
    "num1 = int(input(\"Enter a number: \"))\n",
    "num2 = int(input(\"Enter a number: \"))\n",
    "\n",
    "def perform_division(num1,num2):\n",
    "    division = float(num1 / num2)\n",
    "    \n",
    "    if num1 == 0 or num2 == 0:\n",
    "        return 0\n",
    "    else:\n",
    "        result = division - (division // 1)\n",
    "        return result\n",
    "    \n",
    "print(perform_division(num1, num2))"
   ]
  },
  {
   "cell_type": "code",
   "execution_count": 15,
   "metadata": {},
   "outputs": [
    {
     "name": "stdout",
     "output_type": "stream",
     "text": [
      "Enter height: 175\n",
      "Enter weight: 96\n",
      "Score is 31.3. You are Obese\n"
     ]
    }
   ],
   "source": [
    "#task 02\n",
    "\n",
    "\n",
    "\n",
    "\n",
    "\n",
    "\n",
    "\n",
    "height = int(input(\"Enter height: \"))\n",
    "weight = int(input(\"Enter weight: \"))\n",
    "\n",
    "def calculate_BMI(height, weight):\n",
    "    height = float(height / 100)\n",
    "    bmi = float(weight / (height ** 2))\n",
    "    \n",
    "    if bmi <= 18.5 :\n",
    "        condition = \"Underweight\"\n",
    "        return (bmi, condition)\n",
    "    elif 18.5 <= bmi <= 24.9:\n",
    "        condition = \"Normal\"\n",
    "        return (bmi, condition)\n",
    "    elif 25.0 <= bmi <= 30.0:\n",
    "        condition = \"Overweight\"\n",
    "        return (bmi, condition)\n",
    "    else:\n",
    "        condition = \"Obese\"\n",
    "        return (bmi, condition)\n",
    "    \n",
    "output = calculate_BMI(height, weight)\n",
    "\n",
    "print(\"Score is \" + \"%.1f\" % output[0] + \".\" + \" You are \" + output[1])"
   ]
  },
  {
   "cell_type": "code",
   "execution_count": 16,
   "metadata": {},
   "outputs": [
    {
     "name": "stdout",
     "output_type": "stream",
     "text": [
      "Enter minimum number: 3\n",
      "Enter maximum number: 16\n",
      "Enter divisor: 3\n",
      "45\n"
     ]
    }
   ],
   "source": [
    "#task 03\n",
    "\n",
    "\n",
    "\n",
    "\n",
    "\n",
    "minimum = int(input(\"Enter minimum number: \"))\n",
    "maximum = int(input(\"Enter maximum number: \"))\n",
    "divisor = int(input(\"Enter divisor: \"))\n",
    "\n",
    "def find_dividend(minimum, maximum, divisor):\n",
    "    lst = []\n",
    "    for i in range(minimum, maximum):\n",
    "        if i % divisor == 0:\n",
    "            lst.append(i)\n",
    "        else:\n",
    "            continue\n",
    "    return sum(lst)\n",
    "\n",
    "print(find_dividend(minimum, maximum, divisor))"
   ]
  },
  {
   "cell_type": "code",
   "execution_count": 24,
   "metadata": {},
   "outputs": [
    {
     "name": "stdout",
     "output_type": "stream",
     "text": [
      "243.6\n"
     ]
    }
   ],
   "source": [
    "#task 04\n",
    "\n",
    "\n",
    "\n",
    "\n",
    "\n",
    "\n",
    "\n",
    "\n",
    "def calculate_price(burger_name, place = \"Mohakhali\"):\n",
    "    if place != \"Mohakhali\":\n",
    "        delivery_charge = 60\n",
    "    else:\n",
    "        delivery_charge = 40\n",
    "    if burger_name == \"BBQ Chicken Cheese Burger\":\n",
    "        meal_cost = 250\n",
    "    elif burger_name == \"Beef Burger\":\n",
    "        meal_cost = 170\n",
    "    else:\n",
    "        meal_cost = 200\n",
    "        \n",
    "    tax = meal_cost * (8/100)\n",
    "    total_price = meal_cost + delivery_charge + tax\n",
    "    return total_price\n",
    "\n",
    "print(calculate_price(\"Beef Burger\", \"Dhanmondi\"))"
   ]
  },
  {
   "cell_type": "code",
   "execution_count": 27,
   "metadata": {},
   "outputs": [
    {
     "name": "stdout",
     "output_type": "stream",
     "text": [
      "Changed: alice@sheba.xyz\n"
     ]
    }
   ],
   "source": [
    "#task 05\n",
    "\n",
    "\n",
    "\n",
    "\n",
    "\n",
    "\n",
    "\n",
    "\n",
    "\n",
    "\n",
    "def replace_domain(string1, string2, string3 = \"kaaj.com\"):\n",
    "    new_string = \"\"\n",
    "    unchanged = False\n",
    "    if string2 in string1:\n",
    "        unchanged = True\n",
    "    else:\n",
    "        for i in string1:\n",
    "            new_string += i\n",
    "            if i == \"@\":\n",
    "                break\n",
    "        new_string += string2\n",
    "    if unchanged:\n",
    "        return (\"Unchanged\", string1)\n",
    "    else:\n",
    "        return (\"Changed\", new_string)\n",
    "    \n",
    "output = replace_domain(\"alice@kaaj.com\", \"sheba.xyz\", \"kaaj.com\")\n",
    "print(output[0] + \":\" + \" \" + output[1])"
   ]
  },
  {
   "cell_type": "code",
   "execution_count": 18,
   "metadata": {},
   "outputs": [
    {
     "name": "stdout",
     "output_type": "stream",
     "text": [
      "Enter a string: Steve Jobs\n",
      "Vowels: e, e, o. Total number of vowels: 3\n"
     ]
    }
   ],
   "source": [
    "#task 06\n",
    "\n",
    "\n",
    "\n",
    "\n",
    "\n",
    "\n",
    "\n",
    "a_string = input(\"Enter a string: \")\n",
    "\n",
    "def find_vowel(a_string):\n",
    "    list1 = [\"a\",\"e\",\"i\",\"o\",\"u\"]\n",
    "    list2 = []\n",
    "    for i in a_string:\n",
    "        if i in list1:\n",
    "            list2.append(i)\n",
    "        else:\n",
    "            continue\n",
    "    if len(list2) == 0:\n",
    "        print(\"No vowels in the name\")\n",
    "    else:\n",
    "        total = len(list2)\n",
    "        print(\"Vowels:\", \", \".join(list2), end = \".\")\n",
    "        print(\" Total number of vowels:\", total)\n",
    "        \n",
    "find_vowel(a_string)"
   ]
  },
  {
   "cell_type": "code",
   "execution_count": 19,
   "metadata": {},
   "outputs": [
    {
     "name": "stdout",
     "output_type": "stream",
     "text": [
      "Enter a string: nurses run\n",
      "Palindrome\n"
     ]
    }
   ],
   "source": [
    "#task 07\n",
    "\n",
    "\n",
    "\n",
    "\n",
    "\n",
    "a_string = input(\"Enter a string: \")\n",
    "\n",
    "def palindrome_checker(a_string):\n",
    "    size = len(a_string)//2\n",
    "    neg_index = -1\n",
    "    not_palindrome = False\n",
    "    for index in range(0, size+1):\n",
    "        if a_string[index] == \" \":\n",
    "            continue\n",
    "        if a_string[index] != a_string[neg_index]:\n",
    "            return \"Not a palindrome\"\n",
    "        else:\n",
    "             return \"Palindrome\"\n",
    "        neg_index -= 1\n",
    "print(palindrome_checker(a_string))"
   ]
  },
  {
   "cell_type": "code",
   "execution_count": 20,
   "metadata": {},
   "outputs": [
    {
     "name": "stdout",
     "output_type": "stream",
     "text": [
      "Enter the number of days: 4000\n",
      "10 years, 11 months and 20 days"
     ]
    }
   ],
   "source": [
    "#task 08\n",
    "\n",
    "\n",
    "\n",
    "\n",
    "\n",
    "\n",
    "\n",
    "\n",
    "number_of_days = int(input(\"Enter the number of days: \"))\n",
    "\n",
    "def calculate_time(number_of_days):\n",
    "    year = int(number_of_days / 365)\n",
    "    month = int((number_of_days % 365) / 30)\n",
    "    day = int((number_of_days % 365) % 30)\n",
    "    print(year, \"years\", end = \", \")\n",
    "    print(month, \"months\", end = \" and \")\n",
    "    print(day, \"days\", end = \"\")\n",
    "    \n",
    "calculate_time(number_of_days)"
   ]
  },
  {
   "cell_type": "code",
   "execution_count": 21,
   "metadata": {},
   "outputs": [
    {
     "name": "stdout",
     "output_type": "stream",
     "text": [
      "My favourite animal is a dog. A dog has sharp teeth so that it can eat flesh very easily. Do you know my pet dog's name? I love my pet very much.\n"
     ]
    }
   ],
   "source": [
    "#task 09\n",
    "\n",
    "\n",
    "\n",
    "\n",
    "\n",
    "\n",
    "\n",
    "\n",
    "\n",
    "\n",
    "\n",
    "def capitalization(a_string):\n",
    "    list1 = [\".\", \"!\", \"?\"]\n",
    "    uppercase_list = []\n",
    "    new_string = \"\"\n",
    "    new_string += a_string[0].upper()\n",
    "    count = 0\n",
    "    \n",
    "    for i in range (1, len(a_string)):\n",
    "        if a_string[i] in list1:\n",
    "            while len(a_string)-1 > i:\n",
    "                if 97 <= ord(a_string[i+count]) <= 122:\n",
    "                    if (i+count) not in uppercase_list:\n",
    "                        uppercase_list.append(i+count)\n",
    "                    break\n",
    "                count += 1\n",
    "        elif (a_string[i-1] == \" \") and (a_string[i] == \"i\") and (a_string[i+1] == \" \"):\n",
    "            if i not in uppercase_list:\n",
    "                uppercase_list.append(i)\n",
    "        else:\n",
    "            continue\n",
    "    \n",
    "    for j in range(1, len(a_string)):\n",
    "        if j not in uppercase_list:\n",
    "            new_string += a_string[j]\n",
    "        else:\n",
    "            new_string += a_string[j].upper()\n",
    "    return new_string\n",
    "\n",
    "print(capitalization(\"my favourite animal is a dog. a dog has sharp teeth so that it can eat flesh very easily. do you know my pet dog's name? i love my pet very much.\"))"
   ]
  },
  {
   "cell_type": "code",
   "execution_count": null,
   "metadata": {},
   "outputs": [],
   "source": []
  }
 ],
 "metadata": {
  "kernelspec": {
   "display_name": "Python 3",
   "language": "python",
   "name": "python3"
  },
  "language_info": {
   "codemirror_mode": {
    "name": "ipython",
    "version": 3
   },
   "file_extension": ".py",
   "mimetype": "text/x-python",
   "name": "python",
   "nbconvert_exporter": "python",
   "pygments_lexer": "ipython3",
   "version": "3.7.4"
  }
 },
 "nbformat": 4,
 "nbformat_minor": 2
}
